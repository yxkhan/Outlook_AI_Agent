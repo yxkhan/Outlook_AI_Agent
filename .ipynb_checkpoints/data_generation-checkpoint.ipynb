{
 "cells": [
  {
   "cell_type": "code",
   "execution_count": 2,
   "id": "c1d197cf",
   "metadata": {},
   "outputs": [
    {
     "name": "stdout",
     "output_type": "stream",
     "text": [
      "Collecting faker\n",
      "  Obtaining dependency information for faker from https://files.pythonhosted.org/packages/d7/a1/8936bc8e79af80ca38288dd93ed44ed1f9d63beb25447a4c59e746e01f8d/faker-37.1.0-py3-none-any.whl.metadata\n",
      "  Downloading faker-37.1.0-py3-none-any.whl.metadata (15 kB)\n",
      "Collecting tzdata (from faker)\n",
      "  Obtaining dependency information for tzdata from https://files.pythonhosted.org/packages/5c/23/c7abc0ca0a1526a0774eca151daeb8de62ec457e77262b66b359c3c7679e/tzdata-2025.2-py2.py3-none-any.whl.metadata\n",
      "  Downloading tzdata-2025.2-py2.py3-none-any.whl.metadata (1.4 kB)\n",
      "Downloading faker-37.1.0-py3-none-any.whl (1.9 MB)\n",
      "   ---------------------------------------- 1.9/1.9 MB 8.2 MB/s eta 0:00:00\n",
      "Downloading tzdata-2025.2-py2.py3-none-any.whl (347 kB)\n",
      "   ---------------------------------------- 347.8/347.8 kB 7.2 MB/s eta 0:00:00\n",
      "Installing collected packages: tzdata, faker\n",
      "Successfully installed faker-37.1.0 tzdata-2025.2\n"
     ]
    },
    {
     "name": "stderr",
     "output_type": "stream",
     "text": [
      "\n",
      "[notice] A new release of pip is available: 23.2.1 -> 25.1.1\n",
      "[notice] To update, run: python.exe -m pip install --upgrade pip\n"
     ]
    }
   ],
   "source": [
    "!pip install faker"
   ]
  },
  {
   "cell_type": "code",
   "execution_count": 3,
   "id": "1d47dace",
   "metadata": {},
   "outputs": [],
   "source": [
    "import random\n",
    "import csv\n",
    "from faker import Faker\n",
    "from datetime import datetime, timedelta"
   ]
  },
  {
   "cell_type": "code",
   "execution_count": 6,
   "id": "60e96bed",
   "metadata": {},
   "outputs": [
    {
     "name": "stdout",
     "output_type": "stream",
     "text": [
      "faker.proxy\n"
     ]
    }
   ],
   "source": [
    "print(Faker.__module__)"
   ]
  },
  {
   "cell_type": "code",
   "execution_count": 4,
   "id": "5acb6edd",
   "metadata": {},
   "outputs": [],
   "source": [
    "fake = Faker()"
   ]
  },
  {
   "cell_type": "code",
   "execution_count": 7,
   "id": "3b8d1007",
   "metadata": {},
   "outputs": [],
   "source": [
    "def generate_dummy_meetings_csv(file_name, num_meetings=100):\n",
    "    meeting_types = [\n",
    "        \"Team Standup\", \"Project Kickoff\", \"Client Meeting\", \"Retrospective\",\n",
    "        \"One-on-One\", \"Budget Review\", \"Strategy Planning\", \"Demo Session\",\n",
    "        \"Training Workshop\", \"All Hands Meeting\"\n",
    "    ]\n",
    "    attendees_pool = [fake.name() for _ in range(20)]\n",
    "\n",
    "    with open(file_name, mode=\"w\", newline=\"\", encoding=\"utf-8\") as file:\n",
    "        writer = csv.writer(file)\n",
    "        # Write CSV Header\n",
    "        writer.writerow([\n",
    "            \"Meeting ID\", \"Title\", \"Date\", \"Time\", \"Attendees\",\n",
    "            \"Duration (minutes)\", \"MoM\", \"Transcript\", \"Action Items\"\n",
    "        ])\n",
    "        \n",
    "        for _ in range(num_meetings):\n",
    "            meeting_id = fake.uuid4()\n",
    "            title = random.choice(meeting_types)\n",
    "            date = fake.date_between(start_date=\"-6m\", end_date=\"today\")\n",
    "            start_time = fake.time_object()\n",
    "            duration_minutes = random.choice([15, 30, 45, 60, 90, 120])\n",
    "            end_time = (datetime.combine(datetime.today(), start_time) + timedelta(minutes=duration_minutes)).time()\n",
    "            \n",
    "            num_attendees = random.randint(2, 10)\n",
    "            attendees = random.sample(attendees_pool, num_attendees)\n",
    "            \n",
    "            mom = \"; \".join([fake.sentence() for _ in range(random.randint(2, 5))])\n",
    "            transcript = \"; \".join([f\"{fake.first_name()}: {fake.sentence()}\" for _ in range(random.randint(5, 15))])\n",
    "            action_items = \"; \".join([\n",
    "                f\"{fake.catch_phrase()} (Assigned to: {random.choice(attendees)}, Deadline: {fake.date_between(start_date='today', end_date='+1m').strftime('%Y-%m-%d')})\"\n",
    "                for _ in range(random.randint(1, 5))\n",
    "            ])\n",
    "            \n",
    "            writer.writerow([\n",
    "                meeting_id, title, date.strftime(\"%Y-%m-%d\"),\n",
    "                f\"{start_time.strftime('%H:%M')} - {end_time.strftime('%H:%M')}\",\n",
    "                \", \".join(attendees), duration_minutes, mom, transcript, action_items\n",
    "            ])\n"
   ]
  },
  {
   "cell_type": "code",
   "execution_count": 8,
   "id": "6f10645b",
   "metadata": {},
   "outputs": [],
   "source": [
    "# Generate 100 meetings and save to CSV file\n",
    "generate_dummy_meetings_csv(\"dummy_meetings_data.csv\", 100)"
   ]
  },
  {
   "cell_type": "code",
   "execution_count": 9,
   "id": "8c82937d",
   "metadata": {},
   "outputs": [],
   "source": [
    "import pandas as pd"
   ]
  },
  {
   "cell_type": "code",
   "execution_count": 10,
   "id": "3c06e418",
   "metadata": {},
   "outputs": [],
   "source": [
    "data=pd.read_csv(r\"C:\\Users\\yaseen.khan\\Data Sceince\\Infy-Hackathon\\dummy_meetings_data.csv\")"
   ]
  },
  {
   "cell_type": "code",
   "execution_count": 11,
   "id": "662e0f10",
   "metadata": {},
   "outputs": [
    {
     "data": {
      "text/html": [
       "<div>\n",
       "<style scoped>\n",
       "    .dataframe tbody tr th:only-of-type {\n",
       "        vertical-align: middle;\n",
       "    }\n",
       "\n",
       "    .dataframe tbody tr th {\n",
       "        vertical-align: top;\n",
       "    }\n",
       "\n",
       "    .dataframe thead th {\n",
       "        text-align: right;\n",
       "    }\n",
       "</style>\n",
       "<table border=\"1\" class=\"dataframe\">\n",
       "  <thead>\n",
       "    <tr style=\"text-align: right;\">\n",
       "      <th></th>\n",
       "      <th>Meeting ID</th>\n",
       "      <th>Title</th>\n",
       "      <th>Date</th>\n",
       "      <th>Time</th>\n",
       "      <th>Attendees</th>\n",
       "      <th>Duration (minutes)</th>\n",
       "      <th>MoM</th>\n",
       "      <th>Transcript</th>\n",
       "      <th>Action Items</th>\n",
       "    </tr>\n",
       "  </thead>\n",
       "  <tbody>\n",
       "    <tr>\n",
       "      <th>0</th>\n",
       "      <td>64ade867-8ca5-44c0-9c53-7ea6530a08bf</td>\n",
       "      <td>Team Standup</td>\n",
       "      <td>2025-05-05</td>\n",
       "      <td>10:00 - 10:15</td>\n",
       "      <td>Mary Meza, Chris Travis, Jennifer Arnold, Hann...</td>\n",
       "      <td>15</td>\n",
       "      <td>Matter their lose firm think owner.; Program g...</td>\n",
       "      <td>Erica: During across sing author.; Darlene: Ty...</td>\n",
       "      <td>Robust intermediate artificial intelligence (A...</td>\n",
       "    </tr>\n",
       "    <tr>\n",
       "      <th>1</th>\n",
       "      <td>883ef9e3-33dc-4fb8-b0f1-7b061caa6c43</td>\n",
       "      <td>Retrospective</td>\n",
       "      <td>2025-05-05</td>\n",
       "      <td>17:44 - 18:14</td>\n",
       "      <td>Geoffrey Garcia, Aaron Cooley, Jeffrey Bell, J...</td>\n",
       "      <td>30</td>\n",
       "      <td>Me free establish white.; Ready conference tea...</td>\n",
       "      <td>Monica: Drive deep amount sister key.; Kelly: ...</td>\n",
       "      <td>Customer-focused next generation superstructur...</td>\n",
       "    </tr>\n",
       "    <tr>\n",
       "      <th>2</th>\n",
       "      <td>6786726e-4b57-4fc7-8497-9900c37ae2ba</td>\n",
       "      <td>Team Standup</td>\n",
       "      <td>2025-05-05</td>\n",
       "      <td>00:50 - 02:50</td>\n",
       "      <td>Jeffrey Bell, Geoffrey Garcia</td>\n",
       "      <td>120</td>\n",
       "      <td>Billion against loss born example.; Look make ...</td>\n",
       "      <td>Christopher: Me wear garden able travel point....</td>\n",
       "      <td>Reverse-engineered stable secured line (Assign...</td>\n",
       "    </tr>\n",
       "    <tr>\n",
       "      <th>3</th>\n",
       "      <td>761debda-fd2b-4f56-8359-2ef7a1783372</td>\n",
       "      <td>Budget Review</td>\n",
       "      <td>2025-05-05</td>\n",
       "      <td>06:50 - 08:50</td>\n",
       "      <td>Hannah Baird, Bernard Andrews, Robert Dean, Ch...</td>\n",
       "      <td>120</td>\n",
       "      <td>Beautiful yet reach instead clear sit newspape...</td>\n",
       "      <td>Breanna: Begin career song compare inside surf...</td>\n",
       "      <td>Face-to-face human-resource model (Assigned to...</td>\n",
       "    </tr>\n",
       "    <tr>\n",
       "      <th>4</th>\n",
       "      <td>2796e281-34c6-4352-ab21-554d9fbfc36f</td>\n",
       "      <td>Retrospective</td>\n",
       "      <td>2025-05-05</td>\n",
       "      <td>04:45 - 05:15</td>\n",
       "      <td>Jenna Estrada, Mary Meza, Robert Dean, Charles...</td>\n",
       "      <td>30</td>\n",
       "      <td>With star lot fear.; Hour unit generation loca...</td>\n",
       "      <td>Michael: Couple address population east.; Bria...</td>\n",
       "      <td>Public-key optimizing secured line (Assigned t...</td>\n",
       "    </tr>\n",
       "  </tbody>\n",
       "</table>\n",
       "</div>"
      ],
      "text/plain": [
       "                             Meeting ID          Title        Date  \\\n",
       "0  64ade867-8ca5-44c0-9c53-7ea6530a08bf   Team Standup  2025-05-05   \n",
       "1  883ef9e3-33dc-4fb8-b0f1-7b061caa6c43  Retrospective  2025-05-05   \n",
       "2  6786726e-4b57-4fc7-8497-9900c37ae2ba   Team Standup  2025-05-05   \n",
       "3  761debda-fd2b-4f56-8359-2ef7a1783372  Budget Review  2025-05-05   \n",
       "4  2796e281-34c6-4352-ab21-554d9fbfc36f  Retrospective  2025-05-05   \n",
       "\n",
       "            Time                                          Attendees  \\\n",
       "0  10:00 - 10:15  Mary Meza, Chris Travis, Jennifer Arnold, Hann...   \n",
       "1  17:44 - 18:14  Geoffrey Garcia, Aaron Cooley, Jeffrey Bell, J...   \n",
       "2  00:50 - 02:50                      Jeffrey Bell, Geoffrey Garcia   \n",
       "3  06:50 - 08:50  Hannah Baird, Bernard Andrews, Robert Dean, Ch...   \n",
       "4  04:45 - 05:15  Jenna Estrada, Mary Meza, Robert Dean, Charles...   \n",
       "\n",
       "   Duration (minutes)                                                MoM  \\\n",
       "0                  15  Matter their lose firm think owner.; Program g...   \n",
       "1                  30  Me free establish white.; Ready conference tea...   \n",
       "2                 120  Billion against loss born example.; Look make ...   \n",
       "3                 120  Beautiful yet reach instead clear sit newspape...   \n",
       "4                  30  With star lot fear.; Hour unit generation loca...   \n",
       "\n",
       "                                          Transcript  \\\n",
       "0  Erica: During across sing author.; Darlene: Ty...   \n",
       "1  Monica: Drive deep amount sister key.; Kelly: ...   \n",
       "2  Christopher: Me wear garden able travel point....   \n",
       "3  Breanna: Begin career song compare inside surf...   \n",
       "4  Michael: Couple address population east.; Bria...   \n",
       "\n",
       "                                        Action Items  \n",
       "0  Robust intermediate artificial intelligence (A...  \n",
       "1  Customer-focused next generation superstructur...  \n",
       "2  Reverse-engineered stable secured line (Assign...  \n",
       "3  Face-to-face human-resource model (Assigned to...  \n",
       "4  Public-key optimizing secured line (Assigned t...  "
      ]
     },
     "execution_count": 11,
     "metadata": {},
     "output_type": "execute_result"
    }
   ],
   "source": [
    "data.head()"
   ]
  },
  {
   "cell_type": "code",
   "execution_count": null,
   "id": "a4066695",
   "metadata": {},
   "outputs": [],
   "source": []
  }
 ],
 "metadata": {
  "kernelspec": {
   "display_name": "Python 3 (ipykernel)",
   "language": "python",
   "name": "python3"
  },
  "language_info": {
   "codemirror_mode": {
    "name": "ipython",
    "version": 3
   },
   "file_extension": ".py",
   "mimetype": "text/x-python",
   "name": "python",
   "nbconvert_exporter": "python",
   "pygments_lexer": "ipython3",
   "version": "3.9.13"
  }
 },
 "nbformat": 4,
 "nbformat_minor": 5
}
