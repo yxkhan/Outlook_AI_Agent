{
 "cells": [
  {
   "cell_type": "code",
   "execution_count": 6,
   "id": "a4043aa8-e477-4307-9fa6-eb90f644403d",
   "metadata": {},
   "outputs": [],
   "source": [
    "import pandas as pd\n",
    "import random\n",
    "from faker import Faker\n",
    "from datetime import datetime"
   ]
  },
  {
   "cell_type": "code",
   "execution_count": 7,
   "id": "7f6755fd-6181-4128-977e-109d1e0fbae7",
   "metadata": {},
   "outputs": [],
   "source": [
    "fake = Faker()"
   ]
  },
  {
   "cell_type": "code",
   "execution_count": 8,
   "id": "783c64da-de8b-4419-9dc0-bf3f415a4b1a",
   "metadata": {},
   "outputs": [],
   "source": [
    "# Sample meeting types and locations\n",
    "meeting_types = [\"Team Sync\", \"Client Meeting\", \"Sprint Planning\", \"Retrospective\", \"Project Kickoff\"]\n",
    "locations = [\"Zoom\", \"Microsoft Teams\", \"Google Meet\", \"Conference Room A\", \"Board Room\", \"Skype\"]"
   ]
  },
  {
   "cell_type": "code",
   "execution_count": 9,
   "id": "dbbee7c6-ea1d-47e3-a9ee-92a4ef1f96d2",
   "metadata": {},
   "outputs": [],
   "source": [
    "# Helper function to generate MoM content\n",
    "def generate_mom(index, include_yaseen_action=False):\n",
    "    base_summaries = [\n",
    "        \"The team reviewed the quarterly sales performance and discussed areas for improvement.\",\n",
    "        \"Marketing strategies for the upcoming product launch were finalized.\",\n",
    "        \"Customer feedback from the last sprint demo was analyzed and action points were identified.\",\n",
    "        \"The integration of the new CRM system was discussed along with migration timelines.\",\n",
    "        \"Security audit findings were presented and resolutions were assigned.\",\n",
    "        \"Team discussed the roadmap for the next quarter and potential staffing changes.\",\n",
    "        \"The bug triage session focused on high-priority issues from the last release.\",\n",
    "        \"New onboarding process for remote employees was reviewed and feedback was collected.\",\n",
    "        \"Discussion around budget planning for the next fiscal year took place.\",\n",
    "        \"Retrospective on the failed deployment and learnings from the incident.\"\n",
    "    ]\n",
    "    actions = [\n",
    "        \"- Prepare detailed analytics report.\",\n",
    "        \"- Conduct user testing by next week.\",\n",
    "        \"- Document the updated workflow and share with the team.\",\n",
    "        \"- Escalate unresolved issues to the IT support.\",\n",
    "        \"- Send summary email to stakeholders.\",\n",
    "        \"- Update the project plan with new timelines.\",\n",
    "        \"- Validate changes with the QA team.\",\n",
    "        \"- Setup a follow-up meeting with the finance department.\",\n",
    "        \"- Review vendor contract with legal.\",\n",
    "        \"- Arrange a session on data compliance practices.\"\n",
    "    ]\n",
    "\n",
    "    summary = f\"Meeting Summary:\\n{base_summaries[index % len(base_summaries)]}\\n\\nAction Items:\\n\"\n",
    "    action_list = random.sample(actions, 3)\n",
    "    if include_yaseen_action:\n",
    "        action_list.append(f\"- Yaseen Khan to review the {random.choice(['report', 'integration plan', 'audit logs'])} upon return from leave.\")\n",
    "    return summary + \"\\n\".join(action_list)"
   ]
  },
  {
   "cell_type": "code",
   "execution_count": 10,
   "id": "1f37392c-dcc8-4a9d-9bbd-02c4330ba607",
   "metadata": {},
   "outputs": [],
   "source": [
    "# Helper function to generate transcript content\n",
    "def generate_transcript(index):\n",
    "    base_discussions = [\n",
    "        \"Emma: We need to finalize the vendor for the new security tools.\",\n",
    "        \"James: Can we ensure compliance before the next audit cycle?\",\n",
    "        \"Olivia: I suggest we keep the onboarding entirely digital.\",\n",
    "        \"Liam: We should get Yaseen's inputs on the CRM changes post his return.\",\n",
    "        \"Sophia: The last demo went well, but there's room for improvement.\",\n",
    "        \"Mason: Let's prioritize user stories with high business impact.\",\n",
    "        \"Ava: We need a new dashboard layout for analytics reporting.\",\n",
    "        \"Lucas: Finance team expects the budget proposal by next Friday.\",\n",
    "        \"Isabella: Legal will need two days to review the new contract.\",\n",
    "        \"Mia: We’ll need to reassign some tasks if Yaseen is out longer.\"\n",
    "    ]\n",
    "    decisions = [\n",
    "        \"- Proceed with Vendor A for CRM upgrade.\",\n",
    "        \"- Schedule internal compliance check next Tuesday.\",\n",
    "        \"- Finalize digital onboarding deck and circulate.\",\n",
    "        \"- Designate alternate point-of-contact during Yaseen’s leave.\",\n",
    "        \"- Adjust sprint scope to match velocity metrics.\",\n",
    "        \"- Include accessibility testing in QA plans.\",\n",
    "        \"- Allocate buffer time for feedback incorporation.\",\n",
    "        \"- Confirm scope with legal before signing contracts.\",\n",
    "        \"- Add documentation sprint before release.\",\n",
    "        \"- Push back release by one week due to resource constraints.\"\n",
    "    ]\n",
    "\n",
    "    return f\"Transcript Highlights:\\n{base_discussions[index % len(base_discussions)]}\\n...\\n\\nDecisions Made:\\n{decisions[index % len(decisions)]}\"\n"
   ]
  },
  {
   "cell_type": "code",
   "execution_count": null,
   "id": "87f13925-381a-4f66-86ee-58b4adbe72f1",
   "metadata": {},
   "outputs": [],
   "source": [
    "# Generate meeting data\n",
    "meetings = []\n",
    "for i in range(20):\n",
    "    date = fake.date_time_between(start_date=\"-60d\", end_date=\"now\")\n",
    "    base_minute = random.choice([0, 15, 30, 45])\n",
    "    meeting_start = datetime(date.year, date.month, date.day)\n",
    "    time = datetime(data.hour, base_minute)\n",
    "    duration = random.choice([30, 45, 60, 90])\n",
    "    has_mom = random.choices([True, False], weights=[0.7, 0.3])[0]\n",
    "    has_transcript = False if has_mom else random.choices([True, False], weights=[0.9, 0.1])[0]\n",
    "    include_yaseen_action = has_mom and random.random() < 0.4\n",
    "\n",
    "    attendees = [\"Yaseen Khan\"] + [fake.name() for _ in range(random.randint(2, 6))]\n",
    "\n",
    "    mom_content = generate_mom(i, include_yaseen_action) if has_mom else \"\"\n",
    "    transcript_content = generate_transcript(i) if has_transcript else \"\"\n",
    "\n",
    "    meetings.append({\n",
    "        \"Meeting ID\": f\"MTG{i+1:04d}\",\n",
    "        \"Title\": fake.bs().title(),\n",
    "        \"Date & Time\": meeting_start.strftime(\"%Y-%m-%d\"),\n",
    "        \"Time\": time.strftime(\"%H:%M\"),\n",
    "        \"Duration (mins)\": duration,\n",
    "        \"Attendees\": \", \".join(attendees),\n",
    "        \"Organizer\": fake.name(),\n",
    "        \"Location/Link\": random.choice(locations),\n",
    "        \"Meeting Type\": random.choice(meeting_types),\n",
    "        \"Missed by User\": True,\n",
    "        \"Has MOM\": has_mom,\n",
    "        \"Has Transcript\": has_transcript,\n",
    "        \"MOM Content\": mom_content,\n",
    "        \"Transcript Content\": transcript_content,\n",
    "        \"Recommended Action\": \"\"\n",
    "    })\n"
   ]
  },
  {
   "cell_type": "code",
   "execution_count": null,
   "id": "4d06a984-ef1b-4981-bfe2-fe3493bc1a98",
   "metadata": {},
   "outputs": [],
   "source": [
    "# Save to CSV\n",
    "df = pd.DataFrame(meetings)\n",
    "df.to_csv(\"yaseen_khan_missed_meetings_diverse.csv\", index=False)"
   ]
  },
  {
   "cell_type": "code",
   "execution_count": null,
   "id": "a4c10e1e-c048-4824-ba6d-d05cf94af782",
   "metadata": {},
   "outputs": [],
   "source": []
  },
  {
   "cell_type": "code",
   "execution_count": null,
   "id": "23159ed9-ba9d-45d7-805c-02ad063e8619",
   "metadata": {},
   "outputs": [],
   "source": []
  },
  {
   "cell_type": "code",
   "execution_count": null,
   "id": "9577cf58-438c-4c91-b1ff-acde835ffeb9",
   "metadata": {},
   "outputs": [],
   "source": []
  },
  {
   "cell_type": "code",
   "execution_count": null,
   "id": "80d21055-4c58-47a1-8487-397649b1ba51",
   "metadata": {},
   "outputs": [],
   "source": []
  },
  {
   "cell_type": "code",
   "execution_count": null,
   "id": "a4934f3c-2123-4841-91c8-d59a8f976ede",
   "metadata": {},
   "outputs": [],
   "source": []
  },
  {
   "cell_type": "code",
   "execution_count": null,
   "id": "f07684d8-9c43-45c7-bb91-9c92c3ff4f23",
   "metadata": {},
   "outputs": [],
   "source": []
  },
  {
   "cell_type": "code",
   "execution_count": null,
   "id": "1f453ebb-db47-4fe0-95ec-50bbd6be01d1",
   "metadata": {},
   "outputs": [],
   "source": []
  },
  {
   "cell_type": "code",
   "execution_count": null,
   "id": "ab9471b1-e7b2-4e6e-ba5d-d1a106945ca7",
   "metadata": {},
   "outputs": [],
   "source": []
  },
  {
   "cell_type": "code",
   "execution_count": null,
   "id": "4443cc99-68a7-481a-a194-b04f38e641a9",
   "metadata": {},
   "outputs": [],
   "source": []
  },
  {
   "cell_type": "code",
   "execution_count": null,
   "id": "65e2fda0-35d0-4066-a029-7ec0cdd7af08",
   "metadata": {},
   "outputs": [],
   "source": []
  },
  {
   "cell_type": "code",
   "execution_count": null,
   "id": "47eea570-7d31-40db-8136-9f5db609653e",
   "metadata": {},
   "outputs": [],
   "source": []
  },
  {
   "cell_type": "code",
   "execution_count": null,
   "id": "e4d5afb5-8d8d-4622-afd1-2f8fb5e1e663",
   "metadata": {},
   "outputs": [],
   "source": []
  }
 ],
 "metadata": {
  "kernelspec": {
   "display_name": "Python 3 (ipykernel)",
   "language": "python",
   "name": "python3"
  },
  "language_info": {
   "codemirror_mode": {
    "name": "ipython",
    "version": 3
   },
   "file_extension": ".py",
   "mimetype": "text/x-python",
   "name": "python",
   "nbconvert_exporter": "python",
   "pygments_lexer": "ipython3",
   "version": "3.12.4"
  }
 },
 "nbformat": 4,
 "nbformat_minor": 5
}
