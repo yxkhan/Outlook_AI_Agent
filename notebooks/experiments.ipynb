{
 "cells": [
  {
   "cell_type": "code",
   "execution_count": 1,
   "id": "75703ff9",
   "metadata": {},
   "outputs": [
    {
     "data": {
      "text/plain": [
       "True"
      ]
     },
     "execution_count": 1,
     "metadata": {},
     "output_type": "execute_result"
    }
   ],
   "source": [
    "from dotenv import load_dotenv\n",
    "load_dotenv()"
   ]
  },
  {
   "cell_type": "code",
   "execution_count": 2,
   "id": "b74d2c9d",
   "metadata": {},
   "outputs": [],
   "source": [
    "#setup API key\n",
    "import os\n",
    "OPENAI_API_KEY=os.getenv(\"OPENAI_API_KEY\")"
   ]
  },
  {
   "cell_type": "code",
   "execution_count": 3,
   "id": "9bd13eea",
   "metadata": {},
   "outputs": [],
   "source": [
    "#Setting up the environmet key\n",
    "os.environ[\"OPENAI_API_KEY\"]=OPENAI_API_KEY"
   ]
  },
  {
   "cell_type": "code",
   "execution_count": 19,
   "id": "caa97372",
   "metadata": {},
   "outputs": [],
   "source": [
    "#Lets import the required libraries\n",
    "import pandas as pd\n",
    "from langgraph.graph import StateGraph,MessagesState, START, END\n",
    "from langgraph.graph.message import add_messages\n",
    "from typing import Annotated, Literal, TypedDict, List   #\n",
    "from langchain_core.tools import tool    #for creating Tool\n",
    "from langchain_core.messages import HumanMessage\n",
    "from langgraph.checkpoint.memory import MemorySaver   #To sustain the memory\n",
    "from langgraph.prebuilt import ToolNode     #To create the Nodes for Tool"
   ]
  },
  {
   "cell_type": "code",
   "execution_count": 7,
   "id": "c3497028",
   "metadata": {},
   "outputs": [],
   "source": [
    "# Load the Groq chat model\n",
    "from langchain_groq import ChatGroq\n",
    "openai_model = ChatGroq(\n",
    "    groq_api_key=\"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\",  # Set your API key here or use env variable\n",
    "    model_name=\"gemma2-9b-it\",   # Groq's most capable model\n",
    ")"
   ]
  },
  {
   "cell_type": "code",
   "execution_count": 45,
   "id": "4074d204",
   "metadata": {},
   "outputs": [],
   "source": [
    "#Load the model\n",
    "from langchain_openai import ChatOpenAI\n",
    "openai_model=ChatOpenAI(model=\"gpt-4o\")"
   ]
  },
  {
   "cell_type": "code",
   "execution_count": 48,
   "id": "1859e271",
   "metadata": {},
   "outputs": [
    {
     "data": {
      "text/plain": [
       "AIMessage(content='Hello Yaseen! How can I assist you today?', additional_kwargs={'refusal': None}, response_metadata={'token_usage': {'completion_tokens': 12, 'prompt_tokens': 15, 'total_tokens': 27, 'completion_tokens_details': {'accepted_prediction_tokens': 0, 'audio_tokens': 0, 'reasoning_tokens': 0, 'rejected_prediction_tokens': 0}, 'prompt_tokens_details': {'audio_tokens': 0, 'cached_tokens': 0}}, 'model_name': 'gpt-4o-2024-08-06', 'system_fingerprint': 'fp_76544d79cb', 'id': 'chatcmpl-BbvSOehQ3tbDfTs4qQRze3TM7tTDQ', 'service_tier': 'default', 'finish_reason': 'stop', 'logprobs': None}, id='run--308db098-a14c-4e7c-9e67-8de6ff51780a-0', usage_metadata={'input_tokens': 15, 'output_tokens': 12, 'total_tokens': 27, 'input_token_details': {'audio': 0, 'cache_read': 0}, 'output_token_details': {'audio': 0, 'reasoning': 0}})"
      ]
     },
     "execution_count": 48,
     "metadata": {},
     "output_type": "execute_result"
    }
   ],
   "source": [
    "openai_model.invoke('Hi, My Name is Yaseen')"
   ]
  },
  {
   "cell_type": "code",
   "execution_count": 12,
   "id": "c7071c31",
   "metadata": {},
   "outputs": [],
   "source": [
    "#We have our model ready, now lets create a Tool"
   ]
  },
  {
   "cell_type": "code",
   "execution_count": 49,
   "id": "515711da",
   "metadata": {},
   "outputs": [],
   "source": [
    "#Load meeting data\n",
    "@tool\n",
    "def load_meeting_data() -> List[TypedDict]:\n",
    "    \"\"\"Tool to load meeting data from a CSV file.\"\"\"\n",
    "    df = pd.read_csv(\"yaseen_khan_missed_meetings_2.csv\")\n",
    "    meetings = df.to_dict(orient=\"records\")\n",
    "    return meetings"
   ]
  },
  {
   "cell_type": "code",
   "execution_count": 95,
   "id": "a4fac0de",
   "metadata": {},
   "outputs": [],
   "source": [
    "def load_meeting_data() -> List[TypedDict]:\n",
    "    \"\"\"Tool to load meeting data from a CSV file.\"\"\"\n",
    "    df = pd.read_csv(\"yaseen_khan_missed_meetings_2.csv\")\n",
    "    meetings = df.to_dict(orient=\"records\")\n",
    "    return meetings"
   ]
  },
  {
   "cell_type": "code",
   "execution_count": 106,
   "id": "02be6ccb",
   "metadata": {},
   "outputs": [
    {
     "name": "stdout",
     "output_type": "stream",
     "text": [
      "{'Meeting_ID': 'MTG0001', 'Title': 'Whiteboard Web-Enabled Roi', 'Date_Time': '4/27/2025 12:00', 'Duration': 15, 'Attendees': 'Yaseen Khan, Lauren Raymond, James Mccoy, Mrs. Amanda Barron, Kelsey Clayton, Jose Parker, Sarah Hall', 'Organizer': 'Tim Brown', 'Location/Link': 'Microsoft Teams', 'Meeting Type': 'Retrospective', 'Missed by User': True, 'Has MOM': True, 'Has Transcript': False, 'MOM Content': 'Meeting Summary:\\nThe team reviewed the quarterly sales performance and discussed areas for improvement.\\n\\nAction Items:\\n- Prepare detailed analytics report.\\n- Escalate unresolved issues to the IT support.\\n- Arrange a session on data compliance practices.', 'Transcript Content': nan, 'Recommended Action': nan}\n",
      "{'Meeting_ID': 'MTG0002', 'Title': 'Deliver Frictionless E-Markets', 'Date_Time': '4/29/2025 15:00', 'Duration': 30, 'Attendees': 'Yaseen Khan, April Hancock, Meghan Mckinney, Ricardo Cole', 'Organizer': 'George Hawkins', 'Location/Link': 'Zoom', 'Meeting Type': 'Team Sync', 'Missed by User': True, 'Has MOM': True, 'Has Transcript': False, 'MOM Content': 'Meeting Summary:\\nMarketing strategies for the upcoming product launch were finalized.\\n\\nAction Items:\\n- Escalate unresolved issues to the IT support.\\n- Validate changes with the QA team.\\n- Update the project plan with new timelines.', 'Transcript Content': nan, 'Recommended Action': nan}\n",
      "{'Meeting_ID': 'MTG0003', 'Title': 'Envisioneer Front-End Supply-Chains', 'Date_Time': '5/1/2025 14:30', 'Duration': 60, 'Attendees': 'Yaseen Khan, Michelle Elliott, Eric Phelps, Elizabeth Burton, Nicholas Martinez', 'Organizer': 'Sheryl Miller', 'Location/Link': 'Conference Room A', 'Meeting Type': 'Client Meeting', 'Missed by User': True, 'Has MOM': True, 'Has Transcript': False, 'MOM Content': 'Meeting Summary:\\nCustomer feedback from the last sprint demo was analyzed and action points were identified.\\n\\nAction Items:\\n- Document the updated workflow and share with the team.\\n- Validate changes with the QA team.\\n- Arrange a session on data compliance practices.\\n- Yaseen Khan to review the audit logs upon return from leave.', 'Transcript Content': nan, 'Recommended Action': nan}\n",
      "{'Meeting_ID': 'MTG0004', 'Title': 'Synthesize Compelling Synergies', 'Date_Time': '5/2/2025 14:15', 'Duration': 45, 'Attendees': 'Yaseen Khan, Dr. Gary Mueller, Andrew Wright, Albert Stokes, Vanessa Rivera, Michael Tucker, James Moore', 'Organizer': 'Kelly Ford', 'Location/Link': 'Microsoft Teams', 'Meeting Type': 'Project Kickoff', 'Missed by User': True, 'Has MOM': True, 'Has Transcript': False, 'MOM Content': 'Meeting Summary:\\nThe integration of the new CRM system was discussed along with migration timelines.\\n\\nAction Items:\\n- Document the updated workflow and share with the team.\\n- Validate changes with the QA team.\\n- Prepare detailed analytics report.\\n- Yaseen Khan to review the report upon return from leave.', 'Transcript Content': nan, 'Recommended Action': nan}\n",
      "{'Meeting_ID': 'MTG0005', 'Title': 'Iterate Interactive E-Business', 'Date_Time': '5/2/2025 16:15', 'Duration': 45, 'Attendees': 'Yaseen Khan, Charles Perry, Vincent Aguirre, Scott Pace, Kelsey Martin, Lisa Fleming', 'Organizer': 'Melissa Patterson', 'Location/Link': 'Microsoft Teams', 'Meeting Type': 'Retrospective', 'Missed by User': True, 'Has MOM': False, 'Has Transcript': True, 'MOM Content': nan, 'Transcript Content': \"Transcript Highlights:\\nSophia: The last demo went well, but there's room for improvement.\\n...\\n\\nDecisions Made:\\n- Adjust sprint scope to match velocity metrics.\", 'Recommended Action': nan}\n",
      "{'Meeting_ID': 'MTG0006', 'Title': 'Disintermediate Visionary Systems', 'Date_Time': '5/5/2025 9:30', 'Duration': 60, 'Attendees': 'Yaseen Khan, Michael Garrison, Amy Moon, Dorothy Howell, Melody Cervantes', 'Organizer': 'Sandra Snyder', 'Location/Link': 'Board Room', 'Meeting Type': 'Project Kickoff', 'Missed by User': True, 'Has MOM': False, 'Has Transcript': True, 'MOM Content': nan, 'Transcript Content': \"Transcript Highlights:\\nMason: Let's prioritize user stories with high business impact.\\n...\\n\\nDecisions Made:\\n- Include accessibility testing in QA plans.\", 'Recommended Action': nan}\n",
      "{'Meeting_ID': 'MTG0007', 'Title': 'Deliver Magnetic Experiences', 'Date_Time': '5/6/2025 12:45', 'Duration': 30, 'Attendees': 'Yaseen Khan, Robert Cole, Grant Dixon, Jason Miller', 'Organizer': 'Nicole Simpson', 'Location/Link': 'Board Room', 'Meeting Type': 'Sprint Planning', 'Missed by User': True, 'Has MOM': True, 'Has Transcript': False, 'MOM Content': 'Meeting Summary:\\nThe bug triage session focused on high-priority issues from the last release.\\n\\nAction Items:\\n- Review vendor contract with legal.\\n- Send summary email to stakeholders.\\n- Setup a follow-up meeting with the finance department.', 'Transcript Content': nan, 'Recommended Action': nan}\n",
      "{'Meeting_ID': 'MTG0008', 'Title': 'Synthesize World-Class Experiences', 'Date_Time': '5/7/2025 14:30', 'Duration': 15, 'Attendees': 'Yaseen Khan, Alex Hale, James Brady, Anita Johnson, Christine Moyer, Andrea Moore, John Mitchell', 'Organizer': 'Gloria Tate', 'Location/Link': 'Conference Room A', 'Meeting Type': 'Client Meeting', 'Missed by User': True, 'Has MOM': True, 'Has Transcript': False, 'MOM Content': 'Meeting Summary:\\nNew onboarding process for remote employees was reviewed and feedback was collected.\\n\\nAction Items:\\n- Send summary email to stakeholders.\\n- Update the project plan with new timelines.\\n- Review vendor contract with legal.', 'Transcript Content': nan, 'Recommended Action': nan}\n",
      "{'Meeting_ID': 'MTG0009', 'Title': 'Scale Cross-Media Portals', 'Date_Time': '5/9/2025 14:15', 'Duration': 30, 'Attendees': 'Yaseen Khan, Jeffrey Greene, Matthew Hughes, Tyler Thompson, Adam Osborne, Alexander Jones, Steven Nicholson', 'Organizer': 'Bianca Ramos', 'Location/Link': 'Microsoft Teams', 'Meeting Type': 'Retrospective', 'Missed by User': True, 'Has MOM': True, 'Has Transcript': False, 'MOM Content': 'Meeting Summary:\\nDiscussion around budget planning for the next fiscal year took place.\\n\\nAction Items:\\n- Document the updated workflow and share with the team.\\n- Escalate unresolved issues to the IT support.\\n- Send summary email to stakeholders.', 'Transcript Content': nan, 'Recommended Action': nan}\n",
      "{'Meeting_ID': 'MTG0010', 'Title': 'Monetize Mission-Critical Portals', 'Date_Time': '5/9/2025 16:15', 'Duration': 45, 'Attendees': 'Yaseen Khan, Susan Harrison, Stephen Curtis, Tiffany Kelley, Hannah Gonzalez', 'Organizer': 'Lauren Jenkins', 'Location/Link': 'Conference Room A', 'Meeting Type': 'Client Meeting', 'Missed by User': True, 'Has MOM': True, 'Has Transcript': False, 'MOM Content': 'Meeting Summary:\\nRetrospective on the failed deployment and learnings from the incident.\\n\\nAction Items:\\n- Update the project plan with new timelines.\\n- Conduct user testing by next week.\\n- Escalate unresolved issues to the IT support.\\n- Yaseen Khan to review the audit logs upon return from leave.', 'Transcript Content': nan, 'Recommended Action': nan}\n",
      "{'Meeting_ID': 'MTG0011', 'Title': 'Benchmark One-To-One Metrics', 'Date_Time': '5/9/2025 16:45', 'Duration': 45, 'Attendees': 'Yaseen Khan, Kevin Mccormick, Rebecca Pruitt, Karen Richardson, Paul Hahn, Daniel Ford, Stacy Watson', 'Organizer': 'Justin Mccoy', 'Location/Link': 'Zoom', 'Meeting Type': 'Sprint Planning', 'Missed by User': True, 'Has MOM': True, 'Has Transcript': False, 'MOM Content': 'Meeting Summary:\\nThe team reviewed the quarterly sales performance and discussed areas for improvement.\\n\\nAction Items:\\n- Conduct user testing by next week.\\n- Validate changes with the QA team.\\n- Escalate unresolved issues to the IT support.', 'Transcript Content': nan, 'Recommended Action': nan}\n",
      "{'Meeting_ID': 'MTG0012', 'Title': 'Incubate Cross-Media Niches', 'Date_Time': '5/10/2025 12:45', 'Duration': 60, 'Attendees': 'Yaseen Khan, Rhonda Williamson, Sandra Hunt, Marcus Everett, Bradley Tucker', 'Organizer': 'Leslie Harris', 'Location/Link': 'Zoom', 'Meeting Type': 'Team Sync', 'Missed by User': True, 'Has MOM': False, 'Has Transcript': True, 'MOM Content': nan, 'Transcript Content': 'Transcript Highlights:\\nJames: Can we ensure compliance before the next audit cycle?\\n...\\n\\nDecisions Made:\\n- Schedule internal compliance check next Tuesday.', 'Recommended Action': nan}\n",
      "{'Meeting_ID': 'MTG0013', 'Title': 'Reinvent 24/7 E-Business', 'Date_Time': '5/10/2025 17:15', 'Duration': 45, 'Attendees': 'Yaseen Khan, Renee Jordan, Joe Allen', 'Organizer': 'Leah Smith', 'Location/Link': 'Board Room', 'Meeting Type': 'Team Sync', 'Missed by User': True, 'Has MOM': True, 'Has Transcript': False, 'MOM Content': 'Meeting Summary:\\nCustomer feedback from the last sprint demo was analyzed and action points were identified.\\n\\nAction Items:\\n- Review vendor contract with legal.\\n- Conduct user testing by next week.\\n- Escalate unresolved issues to the IT support.\\n- Yaseen Khan to review the integration plan upon return from leave.', 'Transcript Content': nan, 'Recommended Action': nan}\n",
      "{'Meeting_ID': 'MTG0014', 'Title': 'Embrace Real-Time Action-Items', 'Date_Time': '5/11/2025 10:30', 'Duration': 60, 'Attendees': 'Yaseen Khan, Roger Cox, Kevin Blackwell, Elizabeth Williams, Michael Perry, Angela Ross, Eric Miranda', 'Organizer': 'Stacy Wilson', 'Location/Link': 'Board Room', 'Meeting Type': 'Team Sync', 'Missed by User': True, 'Has MOM': False, 'Has Transcript': True, 'MOM Content': nan, 'Transcript Content': \"Transcript Highlights:\\nLiam: We should get Yaseen's inputs on the CRM changes post his return.\\n...\\n\\nDecisions Made:\\n- Designate alternate point-of-contact during Yaseen’s leave.\", 'Recommended Action': nan}\n",
      "{'Meeting_ID': 'MTG0015', 'Title': 'Deploy Real-Time Mindshare', 'Date_Time': '5/15/2025 10:45', 'Duration': 45, 'Attendees': 'Yaseen Khan, James Neal, Douglas Page, Carlos Fisher, Casey Martin', 'Organizer': 'Andrea Barton', 'Location/Link': 'Board Room', 'Meeting Type': 'Sprint Planning', 'Missed by User': True, 'Has MOM': True, 'Has Transcript': False, 'MOM Content': 'Meeting Summary:\\nSecurity audit findings were presented and resolutions were assigned.\\n\\nAction Items:\\n- Review vendor contract with legal.\\n- Conduct user testing by next week.\\n- Prepare detailed analytics report.\\n- Yaseen Khan to review the integration plan upon return from leave.', 'Transcript Content': nan, 'Recommended Action': nan}\n",
      "{'Meeting_ID': 'MTG0016', 'Title': 'Disintermediate Leading-Edge Markets', 'Date_Time': '5/15/2025 12:45', 'Duration': 45, 'Attendees': 'Yaseen Khan, Anthony Johnson, Amy Cox, Taylor Ball, Ariana Lindsey, Jason Lynch, William Warren', 'Organizer': 'Zachary Myers', 'Location/Link': 'Microsoft Teams', 'Meeting Type': 'Sprint Planning', 'Missed by User': True, 'Has MOM': True, 'Has Transcript': False, 'MOM Content': 'Meeting Summary:\\nTeam discussed the roadmap for the next quarter and potential staffing changes.\\n\\nAction Items:\\n- Conduct user testing by next week.\\n- Arrange a session on data compliance practices.\\n- Validate changes with the QA team.\\n- Yaseen Khan to review the audit logs upon return from leave.', 'Transcript Content': nan, 'Recommended Action': nan}\n",
      "{'Meeting_ID': 'MTG0017', 'Title': 'Morph Mission-Critical Interfaces', 'Date_Time': '5/19/2025 14:30', 'Duration': 15, 'Attendees': 'Yaseen Khan, Destiny Valdez, Richard Frost, Scott Jackson, Austin Mack, Jose Morgan', 'Organizer': 'Stephanie Andrews', 'Location/Link': 'Conference Room A', 'Meeting Type': 'Retrospective', 'Missed by User': True, 'Has MOM': False, 'Has Transcript': True, 'MOM Content': nan, 'Transcript Content': 'Transcript Highlights:\\nAva: We need a new dashboard layout for analytics reporting.\\n...\\n\\nDecisions Made:\\n- Allocate buffer time for feedback incorporation.', 'Recommended Action': nan}\n",
      "{'Meeting_ID': 'MTG0018', 'Title': 'Strategize Granular Supply-Chains', 'Date_Time': '5/21/2025 9:00', 'Duration': 30, 'Attendees': 'Yaseen Khan, Bradley Palmer, Jasmin Reynolds, Cynthia Hahn, Lauren Stevenson, Mrs. Annette Lester MD, Adam Boyd', 'Organizer': 'Barbara Alexander', 'Location/Link': 'Conference Room A', 'Meeting Type': 'Retrospective', 'Missed by User': True, 'Has MOM': True, 'Has Transcript': False, 'MOM Content': 'Meeting Summary:\\nNew onboarding process for remote employees was reviewed and feedback was collected.\\n\\nAction Items:\\n- Document the updated workflow and share with the team.\\n- Update the project plan with new timelines.\\n- Conduct user testing by next week.', 'Transcript Content': nan, 'Recommended Action': nan}\n",
      "{'Meeting_ID': 'MTG0019', 'Title': 'Target Global Systems', 'Date_Time': '5/25/2025 12:00', 'Duration': 45, 'Attendees': 'Yaseen Khan, Lorraine Lopez, Kaitlin Morris', 'Organizer': 'Troy Ballard', 'Location/Link': 'Zoom', 'Meeting Type': 'Retrospective', 'Missed by User': True, 'Has MOM': True, 'Has Transcript': False, 'MOM Content': 'Meeting Summary:\\nDiscussion around budget planning for the next fiscal year took place.\\n\\nAction Items:\\n- Document the updated workflow and share with the team.\\n- Arrange a session on data compliance practices.\\n- Setup a follow-up meeting with the finance department.\\n- Yaseen Khan to review the integration plan upon return from leave.', 'Transcript Content': nan, 'Recommended Action': nan}\n",
      "{'Meeting_ID': 'MTG0020', 'Title': 'Repurpose Mission-Critical Functionalities', 'Date_Time': '5/25/2025 12:45', 'Duration': 30, 'Attendees': 'Yaseen Khan, Isaac Brown, Linda Myers', 'Organizer': 'Mrs. Jennifer Moss', 'Location/Link': 'Board Room', 'Meeting Type': 'Project Kickoff', 'Missed by User': True, 'Has MOM': False, 'Has Transcript': True, 'MOM Content': nan, 'Transcript Content': 'Transcript Highlights:\\nMia: We’ll need to reassign some tasks if Yaseen is out longer.\\n...\\n\\nDecisions Made:\\n- Push back release by one week due to resource constraints.', 'Recommended Action': nan}\n"
     ]
    }
   ],
   "source": [
    "data=load_meeting_data()\n",
    "for i in data:\n",
    "    print(i)"
   ]
  },
  {
   "cell_type": "code",
   "execution_count": 109,
   "id": "8d590ad7",
   "metadata": {},
   "outputs": [
    {
     "data": {
      "text/plain": [
       "[{'Meeting_ID': 'MTG0001',\n",
       "  'Title': 'Whiteboard Web-Enabled Roi',\n",
       "  'Date_Time': '4/27/2025 12:00',\n",
       "  'Duration': 15,\n",
       "  'Attendees': 'Yaseen Khan, Lauren Raymond, James Mccoy, Mrs. Amanda Barron, Kelsey Clayton, Jose Parker, Sarah Hall',\n",
       "  'Organizer': 'Tim Brown',\n",
       "  'Location/Link': 'Microsoft Teams',\n",
       "  'Meeting Type': 'Retrospective',\n",
       "  'Missed by User': True,\n",
       "  'Has MOM': True,\n",
       "  'Has Transcript': False,\n",
       "  'MOM Content': 'Meeting Summary:\\nThe team reviewed the quarterly sales performance and discussed areas for improvement.\\n\\nAction Items:\\n- Prepare detailed analytics report.\\n- Escalate unresolved issues to the IT support.\\n- Arrange a session on data compliance practices.',\n",
       "  'Transcript Content': nan,\n",
       "  'Recommended Action': nan},\n",
       " {'Meeting_ID': 'MTG0002',\n",
       "  'Title': 'Deliver Frictionless E-Markets',\n",
       "  'Date_Time': '4/29/2025 15:00',\n",
       "  'Duration': 30,\n",
       "  'Attendees': 'Yaseen Khan, April Hancock, Meghan Mckinney, Ricardo Cole',\n",
       "  'Organizer': 'George Hawkins',\n",
       "  'Location/Link': 'Zoom',\n",
       "  'Meeting Type': 'Team Sync',\n",
       "  'Missed by User': True,\n",
       "  'Has MOM': True,\n",
       "  'Has Transcript': False,\n",
       "  'MOM Content': 'Meeting Summary:\\nMarketing strategies for the upcoming product launch were finalized.\\n\\nAction Items:\\n- Escalate unresolved issues to the IT support.\\n- Validate changes with the QA team.\\n- Update the project plan with new timelines.',\n",
       "  'Transcript Content': nan,\n",
       "  'Recommended Action': nan},\n",
       " {'Meeting_ID': 'MTG0003',\n",
       "  'Title': 'Envisioneer Front-End Supply-Chains',\n",
       "  'Date_Time': '5/1/2025 14:30',\n",
       "  'Duration': 60,\n",
       "  'Attendees': 'Yaseen Khan, Michelle Elliott, Eric Phelps, Elizabeth Burton, Nicholas Martinez',\n",
       "  'Organizer': 'Sheryl Miller',\n",
       "  'Location/Link': 'Conference Room A',\n",
       "  'Meeting Type': 'Client Meeting',\n",
       "  'Missed by User': True,\n",
       "  'Has MOM': True,\n",
       "  'Has Transcript': False,\n",
       "  'MOM Content': 'Meeting Summary:\\nCustomer feedback from the last sprint demo was analyzed and action points were identified.\\n\\nAction Items:\\n- Document the updated workflow and share with the team.\\n- Validate changes with the QA team.\\n- Arrange a session on data compliance practices.\\n- Yaseen Khan to review the audit logs upon return from leave.',\n",
       "  'Transcript Content': nan,\n",
       "  'Recommended Action': nan},\n",
       " {'Meeting_ID': 'MTG0004',\n",
       "  'Title': 'Synthesize Compelling Synergies',\n",
       "  'Date_Time': '5/2/2025 14:15',\n",
       "  'Duration': 45,\n",
       "  'Attendees': 'Yaseen Khan, Dr. Gary Mueller, Andrew Wright, Albert Stokes, Vanessa Rivera, Michael Tucker, James Moore',\n",
       "  'Organizer': 'Kelly Ford',\n",
       "  'Location/Link': 'Microsoft Teams',\n",
       "  'Meeting Type': 'Project Kickoff',\n",
       "  'Missed by User': True,\n",
       "  'Has MOM': True,\n",
       "  'Has Transcript': False,\n",
       "  'MOM Content': 'Meeting Summary:\\nThe integration of the new CRM system was discussed along with migration timelines.\\n\\nAction Items:\\n- Document the updated workflow and share with the team.\\n- Validate changes with the QA team.\\n- Prepare detailed analytics report.\\n- Yaseen Khan to review the report upon return from leave.',\n",
       "  'Transcript Content': nan,\n",
       "  'Recommended Action': nan},\n",
       " {'Meeting_ID': 'MTG0005',\n",
       "  'Title': 'Iterate Interactive E-Business',\n",
       "  'Date_Time': '5/2/2025 16:15',\n",
       "  'Duration': 45,\n",
       "  'Attendees': 'Yaseen Khan, Charles Perry, Vincent Aguirre, Scott Pace, Kelsey Martin, Lisa Fleming',\n",
       "  'Organizer': 'Melissa Patterson',\n",
       "  'Location/Link': 'Microsoft Teams',\n",
       "  'Meeting Type': 'Retrospective',\n",
       "  'Missed by User': True,\n",
       "  'Has MOM': False,\n",
       "  'Has Transcript': True,\n",
       "  'MOM Content': nan,\n",
       "  'Transcript Content': \"Transcript Highlights:\\nSophia: The last demo went well, but there's room for improvement.\\n...\\n\\nDecisions Made:\\n- Adjust sprint scope to match velocity metrics.\",\n",
       "  'Recommended Action': nan},\n",
       " {'Meeting_ID': 'MTG0006',\n",
       "  'Title': 'Disintermediate Visionary Systems',\n",
       "  'Date_Time': '5/5/2025 9:30',\n",
       "  'Duration': 60,\n",
       "  'Attendees': 'Yaseen Khan, Michael Garrison, Amy Moon, Dorothy Howell, Melody Cervantes',\n",
       "  'Organizer': 'Sandra Snyder',\n",
       "  'Location/Link': 'Board Room',\n",
       "  'Meeting Type': 'Project Kickoff',\n",
       "  'Missed by User': True,\n",
       "  'Has MOM': False,\n",
       "  'Has Transcript': True,\n",
       "  'MOM Content': nan,\n",
       "  'Transcript Content': \"Transcript Highlights:\\nMason: Let's prioritize user stories with high business impact.\\n...\\n\\nDecisions Made:\\n- Include accessibility testing in QA plans.\",\n",
       "  'Recommended Action': nan},\n",
       " {'Meeting_ID': 'MTG0007',\n",
       "  'Title': 'Deliver Magnetic Experiences',\n",
       "  'Date_Time': '5/6/2025 12:45',\n",
       "  'Duration': 30,\n",
       "  'Attendees': 'Yaseen Khan, Robert Cole, Grant Dixon, Jason Miller',\n",
       "  'Organizer': 'Nicole Simpson',\n",
       "  'Location/Link': 'Board Room',\n",
       "  'Meeting Type': 'Sprint Planning',\n",
       "  'Missed by User': True,\n",
       "  'Has MOM': True,\n",
       "  'Has Transcript': False,\n",
       "  'MOM Content': 'Meeting Summary:\\nThe bug triage session focused on high-priority issues from the last release.\\n\\nAction Items:\\n- Review vendor contract with legal.\\n- Send summary email to stakeholders.\\n- Setup a follow-up meeting with the finance department.',\n",
       "  'Transcript Content': nan,\n",
       "  'Recommended Action': nan},\n",
       " {'Meeting_ID': 'MTG0008',\n",
       "  'Title': 'Synthesize World-Class Experiences',\n",
       "  'Date_Time': '5/7/2025 14:30',\n",
       "  'Duration': 15,\n",
       "  'Attendees': 'Yaseen Khan, Alex Hale, James Brady, Anita Johnson, Christine Moyer, Andrea Moore, John Mitchell',\n",
       "  'Organizer': 'Gloria Tate',\n",
       "  'Location/Link': 'Conference Room A',\n",
       "  'Meeting Type': 'Client Meeting',\n",
       "  'Missed by User': True,\n",
       "  'Has MOM': True,\n",
       "  'Has Transcript': False,\n",
       "  'MOM Content': 'Meeting Summary:\\nNew onboarding process for remote employees was reviewed and feedback was collected.\\n\\nAction Items:\\n- Send summary email to stakeholders.\\n- Update the project plan with new timelines.\\n- Review vendor contract with legal.',\n",
       "  'Transcript Content': nan,\n",
       "  'Recommended Action': nan},\n",
       " {'Meeting_ID': 'MTG0009',\n",
       "  'Title': 'Scale Cross-Media Portals',\n",
       "  'Date_Time': '5/9/2025 14:15',\n",
       "  'Duration': 30,\n",
       "  'Attendees': 'Yaseen Khan, Jeffrey Greene, Matthew Hughes, Tyler Thompson, Adam Osborne, Alexander Jones, Steven Nicholson',\n",
       "  'Organizer': 'Bianca Ramos',\n",
       "  'Location/Link': 'Microsoft Teams',\n",
       "  'Meeting Type': 'Retrospective',\n",
       "  'Missed by User': True,\n",
       "  'Has MOM': True,\n",
       "  'Has Transcript': False,\n",
       "  'MOM Content': 'Meeting Summary:\\nDiscussion around budget planning for the next fiscal year took place.\\n\\nAction Items:\\n- Document the updated workflow and share with the team.\\n- Escalate unresolved issues to the IT support.\\n- Send summary email to stakeholders.',\n",
       "  'Transcript Content': nan,\n",
       "  'Recommended Action': nan},\n",
       " {'Meeting_ID': 'MTG0010',\n",
       "  'Title': 'Monetize Mission-Critical Portals',\n",
       "  'Date_Time': '5/9/2025 16:15',\n",
       "  'Duration': 45,\n",
       "  'Attendees': 'Yaseen Khan, Susan Harrison, Stephen Curtis, Tiffany Kelley, Hannah Gonzalez',\n",
       "  'Organizer': 'Lauren Jenkins',\n",
       "  'Location/Link': 'Conference Room A',\n",
       "  'Meeting Type': 'Client Meeting',\n",
       "  'Missed by User': True,\n",
       "  'Has MOM': True,\n",
       "  'Has Transcript': False,\n",
       "  'MOM Content': 'Meeting Summary:\\nRetrospective on the failed deployment and learnings from the incident.\\n\\nAction Items:\\n- Update the project plan with new timelines.\\n- Conduct user testing by next week.\\n- Escalate unresolved issues to the IT support.\\n- Yaseen Khan to review the audit logs upon return from leave.',\n",
       "  'Transcript Content': nan,\n",
       "  'Recommended Action': nan},\n",
       " {'Meeting_ID': 'MTG0011',\n",
       "  'Title': 'Benchmark One-To-One Metrics',\n",
       "  'Date_Time': '5/9/2025 16:45',\n",
       "  'Duration': 45,\n",
       "  'Attendees': 'Yaseen Khan, Kevin Mccormick, Rebecca Pruitt, Karen Richardson, Paul Hahn, Daniel Ford, Stacy Watson',\n",
       "  'Organizer': 'Justin Mccoy',\n",
       "  'Location/Link': 'Zoom',\n",
       "  'Meeting Type': 'Sprint Planning',\n",
       "  'Missed by User': True,\n",
       "  'Has MOM': True,\n",
       "  'Has Transcript': False,\n",
       "  'MOM Content': 'Meeting Summary:\\nThe team reviewed the quarterly sales performance and discussed areas for improvement.\\n\\nAction Items:\\n- Conduct user testing by next week.\\n- Validate changes with the QA team.\\n- Escalate unresolved issues to the IT support.',\n",
       "  'Transcript Content': nan,\n",
       "  'Recommended Action': nan},\n",
       " {'Meeting_ID': 'MTG0012',\n",
       "  'Title': 'Incubate Cross-Media Niches',\n",
       "  'Date_Time': '5/10/2025 12:45',\n",
       "  'Duration': 60,\n",
       "  'Attendees': 'Yaseen Khan, Rhonda Williamson, Sandra Hunt, Marcus Everett, Bradley Tucker',\n",
       "  'Organizer': 'Leslie Harris',\n",
       "  'Location/Link': 'Zoom',\n",
       "  'Meeting Type': 'Team Sync',\n",
       "  'Missed by User': True,\n",
       "  'Has MOM': False,\n",
       "  'Has Transcript': True,\n",
       "  'MOM Content': nan,\n",
       "  'Transcript Content': 'Transcript Highlights:\\nJames: Can we ensure compliance before the next audit cycle?\\n...\\n\\nDecisions Made:\\n- Schedule internal compliance check next Tuesday.',\n",
       "  'Recommended Action': nan},\n",
       " {'Meeting_ID': 'MTG0013',\n",
       "  'Title': 'Reinvent 24/7 E-Business',\n",
       "  'Date_Time': '5/10/2025 17:15',\n",
       "  'Duration': 45,\n",
       "  'Attendees': 'Yaseen Khan, Renee Jordan, Joe Allen',\n",
       "  'Organizer': 'Leah Smith',\n",
       "  'Location/Link': 'Board Room',\n",
       "  'Meeting Type': 'Team Sync',\n",
       "  'Missed by User': True,\n",
       "  'Has MOM': True,\n",
       "  'Has Transcript': False,\n",
       "  'MOM Content': 'Meeting Summary:\\nCustomer feedback from the last sprint demo was analyzed and action points were identified.\\n\\nAction Items:\\n- Review vendor contract with legal.\\n- Conduct user testing by next week.\\n- Escalate unresolved issues to the IT support.\\n- Yaseen Khan to review the integration plan upon return from leave.',\n",
       "  'Transcript Content': nan,\n",
       "  'Recommended Action': nan},\n",
       " {'Meeting_ID': 'MTG0014',\n",
       "  'Title': 'Embrace Real-Time Action-Items',\n",
       "  'Date_Time': '5/11/2025 10:30',\n",
       "  'Duration': 60,\n",
       "  'Attendees': 'Yaseen Khan, Roger Cox, Kevin Blackwell, Elizabeth Williams, Michael Perry, Angela Ross, Eric Miranda',\n",
       "  'Organizer': 'Stacy Wilson',\n",
       "  'Location/Link': 'Board Room',\n",
       "  'Meeting Type': 'Team Sync',\n",
       "  'Missed by User': True,\n",
       "  'Has MOM': False,\n",
       "  'Has Transcript': True,\n",
       "  'MOM Content': nan,\n",
       "  'Transcript Content': \"Transcript Highlights:\\nLiam: We should get Yaseen's inputs on the CRM changes post his return.\\n...\\n\\nDecisions Made:\\n- Designate alternate point-of-contact during Yaseen’s leave.\",\n",
       "  'Recommended Action': nan},\n",
       " {'Meeting_ID': 'MTG0015',\n",
       "  'Title': 'Deploy Real-Time Mindshare',\n",
       "  'Date_Time': '5/15/2025 10:45',\n",
       "  'Duration': 45,\n",
       "  'Attendees': 'Yaseen Khan, James Neal, Douglas Page, Carlos Fisher, Casey Martin',\n",
       "  'Organizer': 'Andrea Barton',\n",
       "  'Location/Link': 'Board Room',\n",
       "  'Meeting Type': 'Sprint Planning',\n",
       "  'Missed by User': True,\n",
       "  'Has MOM': True,\n",
       "  'Has Transcript': False,\n",
       "  'MOM Content': 'Meeting Summary:\\nSecurity audit findings were presented and resolutions were assigned.\\n\\nAction Items:\\n- Review vendor contract with legal.\\n- Conduct user testing by next week.\\n- Prepare detailed analytics report.\\n- Yaseen Khan to review the integration plan upon return from leave.',\n",
       "  'Transcript Content': nan,\n",
       "  'Recommended Action': nan},\n",
       " {'Meeting_ID': 'MTG0016',\n",
       "  'Title': 'Disintermediate Leading-Edge Markets',\n",
       "  'Date_Time': '5/15/2025 12:45',\n",
       "  'Duration': 45,\n",
       "  'Attendees': 'Yaseen Khan, Anthony Johnson, Amy Cox, Taylor Ball, Ariana Lindsey, Jason Lynch, William Warren',\n",
       "  'Organizer': 'Zachary Myers',\n",
       "  'Location/Link': 'Microsoft Teams',\n",
       "  'Meeting Type': 'Sprint Planning',\n",
       "  'Missed by User': True,\n",
       "  'Has MOM': True,\n",
       "  'Has Transcript': False,\n",
       "  'MOM Content': 'Meeting Summary:\\nTeam discussed the roadmap for the next quarter and potential staffing changes.\\n\\nAction Items:\\n- Conduct user testing by next week.\\n- Arrange a session on data compliance practices.\\n- Validate changes with the QA team.\\n- Yaseen Khan to review the audit logs upon return from leave.',\n",
       "  'Transcript Content': nan,\n",
       "  'Recommended Action': nan},\n",
       " {'Meeting_ID': 'MTG0017',\n",
       "  'Title': 'Morph Mission-Critical Interfaces',\n",
       "  'Date_Time': '5/19/2025 14:30',\n",
       "  'Duration': 15,\n",
       "  'Attendees': 'Yaseen Khan, Destiny Valdez, Richard Frost, Scott Jackson, Austin Mack, Jose Morgan',\n",
       "  'Organizer': 'Stephanie Andrews',\n",
       "  'Location/Link': 'Conference Room A',\n",
       "  'Meeting Type': 'Retrospective',\n",
       "  'Missed by User': True,\n",
       "  'Has MOM': False,\n",
       "  'Has Transcript': True,\n",
       "  'MOM Content': nan,\n",
       "  'Transcript Content': 'Transcript Highlights:\\nAva: We need a new dashboard layout for analytics reporting.\\n...\\n\\nDecisions Made:\\n- Allocate buffer time for feedback incorporation.',\n",
       "  'Recommended Action': nan},\n",
       " {'Meeting_ID': 'MTG0018',\n",
       "  'Title': 'Strategize Granular Supply-Chains',\n",
       "  'Date_Time': '5/21/2025 9:00',\n",
       "  'Duration': 30,\n",
       "  'Attendees': 'Yaseen Khan, Bradley Palmer, Jasmin Reynolds, Cynthia Hahn, Lauren Stevenson, Mrs. Annette Lester MD, Adam Boyd',\n",
       "  'Organizer': 'Barbara Alexander',\n",
       "  'Location/Link': 'Conference Room A',\n",
       "  'Meeting Type': 'Retrospective',\n",
       "  'Missed by User': True,\n",
       "  'Has MOM': True,\n",
       "  'Has Transcript': False,\n",
       "  'MOM Content': 'Meeting Summary:\\nNew onboarding process for remote employees was reviewed and feedback was collected.\\n\\nAction Items:\\n- Document the updated workflow and share with the team.\\n- Update the project plan with new timelines.\\n- Conduct user testing by next week.',\n",
       "  'Transcript Content': nan,\n",
       "  'Recommended Action': nan},\n",
       " {'Meeting_ID': 'MTG0019',\n",
       "  'Title': 'Target Global Systems',\n",
       "  'Date_Time': '5/25/2025 12:00',\n",
       "  'Duration': 45,\n",
       "  'Attendees': 'Yaseen Khan, Lorraine Lopez, Kaitlin Morris',\n",
       "  'Organizer': 'Troy Ballard',\n",
       "  'Location/Link': 'Zoom',\n",
       "  'Meeting Type': 'Retrospective',\n",
       "  'Missed by User': True,\n",
       "  'Has MOM': True,\n",
       "  'Has Transcript': False,\n",
       "  'MOM Content': 'Meeting Summary:\\nDiscussion around budget planning for the next fiscal year took place.\\n\\nAction Items:\\n- Document the updated workflow and share with the team.\\n- Arrange a session on data compliance practices.\\n- Setup a follow-up meeting with the finance department.\\n- Yaseen Khan to review the integration plan upon return from leave.',\n",
       "  'Transcript Content': nan,\n",
       "  'Recommended Action': nan},\n",
       " {'Meeting_ID': 'MTG0020',\n",
       "  'Title': 'Repurpose Mission-Critical Functionalities',\n",
       "  'Date_Time': '5/25/2025 12:45',\n",
       "  'Duration': 30,\n",
       "  'Attendees': 'Yaseen Khan, Isaac Brown, Linda Myers',\n",
       "  'Organizer': 'Mrs. Jennifer Moss',\n",
       "  'Location/Link': 'Board Room',\n",
       "  'Meeting Type': 'Project Kickoff',\n",
       "  'Missed by User': True,\n",
       "  'Has MOM': False,\n",
       "  'Has Transcript': True,\n",
       "  'MOM Content': nan,\n",
       "  'Transcript Content': 'Transcript Highlights:\\nMia: We’ll need to reassign some tasks if Yaseen is out longer.\\n...\\n\\nDecisions Made:\\n- Push back release by one week due to resource constraints.',\n",
       "  'Recommended Action': nan}]"
      ]
     },
     "execution_count": 109,
     "metadata": {},
     "output_type": "execute_result"
    }
   ],
   "source": [
    "data"
   ]
  },
  {
   "cell_type": "code",
   "execution_count": null,
   "id": "9decc4a4",
   "metadata": {},
   "outputs": [],
   "source": [
    "#@tool\n",
    "def analyze_meeting(meeting: TypedDict) -> str:\n",
    "    \"\"\"Analyzes MoM or Transcript from a meeting and returns a summary.\"\"\"\n",
    "    mom = meeting.get(\"MOMContent\")\n",
    "    print(\"Analyzing meeting:\", mom)"
   ]
  },
  {
   "cell_type": "code",
   "execution_count": 132,
   "id": "59abbdb7",
   "metadata": {},
   "outputs": [
    {
     "name": "stdout",
     "output_type": "stream",
     "text": [
      "Analyzing meeting: \n"
     ]
    }
   ],
   "source": [
    "analyze_meeting(data[1])"
   ]
  },
  {
   "cell_type": "code",
   "execution_count": 51,
   "id": "91e03f3a",
   "metadata": {},
   "outputs": [],
   "source": [
    "#Defing the tool name as below\n",
    "tools=[load_meeting_data]"
   ]
  },
  {
   "cell_type": "code",
   "execution_count": 52,
   "id": "6837e273",
   "metadata": {},
   "outputs": [],
   "source": [
    "#We are binding the tool\n",
    "llm_with_tool=openai_model.bind_tools(tools)"
   ]
  },
  {
   "cell_type": "code",
   "execution_count": 86,
   "id": "99d5c302",
   "metadata": {},
   "outputs": [
    {
     "data": {
      "text/plain": [
       "AIMessage(content='Hello Yaseen Khan! How can I assist you today?', additional_kwargs={'refusal': None}, response_metadata={'token_usage': {'completion_tokens': 14, 'prompt_tokens': 57, 'total_tokens': 71, 'completion_tokens_details': {'accepted_prediction_tokens': 0, 'audio_tokens': 0, 'reasoning_tokens': 0, 'rejected_prediction_tokens': 0}, 'prompt_tokens_details': {'audio_tokens': 0, 'cached_tokens': 0}}, 'model_name': 'gpt-4o-2024-08-06', 'system_fingerprint': 'fp_76544d79cb', 'id': 'chatcmpl-Bc8eQxdpUsaVgV2iHSQpWTDsSNSGt', 'service_tier': 'default', 'finish_reason': 'stop', 'logprobs': None}, id='run--2c65e627-c3a2-4ad7-aeed-ecea98f4cdaa-0', usage_metadata={'input_tokens': 57, 'output_tokens': 14, 'total_tokens': 71, 'input_token_details': {'audio': 0, 'cache_read': 0}, 'output_token_details': {'audio': 0, 'reasoning': 0}})"
      ]
     },
     "execution_count": 86,
     "metadata": {},
     "output_type": "execute_result"
    }
   ],
   "source": [
    "response=llm_with_tool.invoke(\"My Name is Yaseen Khan\")\n",
    "response"
   ]
  },
  {
   "cell_type": "code",
   "execution_count": 81,
   "id": "bca40876",
   "metadata": {},
   "outputs": [
    {
     "data": {
      "text/plain": [
       "AIMessage(content='', additional_kwargs={'tool_calls': [{'id': 'call_wL4IyUNpBy5hUDQNOAJCsyy0', 'function': {'arguments': '{}', 'name': 'load_meeting_data'}, 'type': 'function'}], 'refusal': None}, response_metadata={'token_usage': {'completion_tokens': 12, 'prompt_tokens': 57, 'total_tokens': 69, 'completion_tokens_details': {'accepted_prediction_tokens': 0, 'audio_tokens': 0, 'reasoning_tokens': 0, 'rejected_prediction_tokens': 0}, 'prompt_tokens_details': {'audio_tokens': 0, 'cached_tokens': 0}}, 'model_name': 'gpt-4o-2024-08-06', 'system_fingerprint': 'fp_76544d79cb', 'id': 'chatcmpl-BbvdZ1nUUGWstEdNUnPt1LxAARn8n', 'service_tier': 'default', 'finish_reason': 'tool_calls', 'logprobs': None}, id='run--8c164a00-e314-4029-8b5d-d7ae4a14d3aa-0', tool_calls=[{'name': 'load_meeting_data', 'args': {}, 'id': 'call_wL4IyUNpBy5hUDQNOAJCsyy0', 'type': 'tool_call'}], usage_metadata={'input_tokens': 57, 'output_tokens': 12, 'total_tokens': 69, 'input_token_details': {'audio': 0, 'cache_read': 0}, 'output_token_details': {'audio': 0, 'reasoning': 0}})"
      ]
     },
     "execution_count": 81,
     "metadata": {},
     "output_type": "execute_result"
    }
   ],
   "source": [
    "response=llm_with_tool.invoke(\"can you load the meeting data?\")\n",
    "response"
   ]
  },
  {
   "cell_type": "code",
   "execution_count": 60,
   "id": "54e3fe21",
   "metadata": {},
   "outputs": [],
   "source": [
    "#Defining the supervisor node as our llm\n",
    "def call_model(state:MessagesState):\n",
    "    question=state[\"messages\"]\n",
    "    response=llm_with_tool.invoke(question)  #instead of invoking the normal llm , we are using the binding llm which is binded to a tool\n",
    "    return {\"messages\":[response]}"
   ]
  },
  {
   "cell_type": "code",
   "execution_count": 69,
   "id": "39da4778",
   "metadata": {},
   "outputs": [
    {
     "data": {
      "text/plain": [
       "AIMessage(content='', additional_kwargs={'tool_calls': [{'id': 'call_4gWX83B49WVFQcBrcHt3Y1ra', 'function': {'arguments': '{}', 'name': 'load_meeting_data'}, 'type': 'function'}], 'refusal': None}, response_metadata={'token_usage': {'completion_tokens': 12, 'prompt_tokens': 54, 'total_tokens': 66, 'completion_tokens_details': {'accepted_prediction_tokens': 0, 'audio_tokens': 0, 'reasoning_tokens': 0, 'rejected_prediction_tokens': 0}, 'prompt_tokens_details': {'audio_tokens': 0, 'cached_tokens': 0}}, 'model_name': 'gpt-4o-2024-08-06', 'system_fingerprint': 'fp_76544d79cb', 'id': 'chatcmpl-BbvZQJiBTmVIIhKhmbuRpHeP22KfS', 'service_tier': 'default', 'finish_reason': 'tool_calls', 'logprobs': None}, id='run--aa2e85c2-215d-43e9-9fd6-77413702bab5-0', tool_calls=[{'name': 'load_meeting_data', 'args': {}, 'id': 'call_4gWX83B49WVFQcBrcHt3Y1ra', 'type': 'tool_call'}], usage_metadata={'input_tokens': 54, 'output_tokens': 12, 'total_tokens': 66, 'input_token_details': {'audio': 0, 'cache_read': 0}, 'output_token_details': {'audio': 0, 'reasoning': 0}})"
      ]
     },
     "execution_count": 69,
     "metadata": {},
     "output_type": "execute_result"
    }
   ],
   "source": [
    "#lets ask a simpe query\n",
    "input={'messages': ['load the outlook data']}  #quer\n",
    "response=call_model(input)  #call the function with query and store the resul in response variable\n",
    "message=response[\"messages\"]  #Take only messages from response\n",
    "last_message=message[-1]  #Take the last message from all the messages\n",
    "last_message"
   ]
  },
  {
   "cell_type": "code",
   "execution_count": 61,
   "id": "5ab70eec",
   "metadata": {},
   "outputs": [
    {
     "data": {
      "text/plain": [
       "[<function __main__.load_meeting_data() -> List[TypedDict]>]"
      ]
     },
     "execution_count": 61,
     "metadata": {},
     "output_type": "execute_result"
    }
   ],
   "source": [
    "tools"
   ]
  },
  {
   "cell_type": "code",
   "execution_count": 62,
   "id": "9a192411",
   "metadata": {},
   "outputs": [],
   "source": [
    "#Note: we have to create this tool as node for orchaestration pupose\n",
    "# for this tool to consume it as node inside our workflow, we have use this method below\n",
    "tool_node=ToolNode(tools)\n",
    "\n",
    "#now this \"tool_node\" variable is the node of our tool which can be used in orchaestrtion"
   ]
  },
  {
   "cell_type": "code",
   "execution_count": 63,
   "id": "4a6bdd5d",
   "metadata": {},
   "outputs": [],
   "source": [
    "#Lets define a router and orchaestrate the workflow\n",
    "def router_function(state: MessagesState):\n",
    "    message=state[\"messages\"]\n",
    "    last_message=message[-1]\n",
    "    if last_message.tool_calls:\n",
    "        return \"tools\"\n",
    "    return END"
   ]
  },
  {
   "cell_type": "code",
   "execution_count": 70,
   "id": "76b4d2e1",
   "metadata": {},
   "outputs": [],
   "source": [
    "#Lets create the workflow with this router\n",
    "workflow=StateGraph(MessagesState)"
   ]
  },
  {
   "cell_type": "code",
   "execution_count": 71,
   "id": "7ab4c523",
   "metadata": {},
   "outputs": [
    {
     "data": {
      "text/plain": [
       "<langgraph.graph.state.StateGraph at 0x22b8fc70e90>"
      ]
     },
     "execution_count": 71,
     "metadata": {},
     "output_type": "execute_result"
    }
   ],
   "source": [
    "#create the nodes\n",
    "workflow.add_node(\"assistant\",call_model)\n",
    "workflow.add_node(\"loadoutlook_data\",tool_node)  #Consuming tool as node"
   ]
  },
  {
   "cell_type": "code",
   "execution_count": null,
   "id": "24c4d1e5",
   "metadata": {},
   "outputs": [
    {
     "data": {
      "text/plain": [
       "<langgraph.graph.state.StateGraph at 0x22b8fc70e90>"
      ]
     },
     "execution_count": 72,
     "metadata": {},
     "output_type": "execute_result"
    }
   ],
   "source": [
    "#Define the endges (conditional edges )\n",
    "workflow.add_edge(START, \"assistant\")\n",
    "\n",
    "workflow.add_conditional_edges(\"assistant\",\n",
    "                               router_function,\n",
    "                               {\"tools\": \"loadoutlook_data\", END: END})\n"
   ]
  },
  {
   "cell_type": "code",
   "execution_count": 84,
   "id": "22c97ecd",
   "metadata": {},
   "outputs": [],
   "source": [
    "#Lets compile\n",
    "app = workflow.compile()"
   ]
  },
  {
   "cell_type": "code",
   "execution_count": 85,
   "id": "03777e77",
   "metadata": {},
   "outputs": [
    {
     "data": {
      "image/png": "[encoded data removed]",
      "text/plain": [
       "<IPython.core.display.Image object>"
      ]
     },
     "metadata": {},
     "output_type": "display_data"
    }
   ],
   "source": [
    "#Lets visualize the graph\n",
    "from IPython.display import Image,display\n",
    "display(Image(app.get_graph().draw_mermaid_png()))"
   ]
  },
  {
   "cell_type": "code",
   "execution_count": 87,
   "id": "bad86a06",
   "metadata": {},
   "outputs": [
    {
     "data": {
      "text/plain": [
       "{'messages': [HumanMessage(content='Hi, My Name is Yaseen Khan', additional_kwargs={}, response_metadata={}, id='3ed6f62f-dd28-46b5-88ac-c0daff0b9199'),\n",
       "  AIMessage(content='Hello, Yaseen Khan! How can I assist you today?', additional_kwargs={'refusal': None}, response_metadata={'token_usage': {'completion_tokens': 15, 'prompt_tokens': 59, 'total_tokens': 74, 'completion_tokens_details': {'accepted_prediction_tokens': 0, 'audio_tokens': 0, 'reasoning_tokens': 0, 'rejected_prediction_tokens': 0}, 'prompt_tokens_details': {'audio_tokens': 0, 'cached_tokens': 0}}, 'model_name': 'gpt-4o-2024-08-06', 'system_fingerprint': 'fp_76544d79cb', 'id': 'chatcmpl-Bc8ik3a06cHSNGS2J3YADmz4YKBJI', 'service_tier': 'default', 'finish_reason': 'stop', 'logprobs': None}, id='run--c1355910-7880-40db-85c8-3b9b9a502607-0', usage_metadata={'input_tokens': 59, 'output_tokens': 15, 'total_tokens': 74, 'input_token_details': {'audio': 0, 'cache_read': 0}, 'output_token_details': {'audio': 0, 'reasoning': 0}})]}"
      ]
     },
     "execution_count": 87,
     "metadata": {},
     "output_type": "execute_result"
    }
   ],
   "source": [
    "#Now lets invoke this app\n",
    "\n",
    "#invoking with a simple message\n",
    "response=app.invoke({\"messages\": [\"Hi, My Name is Yaseen Khan\"]})\n",
    "response\n",
    "\n",
    "#Here we are getting the AI message from LLM (assistant) directly as this is simple query"
   ]
  },
  {
   "cell_type": "code",
   "execution_count": 79,
   "id": "370f236f",
   "metadata": {},
   "outputs": [
    {
     "data": {
      "text/plain": [
       "{'messages': [HumanMessage(content='please load the meeting data', additional_kwargs={}, response_metadata={}, id='56afda14-ef87-4a2f-87a6-0507063064f0'),\n",
       "  AIMessage(content='', additional_kwargs={'tool_calls': [{'id': 'call_Wbunh3OndsXPaxG3KThYYXLa', 'function': {'arguments': '{}', 'name': 'load_meeting_data'}, 'type': 'function'}], 'refusal': None}, response_metadata={'token_usage': {'completion_tokens': 12, 'prompt_tokens': 55, 'total_tokens': 67, 'completion_tokens_details': {'accepted_prediction_tokens': 0, 'audio_tokens': 0, 'reasoning_tokens': 0, 'rejected_prediction_tokens': 0}, 'prompt_tokens_details': {'audio_tokens': 0, 'cached_tokens': 0}}, 'model_name': 'gpt-4o-2024-08-06', 'system_fingerprint': 'fp_76544d79cb', 'id': 'chatcmpl-BbvcoxrfVvpK5mg9ac07I4vMKFh1g', 'service_tier': 'default', 'finish_reason': 'tool_calls', 'logprobs': None}, id='run--f75fc3c7-892d-4231-a0f1-2e1a60d99c9e-0', tool_calls=[{'name': 'load_meeting_data', 'args': {}, 'id': 'call_Wbunh3OndsXPaxG3KThYYXLa', 'type': 'tool_call'}], usage_metadata={'input_tokens': 55, 'output_tokens': 12, 'total_tokens': 67, 'input_token_details': {'audio': 0, 'cache_read': 0}, 'output_token_details': {'audio': 0, 'reasoning': 0}}),\n",
       "  ToolMessage(content='[{\"Meeting ID\": \"MTG0001\", \"Title\": \"Whiteboard Web-Enabled Roi\", \"Date & Time\": \"4/27/2025 12:00\", \"Duration (mins)\": 15, \"Attendees\": \"Yaseen Khan, Lauren Raymond, James Mccoy, Mrs. Amanda Barron, Kelsey Clayton, Jose Parker, Sarah Hall\", \"Organizer\": \"Tim Brown\", \"Location/Link\": \"Microsoft Teams\", \"Meeting Type\": \"Retrospective\", \"Missed by User\": true, \"Has MOM\": true, \"Has Transcript\": false, \"MOM Content\": \"Meeting Summary:\\\\nThe team reviewed the quarterly sales performance and discussed areas for improvement.\\\\n\\\\nAction Items:\\\\n- Prepare detailed analytics report.\\\\n- Escalate unresolved issues to the IT support.\\\\n- Arrange a session on data compliance practices.\", \"Transcript Content\": NaN, \"Recommended Action\": NaN}, {\"Meeting ID\": \"MTG0002\", \"Title\": \"Deliver Frictionless E-Markets\", \"Date & Time\": \"4/29/2025 15:00\", \"Duration (mins)\": 30, \"Attendees\": \"Yaseen Khan, April Hancock, Meghan Mckinney, Ricardo Cole\", \"Organizer\": \"George Hawkins\", \"Location/Link\": \"Zoom\", \"Meeting Type\": \"Team Sync\", \"Missed by User\": true, \"Has MOM\": true, \"Has Transcript\": false, \"MOM Content\": \"Meeting Summary:\\\\nMarketing strategies for the upcoming product launch were finalized.\\\\n\\\\nAction Items:\\\\n- Escalate unresolved issues to the IT support.\\\\n- Validate changes with the QA team.\\\\n- Update the project plan with new timelines.\", \"Transcript Content\": NaN, \"Recommended Action\": NaN}, {\"Meeting ID\": \"MTG0003\", \"Title\": \"Envisioneer Front-End Supply-Chains\", \"Date & Time\": \"5/1/2025 14:30\", \"Duration (mins)\": 60, \"Attendees\": \"Yaseen Khan, Michelle Elliott, Eric Phelps, Elizabeth Burton, Nicholas Martinez\", \"Organizer\": \"Sheryl Miller\", \"Location/Link\": \"Conference Room A\", \"Meeting Type\": \"Client Meeting\", \"Missed by User\": true, \"Has MOM\": true, \"Has Transcript\": false, \"MOM Content\": \"Meeting Summary:\\\\nCustomer feedback from the last sprint demo was analyzed and action points were identified.\\\\n\\\\nAction Items:\\\\n- Document the updated workflow and share with the team.\\\\n- Validate changes with the QA team.\\\\n- Arrange a session on data compliance practices.\\\\n- Yaseen Khan to review the audit logs upon return from leave.\", \"Transcript Content\": NaN, \"Recommended Action\": NaN}, {\"Meeting ID\": \"MTG0004\", \"Title\": \"Synthesize Compelling Synergies\", \"Date & Time\": \"5/2/2025 14:15\", \"Duration (mins)\": 45, \"Attendees\": \"Yaseen Khan, Dr. Gary Mueller, Andrew Wright, Albert Stokes, Vanessa Rivera, Michael Tucker, James Moore\", \"Organizer\": \"Kelly Ford\", \"Location/Link\": \"Microsoft Teams\", \"Meeting Type\": \"Project Kickoff\", \"Missed by User\": true, \"Has MOM\": true, \"Has Transcript\": false, \"MOM Content\": \"Meeting Summary:\\\\nThe integration of the new CRM system was discussed along with migration timelines.\\\\n\\\\nAction Items:\\\\n- Document the updated workflow and share with the team.\\\\n- Validate changes with the QA team.\\\\n- Prepare detailed analytics report.\\\\n- Yaseen Khan to review the report upon return from leave.\", \"Transcript Content\": NaN, \"Recommended Action\": NaN}, {\"Meeting ID\": \"MTG0005\", \"Title\": \"Iterate Interactive E-Business\", \"Date & Time\": \"5/2/2025 16:15\", \"Duration (mins)\": 45, \"Attendees\": \"Yaseen Khan, Charles Perry, Vincent Aguirre, Scott Pace, Kelsey Martin, Lisa Fleming\", \"Organizer\": \"Melissa Patterson\", \"Location/Link\": \"Microsoft Teams\", \"Meeting Type\": \"Retrospective\", \"Missed by User\": true, \"Has MOM\": false, \"Has Transcript\": true, \"MOM Content\": NaN, \"Transcript Content\": \"Transcript Highlights:\\\\nSophia: The last demo went well, but there\\'s room for improvement.\\\\n...\\\\n\\\\nDecisions Made:\\\\n- Adjust sprint scope to match velocity metrics.\", \"Recommended Action\": NaN}, {\"Meeting ID\": \"MTG0006\", \"Title\": \"Disintermediate Visionary Systems\", \"Date & Time\": \"5/5/2025 9:30\", \"Duration (mins)\": 60, \"Attendees\": \"Yaseen Khan, Michael Garrison, Amy Moon, Dorothy Howell, Melody Cervantes\", \"Organizer\": \"Sandra Snyder\", \"Location/Link\": \"Board Room\", \"Meeting Type\": \"Project Kickoff\", \"Missed by User\": true, \"Has MOM\": false, \"Has Transcript\": true, \"MOM Content\": NaN, \"Transcript Content\": \"Transcript Highlights:\\\\nMason: Let\\'s prioritize user stories with high business impact.\\\\n...\\\\n\\\\nDecisions Made:\\\\n- Include accessibility testing in QA plans.\", \"Recommended Action\": NaN}, {\"Meeting ID\": \"MTG0007\", \"Title\": \"Deliver Magnetic Experiences\", \"Date & Time\": \"5/6/2025 12:45\", \"Duration (mins)\": 30, \"Attendees\": \"Yaseen Khan, Robert Cole, Grant Dixon, Jason Miller\", \"Organizer\": \"Nicole Simpson\", \"Location/Link\": \"Board Room\", \"Meeting Type\": \"Sprint Planning\", \"Missed by User\": true, \"Has MOM\": true, \"Has Transcript\": false, \"MOM Content\": \"Meeting Summary:\\\\nThe bug triage session focused on high-priority issues from the last release.\\\\n\\\\nAction Items:\\\\n- Review vendor contract with legal.\\\\n- Send summary email to stakeholders.\\\\n- Setup a follow-up meeting with the finance department.\", \"Transcript Content\": NaN, \"Recommended Action\": NaN}, {\"Meeting ID\": \"MTG0008\", \"Title\": \"Synthesize World-Class Experiences\", \"Date & Time\": \"5/7/2025 14:30\", \"Duration (mins)\": 15, \"Attendees\": \"Yaseen Khan, Alex Hale, James Brady, Anita Johnson, Christine Moyer, Andrea Moore, John Mitchell\", \"Organizer\": \"Gloria Tate\", \"Location/Link\": \"Conference Room A\", \"Meeting Type\": \"Client Meeting\", \"Missed by User\": true, \"Has MOM\": true, \"Has Transcript\": false, \"MOM Content\": \"Meeting Summary:\\\\nNew onboarding process for remote employees was reviewed and feedback was collected.\\\\n\\\\nAction Items:\\\\n- Send summary email to stakeholders.\\\\n- Update the project plan with new timelines.\\\\n- Review vendor contract with legal.\", \"Transcript Content\": NaN, \"Recommended Action\": NaN}, {\"Meeting ID\": \"MTG0009\", \"Title\": \"Scale Cross-Media Portals\", \"Date & Time\": \"5/9/2025 14:15\", \"Duration (mins)\": 30, \"Attendees\": \"Yaseen Khan, Jeffrey Greene, Matthew Hughes, Tyler Thompson, Adam Osborne, Alexander Jones, Steven Nicholson\", \"Organizer\": \"Bianca Ramos\", \"Location/Link\": \"Microsoft Teams\", \"Meeting Type\": \"Retrospective\", \"Missed by User\": true, \"Has MOM\": true, \"Has Transcript\": false, \"MOM Content\": \"Meeting Summary:\\\\nDiscussion around budget planning for the next fiscal year took place.\\\\n\\\\nAction Items:\\\\n- Document the updated workflow and share with the team.\\\\n- Escalate unresolved issues to the IT support.\\\\n- Send summary email to stakeholders.\", \"Transcript Content\": NaN, \"Recommended Action\": NaN}, {\"Meeting ID\": \"MTG0010\", \"Title\": \"Monetize Mission-Critical Portals\", \"Date & Time\": \"5/9/2025 16:15\", \"Duration (mins)\": 45, \"Attendees\": \"Yaseen Khan, Susan Harrison, Stephen Curtis, Tiffany Kelley, Hannah Gonzalez\", \"Organizer\": \"Lauren Jenkins\", \"Location/Link\": \"Conference Room A\", \"Meeting Type\": \"Client Meeting\", \"Missed by User\": true, \"Has MOM\": true, \"Has Transcript\": false, \"MOM Content\": \"Meeting Summary:\\\\nRetrospective on the failed deployment and learnings from the incident.\\\\n\\\\nAction Items:\\\\n- Update the project plan with new timelines.\\\\n- Conduct user testing by next week.\\\\n- Escalate unresolved issues to the IT support.\\\\n- Yaseen Khan to review the audit logs upon return from leave.\", \"Transcript Content\": NaN, \"Recommended Action\": NaN}, {\"Meeting ID\": \"MTG0011\", \"Title\": \"Benchmark One-To-One Metrics\", \"Date & Time\": \"5/9/2025 16:45\", \"Duration (mins)\": 45, \"Attendees\": \"Yaseen Khan, Kevin Mccormick, Rebecca Pruitt, Karen Richardson, Paul Hahn, Daniel Ford, Stacy Watson\", \"Organizer\": \"Justin Mccoy\", \"Location/Link\": \"Zoom\", \"Meeting Type\": \"Sprint Planning\", \"Missed by User\": true, \"Has MOM\": true, \"Has Transcript\": false, \"MOM Content\": \"Meeting Summary:\\\\nThe team reviewed the quarterly sales performance and discussed areas for improvement.\\\\n\\\\nAction Items:\\\\n- Conduct user testing by next week.\\\\n- Validate changes with the QA team.\\\\n- Escalate unresolved issues to the IT support.\", \"Transcript Content\": NaN, \"Recommended Action\": NaN}, {\"Meeting ID\": \"MTG0012\", \"Title\": \"Incubate Cross-Media Niches\", \"Date & Time\": \"5/10/2025 12:45\", \"Duration (mins)\": 60, \"Attendees\": \"Yaseen Khan, Rhonda Williamson, Sandra Hunt, Marcus Everett, Bradley Tucker\", \"Organizer\": \"Leslie Harris\", \"Location/Link\": \"Zoom\", \"Meeting Type\": \"Team Sync\", \"Missed by User\": true, \"Has MOM\": false, \"Has Transcript\": true, \"MOM Content\": NaN, \"Transcript Content\": \"Transcript Highlights:\\\\nJames: Can we ensure compliance before the next audit cycle?\\\\n...\\\\n\\\\nDecisions Made:\\\\n- Schedule internal compliance check next Tuesday.\", \"Recommended Action\": NaN}, {\"Meeting ID\": \"MTG0013\", \"Title\": \"Reinvent 24/7 E-Business\", \"Date & Time\": \"5/10/2025 17:15\", \"Duration (mins)\": 45, \"Attendees\": \"Yaseen Khan, Renee Jordan, Joe Allen\", \"Organizer\": \"Leah Smith\", \"Location/Link\": \"Board Room\", \"Meeting Type\": \"Team Sync\", \"Missed by User\": true, \"Has MOM\": true, \"Has Transcript\": false, \"MOM Content\": \"Meeting Summary:\\\\nCustomer feedback from the last sprint demo was analyzed and action points were identified.\\\\n\\\\nAction Items:\\\\n- Review vendor contract with legal.\\\\n- Conduct user testing by next week.\\\\n- Escalate unresolved issues to the IT support.\\\\n- Yaseen Khan to review the integration plan upon return from leave.\", \"Transcript Content\": NaN, \"Recommended Action\": NaN}, {\"Meeting ID\": \"MTG0014\", \"Title\": \"Embrace Real-Time Action-Items\", \"Date & Time\": \"5/11/2025 10:30\", \"Duration (mins)\": 60, \"Attendees\": \"Yaseen Khan, Roger Cox, Kevin Blackwell, Elizabeth Williams, Michael Perry, Angela Ross, Eric Miranda\", \"Organizer\": \"Stacy Wilson\", \"Location/Link\": \"Board Room\", \"Meeting Type\": \"Team Sync\", \"Missed by User\": true, \"Has MOM\": false, \"Has Transcript\": true, \"MOM Content\": NaN, \"Transcript Content\": \"Transcript Highlights:\\\\nLiam: We should get Yaseen\\'s inputs on the CRM changes post his return.\\\\n...\\\\n\\\\nDecisions Made:\\\\n- Designate alternate point-of-contact during Yaseen’s leave.\", \"Recommended Action\": NaN}, {\"Meeting ID\": \"MTG0015\", \"Title\": \"Deploy Real-Time Mindshare\", \"Date & Time\": \"5/15/2025 10:45\", \"Duration (mins)\": 45, \"Attendees\": \"Yaseen Khan, James Neal, Douglas Page, Carlos Fisher, Casey Martin\", \"Organizer\": \"Andrea Barton\", \"Location/Link\": \"Board Room\", \"Meeting Type\": \"Sprint Planning\", \"Missed by User\": true, \"Has MOM\": true, \"Has Transcript\": false, \"MOM Content\": \"Meeting Summary:\\\\nSecurity audit findings were presented and resolutions were assigned.\\\\n\\\\nAction Items:\\\\n- Review vendor contract with legal.\\\\n- Conduct user testing by next week.\\\\n- Prepare detailed analytics report.\\\\n- Yaseen Khan to review the integration plan upon return from leave.\", \"Transcript Content\": NaN, \"Recommended Action\": NaN}, {\"Meeting ID\": \"MTG0016\", \"Title\": \"Disintermediate Leading-Edge Markets\", \"Date & Time\": \"5/15/2025 12:45\", \"Duration (mins)\": 45, \"Attendees\": \"Yaseen Khan, Anthony Johnson, Amy Cox, Taylor Ball, Ariana Lindsey, Jason Lynch, William Warren\", \"Organizer\": \"Zachary Myers\", \"Location/Link\": \"Microsoft Teams\", \"Meeting Type\": \"Sprint Planning\", \"Missed by User\": true, \"Has MOM\": true, \"Has Transcript\": false, \"MOM Content\": \"Meeting Summary:\\\\nTeam discussed the roadmap for the next quarter and potential staffing changes.\\\\n\\\\nAction Items:\\\\n- Conduct user testing by next week.\\\\n- Arrange a session on data compliance practices.\\\\n- Validate changes with the QA team.\\\\n- Yaseen Khan to review the audit logs upon return from leave.\", \"Transcript Content\": NaN, \"Recommended Action\": NaN}, {\"Meeting ID\": \"MTG0017\", \"Title\": \"Morph Mission-Critical Interfaces\", \"Date & Time\": \"5/19/2025 14:30\", \"Duration (mins)\": 15, \"Attendees\": \"Yaseen Khan, Destiny Valdez, Richard Frost, Scott Jackson, Austin Mack, Jose Morgan\", \"Organizer\": \"Stephanie Andrews\", \"Location/Link\": \"Conference Room A\", \"Meeting Type\": \"Retrospective\", \"Missed by User\": true, \"Has MOM\": false, \"Has Transcript\": true, \"MOM Content\": NaN, \"Transcript Content\": \"Transcript Highlights:\\\\nAva: We need a new dashboard layout for analytics reporting.\\\\n...\\\\n\\\\nDecisions Made:\\\\n- Allocate buffer time for feedback incorporation.\", \"Recommended Action\": NaN}, {\"Meeting ID\": \"MTG0018\", \"Title\": \"Strategize Granular Supply-Chains\", \"Date & Time\": \"5/21/2025 9:00\", \"Duration (mins)\": 30, \"Attendees\": \"Yaseen Khan, Bradley Palmer, Jasmin Reynolds, Cynthia Hahn, Lauren Stevenson, Mrs. Annette Lester MD, Adam Boyd\", \"Organizer\": \"Barbara Alexander\", \"Location/Link\": \"Conference Room A\", \"Meeting Type\": \"Retrospective\", \"Missed by User\": true, \"Has MOM\": true, \"Has Transcript\": false, \"MOM Content\": \"Meeting Summary:\\\\nNew onboarding process for remote employees was reviewed and feedback was collected.\\\\n\\\\nAction Items:\\\\n- Document the updated workflow and share with the team.\\\\n- Update the project plan with new timelines.\\\\n- Conduct user testing by next week.\", \"Transcript Content\": NaN, \"Recommended Action\": NaN}, {\"Meeting ID\": \"MTG0019\", \"Title\": \"Target Global Systems\", \"Date & Time\": \"5/25/2025 12:00\", \"Duration (mins)\": 45, \"Attendees\": \"Yaseen Khan, Lorraine Lopez, Kaitlin Morris\", \"Organizer\": \"Troy Ballard\", \"Location/Link\": \"Zoom\", \"Meeting Type\": \"Retrospective\", \"Missed by User\": true, \"Has MOM\": true, \"Has Transcript\": false, \"MOM Content\": \"Meeting Summary:\\\\nDiscussion around budget planning for the next fiscal year took place.\\\\n\\\\nAction Items:\\\\n- Document the updated workflow and share with the team.\\\\n- Arrange a session on data compliance practices.\\\\n- Setup a follow-up meeting with the finance department.\\\\n- Yaseen Khan to review the integration plan upon return from leave.\", \"Transcript Content\": NaN, \"Recommended Action\": NaN}, {\"Meeting ID\": \"MTG0020\", \"Title\": \"Repurpose Mission-Critical Functionalities\", \"Date & Time\": \"5/25/2025 12:45\", \"Duration (mins)\": 30, \"Attendees\": \"Yaseen Khan, Isaac Brown, Linda Myers\", \"Organizer\": \"Mrs. Jennifer Moss\", \"Location/Link\": \"Board Room\", \"Meeting Type\": \"Project Kickoff\", \"Missed by User\": true, \"Has MOM\": false, \"Has Transcript\": true, \"MOM Content\": NaN, \"Transcript Content\": \"Transcript Highlights:\\\\nMia: We’ll need to reassign some tasks if Yaseen is out longer.\\\\n...\\\\n\\\\nDecisions Made:\\\\n- Push back release by one week due to resource constraints.\", \"Recommended Action\": NaN}]', name='load_meeting_data', id='ad3c9fca-805b-47e2-b8c8-2c189a79c24d', tool_call_id='call_Wbunh3OndsXPaxG3KThYYXLa')]}"
      ]
     },
     "execution_count": 79,
     "metadata": {},
     "output_type": "execute_result"
    }
   ],
   "source": [
    "#Now lets invoke this app\n",
    "\n",
    "#invoking with a simple message\n",
    "response=app.invoke({\"messages\": [\"please load the meeting data\"]})\n",
    "response\n",
    "\n",
    "#Here we are getting the AI message from LLM (assistant) directly as this is simple query"
   ]
  },
  {
   "cell_type": "code",
   "execution_count": null,
   "id": "1cf253f0",
   "metadata": {},
   "outputs": [],
   "source": []
  },
  {
   "cell_type": "code",
   "execution_count": null,
   "id": "3a6de72e",
   "metadata": {},
   "outputs": [],
   "source": []
  }
 ],
 "metadata": {
  "kernelspec": {
   "display_name": "venv",
   "language": "python",
   "name": "python3"
  },
  "language_info": {
   "codemirror_mode": {
    "name": "ipython",
    "version": 3
   },
   "file_extension": ".py",
   "mimetype": "text/x-python",
   "name": "python",
   "nbconvert_exporter": "python",
   "pygments_lexer": "ipython3",
   "version": "3.11.0"
  }
 },
 "nbformat": 4,
 "nbformat_minor": 5
}
