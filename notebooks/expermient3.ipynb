{
 "cells": [
  {
   "cell_type": "code",
   "execution_count": 36,
   "id": "6f41c39e",
   "metadata": {},
   "outputs": [
    {
     "data": {
      "text/plain": [
       "True"
      ]
     },
     "execution_count": 36,
     "metadata": {},
     "output_type": "execute_result"
    }
   ],
   "source": [
    "from dotenv import load_dotenv\n",
    "load_dotenv()"
   ]
  },
  {
   "cell_type": "code",
   "execution_count": 37,
   "id": "70b2a78c",
   "metadata": {},
   "outputs": [],
   "source": [
    "#setup API key\n",
    "import os\n",
    "OPENAI_API_KEY=os.getenv(\"OPENAI_API_KEY\")\n",
    "TAVILY_API_KEY=os.getenv(\"TAVILY_API_KEY\")"
   ]
  },
  {
   "cell_type": "code",
   "execution_count": 38,
   "id": "ce4d7d9a",
   "metadata": {},
   "outputs": [],
   "source": [
    "#Setting up the environmet key\n",
    "os.environ[\"OPENAI_API_KEY\"]=OPENAI_API_KEY\n",
    "os.environ[\"TAVILY_API_KEY\"]=TAVILY_API_KEY"
   ]
  },
  {
   "cell_type": "code",
   "execution_count": 34,
   "id": "3d21d77f",
   "metadata": {},
   "outputs": [],
   "source": [
    "#Lets import the required libraries\n",
    "import pandas as pd\n",
    "from langgraph.graph import StateGraph,MessagesState, START, END\n",
    "from langgraph.graph.message import add_messages\n",
    "# from typing import Annotated, Literal, List   #\n",
    "from typing_extensions import TypedDict, Annotated, Literal, List\n",
    "from langchain_core.tools import tool    #for creating Tool\n",
    "from langchain_core.messages import HumanMessage, SystemMessage\n",
    "from langgraph.checkpoint.memory import MemorySaver   #To sustain the memory\n",
    "from langgraph.prebuilt import ToolNode,tools_condition     #To create the Nodes for Tool\n",
    "from langgraph.checkpoint.memory import MemorySaver\n",
    "from langchain_community.tools import TavilySearchResults"
   ]
  },
  {
   "cell_type": "code",
   "execution_count": 5,
   "id": "269cb9d5",
   "metadata": {},
   "outputs": [],
   "source": [
    "#Load the model\n",
    "from langchain_openai import ChatOpenAI\n",
    "openai_model=ChatOpenAI(model=\"gpt-4o\")"
   ]
  },
  {
   "cell_type": "code",
   "execution_count": 6,
   "id": "4b1071ee",
   "metadata": {},
   "outputs": [
    {
     "data": {
      "text/plain": [
       "AIMessage(content='Hello Yaseen! How can I assist you today?', additional_kwargs={'refusal': None}, response_metadata={'token_usage': {'completion_tokens': 12, 'prompt_tokens': 15, 'total_tokens': 27, 'completion_tokens_details': {'accepted_prediction_tokens': 0, 'audio_tokens': 0, 'reasoning_tokens': 0, 'rejected_prediction_tokens': 0}, 'prompt_tokens_details': {'audio_tokens': 0, 'cached_tokens': 0}}, 'model_name': 'gpt-4o-2024-08-06', 'system_fingerprint': 'fp_07871e2ad8', 'id': 'chatcmpl-BdE31QrZH3SOB6kfhIh0GwwPkuYwY', 'service_tier': 'default', 'finish_reason': 'stop', 'logprobs': None}, id='run--c1f317e5-16b5-4aab-be92-39394409872b-0', usage_metadata={'input_tokens': 15, 'output_tokens': 12, 'total_tokens': 27, 'input_token_details': {'audio': 0, 'cache_read': 0}, 'output_token_details': {'audio': 0, 'reasoning': 0}})"
      ]
     },
     "execution_count": 6,
     "metadata": {},
     "output_type": "execute_result"
    }
   ],
   "source": [
    "openai_model.invoke('Hi, My Name is Yaseen')"
   ]
  },
  {
   "cell_type": "code",
   "execution_count": 7,
   "id": "1d63358a",
   "metadata": {},
   "outputs": [],
   "source": [
    "#We have our model ready, now lets create a Tool"
   ]
  },
  {
   "cell_type": "code",
   "execution_count": 8,
   "id": "4fc0f85a",
   "metadata": {},
   "outputs": [],
   "source": [
    "class AgentState(TypedDict):\n",
    "    messages: Annotated[list, add_messages]\n",
    "    meetings: list[dict]  # <- This will store the output of load_meeting_data\n",
    "    analysis: list[str]\n"
   ]
  },
  {
   "cell_type": "code",
   "execution_count": 9,
   "id": "d64a32d6",
   "metadata": {},
   "outputs": [],
   "source": [
    "#Load meeting data\n",
    "@tool\n",
    "def load_meeting_data() -> List[TypedDict]:\n",
    "    \"\"\"Tool to load meeting data from a CSV file.\"\"\"\n",
    "    df = pd.read_csv(\"yaseen_khan_missed_meetings_2.csv\")\n",
    "    df = df[0:5]\n",
    "    meetings = df.to_dict(orient=\"records\")\n",
    "    return {\"meetings\": meetings}"
   ]
  },
  {
   "cell_type": "code",
   "execution_count": 10,
   "id": "8703eef1",
   "metadata": {},
   "outputs": [],
   "source": [
    "#@tool\n",
    "def analyze_meetings_batch(state: AgentState) -> list[str]:\n",
    "    \"\"\"Analyzes multiple meetings and returns summaries for each.\"\"\"\n",
    "    meetings = state.get(\"meetings\", [])\n",
    "    results = []\n",
    "\n",
    "    for i, meeting in enumerate(meetings, 1):\n",
    "        mom = meeting.get(\"MOM Content\", \"\")\n",
    "        transcript = meeting.get(\"Transcript Content\", \"\")\n",
    "\n",
    "        if mom:\n",
    "            content = f\"MoM:\\n{mom}\"\n",
    "        elif transcript:\n",
    "            content = f\"Transcript:\\n{transcript}\"\n",
    "        else:\n",
    "            results.append(f\"Meeting {i}: No MoM or Transcript available.\")\n",
    "            continue\n",
    "\n",
    "        prompt = f\"\"\"\n",
    "        You're an AI assistant of User, responsible for analyzing meeting content which he missed during his leave.\n",
    "        Your task is to read the content of the meeting, analyze it, and recommend actions such as tasks to complete, follow-up meetings to schedule, or status updates to provide.\n",
    "        You will be provided with the content of the meeting, and you should summarize it in a concise manner.\n",
    "        Meeting {i} content:\n",
    "        {content}\n",
    "        \"\"\"\n",
    "        response = openai_model.invoke(prompt)\n",
    "        results.append(f\"Meeting {i} Summary:\\n{response.content.strip()}\")\n",
    "\n",
    "    return {\"analysis\": results}\n"
   ]
  },
  {
   "cell_type": "code",
   "execution_count": 39,
   "id": "abe8f9dd",
   "metadata": {},
   "outputs": [],
   "source": [
    "tavily_tool = TavilySearchResults()"
   ]
  },
  {
   "cell_type": "code",
   "execution_count": 51,
   "id": "d057fd13",
   "metadata": {},
   "outputs": [
    {
     "data": {
      "text/plain": [
       "[{'title': 'Artificial Intelligence - Latest AI News and Analysis - WSJ.com',\n",
       "  'url': 'https://www.wsj.com/tech/ai?gaa_at=eafs&gaa_n=ASWzDAj7gxrm58ILGVuyS8pIl3MuqFXHE_ATCBwK6rshSBVTvnmQ4LlbD5O0&gaa_ts=683ae82c&gaa_sig=Lf986i8425pPHrE83HkbfWR1RyDxxTBmCHCYJ6nPG5BfN6Cv5JMWTSbXBxbuGPEHd6lzba-vMOurk-lm-TXYrA%3D%3D',\n",
       "  'content': 'The latest artificial intelligence news coverage focusing on the technology, tools and the companies building AI technology.',\n",
       "  'score': 0.74697095},\n",
       " {'title': 'AI News | Latest AI News, Analysis & Events',\n",
       "  'url': 'https://www.artificialintelligence-news.com/',\n",
       "  'content': \"Huawei Supernode 384 disrupts Nvidia's AI market hold. Telegram logo as the company forges a deal with Elon Musk's xAI to weave Grok AI.\",\n",
       "  'score': 0.72675586},\n",
       " {'title': 'Artificial Intelligence News - ScienceDaily',\n",
       "  'url': 'https://www.sciencedaily.com/news/computers_math/artificial_intelligence/',\n",
       "  'content': '![ScienceDaily](/images/sd-logo.png)\\n\\n# Artificial Intelligence News\\n\\n## Top Headlines\\n\\n## Latest Headlines\\n\\n## Earlier Headlines\\n\\n### Tuesday, May 13, 2025\\n\\n### Monday, May 12, 2025\\n\\n### Thursday, May 8, 2025\\n\\n### Wednesday, May 7, 2025\\n\\n### Tuesday, May 6, 2025\\n\\n### Monday, May 5, 2025\\n\\n### Thursday, May 1, 2025\\n\\n### Friday, April 25, 2025\\n\\n### Thursday, April 24, 2025\\n\\n### Wednesday, April 23, 2025\\n\\n### Tuesday, April 22, 2025\\n\\n### Tuesday, April 15, 2025\\n\\n### Monday, April 14, 2025 [...] ### Wednesday, April 9, 2025\\n\\n### Tuesday, April 8, 2025\\n\\n### Thursday, April 3, 2025\\n\\n### Thursday, March 27, 2025\\n\\n### Wednesday, March 26, 2025\\n\\n### Tuesday, March 25, 2025\\n\\n### Wednesday, March 19, 2025\\n\\n### Tuesday, March 18, 2025\\n\\n### Monday, March 17, 2025\\n\\n### Thursday, March 6, 2025\\n\\n### Wednesday, March 5, 2025\\n\\n### Tuesday, March 4, 2025\\n\\n### Wednesday, February 26, 2025\\n\\n### Tuesday, February 25, 2025\\n\\n### Friday, February 21, 2025\\n\\n### Thursday, February 20, 2025 [...] ### Wednesday, February 19, 2025\\n\\n### Thursday, February 13, 2025\\n\\n### Monday, February 10, 2025\\n\\n### Monday, February 3, 2025\\n\\n### Wednesday, January 29, 2025\\n\\n### Tuesday, January 28, 2025\\n\\n### Monday, January 27, 2025\\n\\n### Tuesday, January 21, 2025\\n\\n### Thursday, January 16, 2025\\n\\n### Wednesday, January 15, 2025\\n\\n### Tuesday, January 14, 2025\\n\\n### Thursday, January 9, 2025\\n\\n### Wednesday, January 8, 2025\\n\\n### Monday, January 6, 2025\\n\\n### Thursday, January 2, 2025',\n",
       "  'score': 0.69746524},\n",
       " {'title': 'AI News & Artificial Intelligence | TechCrunch',\n",
       "  'url': 'https://techcrunch.com/category/artificial-intelligence/',\n",
       "  'content': '![](https://techcrunch.com/wp-content/uploads/2024/09/tc-lockup.svg)\\n![](https://techcrunch.com/wp-content/uploads/2024/09/tc-logo-mobile.svg)\\n\\n### Topics\\n\\n[Latest](/latest/)\\n\\n[AI](/category/artificial-intelligence/)\\n\\n[Amazon](/tag/amazon/)\\n\\n[Apps](/category/apps/)\\n\\n[Biotech & Health](/category/biotech-health/)\\n\\n[Climate](/category/climate/)\\n\\n[Cloud Computing](/tag/cloud-computing/)\\n\\n[Commerce](/category/commerce/)\\n\\n[Crypto](/category/cryptocurrency/)\\n\\n[Enterprise](/category/enterprise/) [...] ### [AMD buys silicon photonics startup Enosemi to fuel its AI ambitions](https://techcrunch.com/2025/05/28/amd-buys-silicon-photonics-startup-enosemi-to-fuel-its-ai-ambitions/)\\n\\n![](https://techcrunch.com/wp-content/uploads/2025/05/xbox-copilot.jpg?w=668)\\n\\n### [Microsoft starts testing Copilot for Gaming in Xbox app for iOS and Android](https://techcrunch.com/2025/05/28/microsoft-starts-testing-copilot-for-gaming-in-xbox-app-for-ios-and-android/) [...] ![OpenAI CEO Sam Altman](https://techcrunch.com/wp-content/uploads/2024/12/GettyImages-2188251582.jpg?w=563)\\n\\n### [Delaware attorney general reportedly hires a bank to evaluate OpenAI’s restructuring plan](https://techcrunch.com/2025/05/29/delaware-attorney-general-reportedly-hires-a-bank-to-evaluate-openais-restructuring-plan/)\\n\\n![Perplexity AI logo is seen on a smartphone and on a PC screen.](https://techcrunch.com/wp-content/uploads/2024/07/GettyImages-1917904267.jpg?w=562)',\n",
       "  'score': 0.6884899},\n",
       " {'title': 'Artificial intelligence - NBC News',\n",
       "  'url': 'https://www.nbcnews.com/artificial-intelligence',\n",
       "  'content': \"Profile\\n\\nSections\\n\\nLocal\\n\\ntv\\n\\nFeatured\\n\\nMore From NBC\\n\\nFollow NBC News\\n\\nnews Alerts\\n\\nThere are no new alerts at this time\\n\\n# ARTIFICIAL INTELLIGENCE\\n\\nThe latest news and top stories on artificial intelligence, including ChatGPT, AI Chatbot and Bard.\\n\\n![](https://media-cldnry.s-nbcnews.com/image/upload/t_focal-762x508,f_auto,q_auto:best/rockcms/2025-05/250529-artificial-intelligence-court-reporters-ew-210p-d4748d.jpg) [...] ## 02:16\\n\\n### [Vance says U.S. will be the ‘gold standard’ of AI technology](https://www.nbcnews.com/video/vance-says-u-s-will-be-the-gold-standard-of-ai-technology-231631429572)\\n\\n## MORE AI NEWS\\n\\n## AI poses a bigger threat to women's work than men's, report says [...] ![](https://media-cldnry.s-nbcnews.com/image/upload/t_focal-260x130,f_auto,q_auto:best/mpx/2704722219/2025_03/1741305825834_nn_emc_aicompanions_250306_1920x1080-uqwbkq.jpg)\\n\\n## 02:54\\n\\n### [A.I. chatbots becoming popular but worry privacy advocates](https://www.nbcnews.com/nightly-news/video/a-i-chatbots-becoming-popular-but-worry-privacy-advocates-233710149872)\\n\\n## Nightly News\",\n",
       "  'score': 0.67988104}]"
      ]
     },
     "execution_count": 51,
     "metadata": {},
     "output_type": "execute_result"
    }
   ],
   "source": [
    "tavily_tool.invoke(\"What is the latest news about AI?\")"
   ]
  },
  {
   "cell_type": "code",
   "execution_count": 98,
   "id": "31be430a",
   "metadata": {},
   "outputs": [],
   "source": [
    "#@tool\n",
    "def internet_search(state: AgentState) -> TypedDict:\n",
    "    \"\"\"Search the internet for latest information.\"\"\"\n",
    "    question=state[\"messages\"]\n",
    "    response=tavily_tool.invoke(question)\n",
    "    return {\"messages\":response}\n",
    "    "
   ]
  },
  {
   "cell_type": "code",
   "execution_count": 99,
   "id": "b484e9c3",
   "metadata": {},
   "outputs": [
    {
     "name": "stdout",
     "output_type": "stream",
     "text": [
      "{'messages': [{'title': 'Artificial Intelligence - Latest AI News and Analysis - WSJ.com', 'url': 'https://www.wsj.com/tech/ai?gaa_at=eafs&gaa_n=ASWzDAh9D2IiRji5RPGtZt65eqxK_Q7W0uszgcNNpnXWw5T86-Vg-t0hBWEZ&gaa_ts=683aee36&gaa_sig=FLWhhMpRf7wJfxsx2vaf4yIKQL_NhyqCZfhjIEuSX2zpaZCPYG3ZZbMNR04MKbVMbBtfg0oKKgCoDT01_YrkBg%3D%3D', 'content': 'The latest artificial intelligence news coverage focusing on the technology, tools and the companies building AI technology.', 'score': 0.75723875}, {'title': 'Artificial intelligence - NBC News', 'url': 'https://www.nbcnews.com/artificial-intelligence', 'content': \"Profile\\n\\nSections\\n\\nLocal\\n\\ntv\\n\\nFeatured\\n\\nMore From NBC\\n\\nFollow NBC News\\n\\nnews Alerts\\n\\nThere are no new alerts at this time\\n\\n# ARTIFICIAL INTELLIGENCE\\n\\nThe latest news and top stories on artificial intelligence, including ChatGPT, AI Chatbot and Bard.\\n\\n![](https://media-cldnry.s-nbcnews.com/image/upload/t_focal-762x508,f_auto,q_auto:best/rockcms/2025-05/250529-artificial-intelligence-court-reporters-ew-210p-d4748d.jpg) [...] ## 02:16\\n\\n### [Vance says U.S. will be the ‘gold standard’ of AI technology](https://www.nbcnews.com/video/vance-says-u-s-will-be-the-gold-standard-of-ai-technology-231631429572)\\n\\n## MORE AI NEWS\\n\\n## AI poses a bigger threat to women's work than men's, report says\", 'score': 0.7173491}, {'title': 'Artificial Intelligence News - ScienceDaily', 'url': 'https://www.sciencedaily.com/news/computers_math/artificial_intelligence/', 'content': '![ScienceDaily](/images/sd-logo.png)\\n\\n# Artificial Intelligence News\\n\\n## Top Headlines\\n\\n## Latest Headlines\\n\\n## Earlier Headlines\\n\\n### Tuesday, May 13, 2025\\n\\n### Monday, May 12, 2025\\n\\n### Thursday, May 8, 2025\\n\\n### Wednesday, May 7, 2025\\n\\n### Tuesday, May 6, 2025\\n\\n### Monday, May 5, 2025\\n\\n### Thursday, May 1, 2025\\n\\n### Friday, April 25, 2025\\n\\n### Thursday, April 24, 2025\\n\\n### Wednesday, April 23, 2025\\n\\n### Tuesday, April 22, 2025\\n\\n### Tuesday, April 15, 2025\\n\\n### Monday, April 14, 2025 [...] ### Wednesday, April 9, 2025\\n\\n### Tuesday, April 8, 2025\\n\\n### Thursday, April 3, 2025\\n\\n### Thursday, March 27, 2025\\n\\n### Wednesday, March 26, 2025\\n\\n### Tuesday, March 25, 2025\\n\\n### Wednesday, March 19, 2025\\n\\n### Tuesday, March 18, 2025\\n\\n### Monday, March 17, 2025\\n\\n### Thursday, March 6, 2025\\n\\n### Wednesday, March 5, 2025\\n\\n### Tuesday, March 4, 2025\\n\\n### Wednesday, February 26, 2025\\n\\n### Tuesday, February 25, 2025\\n\\n### Friday, February 21, 2025\\n\\n### Thursday, February 20, 2025 [...] ### Wednesday, February 19, 2025\\n\\n### Thursday, February 13, 2025\\n\\n### Monday, February 10, 2025\\n\\n### Monday, February 3, 2025\\n\\n### Wednesday, January 29, 2025\\n\\n### Tuesday, January 28, 2025\\n\\n### Monday, January 27, 2025\\n\\n### Tuesday, January 21, 2025\\n\\n### Thursday, January 16, 2025\\n\\n### Wednesday, January 15, 2025\\n\\n### Tuesday, January 14, 2025\\n\\n### Thursday, January 9, 2025\\n\\n### Wednesday, January 8, 2025\\n\\n### Monday, January 6, 2025\\n\\n### Thursday, January 2, 2025', 'score': 0.7125728}, {'title': 'AI News | Latest AI News, Analysis & Events', 'url': 'https://www.artificialintelligence-news.com/', 'content': \"Huawei Supernode 384 disrupts Nvidia's AI market hold. Telegram logo as the company forges a deal with Elon Musk's xAI to weave Grok AI.\", 'score': 0.7120925}, {'title': 'AI News & Artificial Intelligence | TechCrunch', 'url': 'https://techcrunch.com/category/artificial-intelligence/', 'content': '![](https://techcrunch.com/wp-content/uploads/2024/09/tc-lockup.svg)\\n![](https://techcrunch.com/wp-content/uploads/2024/09/tc-logo-mobile.svg)\\n\\n### Topics\\n\\n[Latest](/latest/)\\n\\n[AI](/category/artificial-intelligence/)\\n\\n[Amazon](/tag/amazon/)\\n\\n[Apps](/category/apps/)\\n\\n[Biotech & Health](/category/biotech-health/)\\n\\n[Climate](/category/climate/)\\n\\n[Cloud Computing](/tag/cloud-computing/)\\n\\n[Commerce](/category/commerce/)\\n\\n[Crypto](/category/cryptocurrency/)\\n\\n[Enterprise](/category/enterprise/) [...] [TechCrunch Brand Studio](/brand-studio/)\\n\\n[Crunchboard](https://www.crunchboard.com/)\\n\\n[Contact Us](/contact-us/)\\n\\n# AI\\n\\nNews coverage on artificial intelligence and machine learning tech, the companies building them, and the ethical issues AI raises today. This encompasses [generative AI](https://techcrunch.com/tag/generative-ai/), including large language models, text-to-image and text-to-video models; speech recognition and generation; and predictive analytics.\\n\\n### [...] ### [AMD buys silicon photonics startup Enosemi to fuel its AI ambitions](https://techcrunch.com/2025/05/28/amd-buys-silicon-photonics-startup-enosemi-to-fuel-its-ai-ambitions/)\\n\\n![](https://techcrunch.com/wp-content/uploads/2025/05/xbox-copilot.jpg?w=668)\\n\\n### [Microsoft starts testing Copilot for Gaming in Xbox app for iOS and Android](https://techcrunch.com/2025/05/28/microsoft-starts-testing-copilot-for-gaming-in-xbox-app-for-ios-and-android/)', 'score': 0.69399214}]}\n"
     ]
    }
   ],
   "source": [
    "result = internet_search({\"messages\": \"what is the latest news about AI?\"})\n",
    "print(result)"
   ]
  },
  {
   "cell_type": "code",
   "execution_count": 59,
   "id": "8be413a9",
   "metadata": {},
   "outputs": [],
   "source": [
    "#Defing the tool name as below\n",
    "tools=[load_meeting_data,internet_search]"
   ]
  },
  {
   "cell_type": "code",
   "execution_count": 60,
   "id": "83c3907e",
   "metadata": {},
   "outputs": [],
   "source": [
    "#We are binding the tool\n",
    "llm_with_tool=openai_model.bind_tools(tools)"
   ]
  },
  {
   "cell_type": "code",
   "execution_count": 18,
   "id": "47ef5572",
   "metadata": {},
   "outputs": [
    {
     "data": {
      "text/plain": [
       "AIMessage(content='Hello Yaseen Khan! How can I assist you today?', additional_kwargs={'refusal': None}, response_metadata={'token_usage': {'completion_tokens': 14, 'prompt_tokens': 80, 'total_tokens': 94, 'completion_tokens_details': {'accepted_prediction_tokens': 0, 'audio_tokens': 0, 'reasoning_tokens': 0, 'rejected_prediction_tokens': 0}, 'prompt_tokens_details': {'audio_tokens': 0, 'cached_tokens': 0}}, 'model_name': 'gpt-4o-2024-08-06', 'system_fingerprint': 'fp_07871e2ad8', 'id': 'chatcmpl-BdE4w2iRlOtlAZ1f9bLjgH1UGXy08', 'service_tier': 'default', 'finish_reason': 'stop', 'logprobs': None}, id='run--ab5dd225-bd05-4c22-b698-1a073fef216e-0', usage_metadata={'input_tokens': 80, 'output_tokens': 14, 'total_tokens': 94, 'input_token_details': {'audio': 0, 'cache_read': 0}, 'output_token_details': {'audio': 0, 'reasoning': 0}})"
      ]
     },
     "execution_count": 18,
     "metadata": {},
     "output_type": "execute_result"
    }
   ],
   "source": [
    "response=llm_with_tool.invoke(\"My Name is Yaseen Khan\")\n",
    "response"
   ]
  },
  {
   "cell_type": "code",
   "execution_count": 61,
   "id": "c9f8b8b4",
   "metadata": {},
   "outputs": [
    {
     "data": {
      "text/plain": [
       "AIMessage(content='', additional_kwargs={'tool_calls': [{'id': 'call_NncEs9dP0N0ZKF88dRBlremk', 'function': {'arguments': '{\"state\":{\"messages\":[{\"role\":\"user\",\"content\":\"Who won ipl 2025 qualifier 1?\"}],\"analysis\":[\"The user\\'s query is a request for information about a specific sporting event: the winner of the IPL 2025 Qualifier 1 match.\",\"This is recent sports information that is likely to be found online.\",\"Utilizing the internet search tool is appropriate to find the latest results of the IPL 2025.\"]}}', 'name': 'internet_search'}, 'type': 'function'}], 'refusal': None}, response_metadata={'token_usage': {'completion_tokens': 99, 'prompt_tokens': 84, 'total_tokens': 183, 'completion_tokens_details': {'accepted_prediction_tokens': 0, 'audio_tokens': 0, 'reasoning_tokens': 0, 'rejected_prediction_tokens': 0}, 'prompt_tokens_details': {'audio_tokens': 0, 'cached_tokens': 0}}, 'model_name': 'gpt-4o-2024-08-06', 'system_fingerprint': 'fp_07871e2ad8', 'id': 'chatcmpl-BdEiMnnNHbwgobzTTILHNOD6Zuyif', 'service_tier': 'default', 'finish_reason': 'tool_calls', 'logprobs': None}, id='run--b08fb8e4-61a3-460e-a5aa-2157dc0bf023-0', tool_calls=[{'name': 'internet_search', 'args': {'state': {'messages': [{'role': 'user', 'content': 'Who won ipl 2025 qualifier 1?'}], 'analysis': [\"The user's query is a request for information about a specific sporting event: the winner of the IPL 2025 Qualifier 1 match.\", 'This is recent sports information that is likely to be found online.', 'Utilizing the internet search tool is appropriate to find the latest results of the IPL 2025.']}}, 'id': 'call_NncEs9dP0N0ZKF88dRBlremk', 'type': 'tool_call'}], usage_metadata={'input_tokens': 84, 'output_tokens': 99, 'total_tokens': 183, 'input_token_details': {'audio': 0, 'cache_read': 0}, 'output_token_details': {'audio': 0, 'reasoning': 0}})"
      ]
     },
     "execution_count": 61,
     "metadata": {},
     "output_type": "execute_result"
    }
   ],
   "source": [
    "response=llm_with_tool.invoke(\"Who won ipl 2025 qualifier 1?\")\n",
    "response"
   ]
  },
  {
   "cell_type": "code",
   "execution_count": null,
   "id": "e4cb105b",
   "metadata": {},
   "outputs": [
    {
     "data": {
      "text/plain": [
       "AIMessage(content='', additional_kwargs={'tool_calls': [{'id': 'call_WCFXZpnzCozmjrQTxhvcjtyV', 'function': {'arguments': '{}', 'name': 'load_meeting_data'}, 'type': 'function'}], 'refusal': None}, response_metadata={'token_usage': {'completion_tokens': 12, 'prompt_tokens': 50, 'total_tokens': 62, 'completion_tokens_details': {'accepted_prediction_tokens': 0, 'audio_tokens': 0, 'reasoning_tokens': 0, 'rejected_prediction_tokens': 0}, 'prompt_tokens_details': {'audio_tokens': 0, 'cached_tokens': 0}}, 'model_name': 'gpt-4o-2024-08-06', 'system_fingerprint': 'fp_07871e2ad8', 'id': 'chatcmpl-BcfF1NzOTmCIUjGueFe3c3u5F1Qm1', 'service_tier': 'default', 'finish_reason': 'tool_calls', 'logprobs': None}, id='run--8d1d0990-7411-4cc6-8b2a-bea21a24da4f-0', tool_calls=[{'name': 'load_meeting_data', 'args': {}, 'id': 'call_WCFXZpnzCozmjrQTxhvcjtyV', 'type': 'tool_call'}], usage_metadata={'input_tokens': 50, 'output_tokens': 12, 'total_tokens': 62, 'input_token_details': {'audio': 0, 'cache_read': 0}, 'output_token_details': {'audio': 0, 'reasoning': 0}})"
      ]
     },
     "execution_count": 16,
     "metadata": {},
     "output_type": "execute_result"
    }
   ],
   "source": [
    "response=llm_with_tool.invoke(\"can you load the meeting data?\")\n",
    "response"
   ]
  },
  {
   "cell_type": "code",
   "execution_count": null,
   "id": "678d7fff",
   "metadata": {},
   "outputs": [
    {
     "data": {
      "text/plain": [
       "[{'name': 'load_meeting_data',\n",
       "  'args': {},\n",
       "  'id': 'call_jt4Ll4BEy88giLvXPz4My9Et',\n",
       "  'type': 'tool_call'}]"
      ]
     },
     "execution_count": 17,
     "metadata": {},
     "output_type": "execute_result"
    }
   ],
   "source": [
    "llm_with_tool.invoke(\"can you load the meetings?\").tool_calls"
   ]
  },
  {
   "cell_type": "code",
   "execution_count": null,
   "id": "d3ba19f5",
   "metadata": {},
   "outputs": [
    {
     "data": {
      "text/plain": [
       "[{'name': 'load_meeting_data',\n",
       "  'args': {},\n",
       "  'id': 'call_tRv3E7lfwCzeBjWtzJvDzUiR',\n",
       "  'type': 'tool_call'}]"
      ]
     },
     "execution_count": 18,
     "metadata": {},
     "output_type": "execute_result"
    }
   ],
   "source": [
    "llm_with_tool.invoke(\"can you load and analyse the meetings?\").tool_calls"
   ]
  },
  {
   "cell_type": "code",
   "execution_count": 62,
   "id": "fb54daf2",
   "metadata": {},
   "outputs": [
    {
     "data": {
      "text/plain": [
       "[{'name': 'internet_search',\n",
       "  'args': {'state': {'messages': [{'role': 'user',\n",
       "      'content': 'Who won ipl 2025 qualifier 1?'}],\n",
       "    'analysis': ['The user is asking about a specific match in the IPL 2025, particularly the winner of Qualifier 1.',\n",
       "     \"This requires up-to-date information beyond the system's last training data.\",\n",
       "     'I will perform an internet search to find out the winner of IPL 2025 Qualifier 1.']}},\n",
       "  'id': 'call_efbgASYteXSam9TdNB6rTzJq',\n",
       "  'type': 'tool_call'}]"
      ]
     },
     "execution_count": 62,
     "metadata": {},
     "output_type": "execute_result"
    }
   ],
   "source": [
    "llm_with_tool.invoke(\"Who won ipl 2025 qualifier 1?\").tool_calls"
   ]
  },
  {
   "cell_type": "code",
   "execution_count": 74,
   "id": "bf5485fd",
   "metadata": {},
   "outputs": [],
   "source": [
    "from langchain_core.messages import HumanMessage, SystemMessage\n",
    "# System message\n",
    "sys_msg = SystemMessage(content=\"You are a helpful assistant interact with user gently, enables internet search and upon asked you will load the meeting data and analyze it to provide recommendations.\")\n"
   ]
  },
  {
   "cell_type": "code",
   "execution_count": 75,
   "id": "21bf951b",
   "metadata": {},
   "outputs": [],
   "source": [
    "#Defining the supervisor node as our llm\n",
    "def call_model(state:AgentState) -> dict:\n",
    "    question=state[\"messages\"][-1]  # Get the last message from the state\n",
    "    response=llm_with_tool.invoke([sys_msg]+question)  #instead of invoking the normal llm , we are using the binding llm which is binded to a tool\n",
    "    return {\"messages\":[response]}"
   ]
  },
  {
   "cell_type": "code",
   "execution_count": 76,
   "id": "e56b1bba",
   "metadata": {},
   "outputs": [],
   "source": [
    "# #lets ask a simpe query\n",
    "# input={'messages': ['load the outlook data']}  #quer\n",
    "# response=call_model(input)  #call the function with query and store the resul in response variable\n",
    "# message=response[\"messages\"]  #Take only messages from response\n",
    "# last_message=message[-1]  #Take the last message from all the messages\n",
    "# last_message"
   ]
  },
  {
   "cell_type": "code",
   "execution_count": 77,
   "id": "a46c5059",
   "metadata": {},
   "outputs": [
    {
     "data": {
      "text/plain": [
       "[StructuredTool(name='load_meeting_data', description='Tool to load meeting data from a CSV file.', args_schema=<class 'langchain_core.utils.pydantic.load_meeting_data'>, func=<function load_meeting_data at 0x0000027764BE23E0>),\n",
       " <function __main__.internet_search(state: __main__.AgentState) -> <function TypedDict at 0x000002775B1309A0>>]"
      ]
     },
     "execution_count": 77,
     "metadata": {},
     "output_type": "execute_result"
    }
   ],
   "source": [
    "tools"
   ]
  },
  {
   "cell_type": "code",
   "execution_count": 78,
   "id": "a22e7a85",
   "metadata": {},
   "outputs": [],
   "source": [
    "#Note: we have to create this tool as node for orchaestration pupose\n",
    "# for this tool to consume it as node inside our workflow, we have use this method below\n",
    "tool_node=ToolNode(tools)\n",
    "\n",
    "#now this \"tool_node\" variable is the node of our tool which can be used in orchaestrtion"
   ]
  },
  {
   "cell_type": "code",
   "execution_count": 79,
   "id": "2cf32885",
   "metadata": {},
   "outputs": [],
   "source": [
    "#Lets define a router and orchaestrate the workflow\n",
    "def router_function(state: AgentState):    #-> Literal[\"tools\", END]\n",
    "    message=state[\"messages\"]\n",
    "    last_message=message[-1]\n",
    "    if last_message.tool_calls:\n",
    "        return \"tools\"\n",
    "    return END"
   ]
  },
  {
   "cell_type": "code",
   "execution_count": 80,
   "id": "d71f0da3",
   "metadata": {},
   "outputs": [],
   "source": [
    "#Lets create the workflow with this router\n",
    "workflow=StateGraph(AgentState)"
   ]
  },
  {
   "cell_type": "code",
   "execution_count": 81,
   "id": "b65dd003",
   "metadata": {},
   "outputs": [
    {
     "data": {
      "text/plain": [
       "<langgraph.graph.state.StateGraph at 0x27765c3b5d0>"
      ]
     },
     "execution_count": 81,
     "metadata": {},
     "output_type": "execute_result"
    }
   ],
   "source": [
    "#create the nodes\n",
    "workflow.add_node(\"assistant\",call_model)\n",
    "workflow.add_node(\"load_meetings\", tool_node)#Consuming tool as node\n",
    "workflow.add_node(\"analyze_meetings\", analyze_meetings_batch)\n"
   ]
  },
  {
   "cell_type": "code",
   "execution_count": 82,
   "id": "16c4af5f",
   "metadata": {},
   "outputs": [
    {
     "data": {
      "text/plain": [
       "<langgraph.graph.state.StateGraph at 0x27765c3b5d0>"
      ]
     },
     "execution_count": 82,
     "metadata": {},
     "output_type": "execute_result"
    }
   ],
   "source": [
    "#Define the endges (conditional edges )\n",
    "workflow.add_edge(START, \"assistant\")\n",
    "\n",
    "workflow.add_conditional_edges(\"assistant\",\n",
    "                               router_function,\n",
    "                               {\"tools\": \"load_meetings\", END:END})\n",
    "workflow.add_edge(\"load_meetings\", \"analyze_meetings\")\n",
    "workflow.add_edge(\"analyze_meetings\", \"assistant\")\n",
    "workflow.add_edge(\"assistant\", END)\n",
    "\n",
    "\n"
   ]
  },
  {
   "cell_type": "code",
   "execution_count": 83,
   "id": "03ebf3d3",
   "metadata": {},
   "outputs": [],
   "source": [
    "#Lets compile\n",
    "memory_saver = MemorySaver()\n",
    "from uuid import uuid4\n",
    "session_id = str(uuid4())\n",
    "\n",
    "app = workflow.compile(checkpointer=memory_saver)"
   ]
  },
  {
   "cell_type": "code",
   "execution_count": 84,
   "id": "5eaa5d25",
   "metadata": {},
   "outputs": [
    {
     "data": {
      "image/png": "[encoded data removed]",
      "text/plain": [
       "<IPython.core.display.Image object>"
      ]
     },
     "metadata": {},
     "output_type": "display_data"
    }
   ],
   "source": [
    "#Lets visualize the graph\n",
    "from IPython.display import Image,display\n",
    "display(Image(app.get_graph().draw_mermaid_png()))"
   ]
  },
  {
   "cell_type": "code",
   "execution_count": 85,
   "id": "4c3971e1",
   "metadata": {},
   "outputs": [],
   "source": [
    "#Now lets invoke this app\n",
    "\n",
    "#invoking with a simple message\n",
    "# message=[HumanMessage(content=\"My Name is Yaseen Khan\")]\n",
    "# response=app.invoke({\"messages\": message}, config={\"configurable\": {\"thread_id\": session_id}})\n",
    "# response\n",
    "\n",
    "#Here we are getting the AI message from LLM (assistant) directly as this is simple query"
   ]
  },
  {
   "cell_type": "code",
   "execution_count": null,
   "id": "bffffa64",
   "metadata": {},
   "outputs": [
    {
     "ename": "TypeError",
     "evalue": "can only concatenate list (not \"HumanMessage\") to list",
     "output_type": "error",
     "traceback": [
      "\u001b[31m---------------------------------------------------------------------------\u001b[39m",
      "\u001b[31mTypeError\u001b[39m                                 Traceback (most recent call last)",
      "\u001b[36mCell\u001b[39m\u001b[36m \u001b[39m\u001b[32mIn[88]\u001b[39m\u001b[32m, line 2\u001b[39m\n\u001b[32m      1\u001b[39m message=content=\u001b[33m\"\u001b[39m\u001b[33mwho won the qaulifier 1 of ipl 2025?\u001b[39m\u001b[33m\"\u001b[39m\n\u001b[32m----> \u001b[39m\u001b[32m2\u001b[39m response=\u001b[43mapp\u001b[49m\u001b[43m.\u001b[49m\u001b[43minvoke\u001b[49m\u001b[43m(\u001b[49m\u001b[43m{\u001b[49m\u001b[33;43m\"\u001b[39;49m\u001b[33;43mmessages\u001b[39;49m\u001b[33;43m\"\u001b[39;49m\u001b[43m:\u001b[49m\u001b[43m \u001b[49m\u001b[43mmessage\u001b[49m\u001b[43m}\u001b[49m\u001b[43m,\u001b[49m\u001b[43mconfig\u001b[49m\u001b[43m=\u001b[49m\u001b[43m{\u001b[49m\u001b[33;43m\"\u001b[39;49m\u001b[33;43mconfigurable\u001b[39;49m\u001b[33;43m\"\u001b[39;49m\u001b[43m:\u001b[49m\u001b[43m \u001b[49m\u001b[43m{\u001b[49m\u001b[33;43m\"\u001b[39;49m\u001b[33;43mthread_id\u001b[39;49m\u001b[33;43m\"\u001b[39;49m\u001b[43m:\u001b[49m\u001b[43m \u001b[49m\u001b[43msession_id\u001b[49m\u001b[43m}\u001b[49m\u001b[43m}\u001b[49m\u001b[43m)\u001b[49m\n\u001b[32m      3\u001b[39m response\n",
      "\u001b[36mFile \u001b[39m\u001b[32mc:\\Users\\Yaseen Khan\\Documents\\Data Sceince\\Hackathon\\Infy_Hackathon\\venv\\Lib\\site-packages\\langgraph\\pregel\\__init__.py:2719\u001b[39m, in \u001b[36mPregel.invoke\u001b[39m\u001b[34m(self, input, config, stream_mode, output_keys, interrupt_before, interrupt_after, checkpoint_during, debug, **kwargs)\u001b[39m\n\u001b[32m   2716\u001b[39m chunks: \u001b[38;5;28mlist\u001b[39m[Union[\u001b[38;5;28mdict\u001b[39m[\u001b[38;5;28mstr\u001b[39m, Any], Any]] = []\n\u001b[32m   2717\u001b[39m interrupts: \u001b[38;5;28mlist\u001b[39m[Interrupt] = []\n\u001b[32m-> \u001b[39m\u001b[32m2719\u001b[39m \u001b[43m\u001b[49m\u001b[38;5;28;43;01mfor\u001b[39;49;00m\u001b[43m \u001b[49m\u001b[43mchunk\u001b[49m\u001b[43m \u001b[49m\u001b[38;5;129;43;01min\u001b[39;49;00m\u001b[43m \u001b[49m\u001b[38;5;28;43mself\u001b[39;49m\u001b[43m.\u001b[49m\u001b[43mstream\u001b[49m\u001b[43m(\u001b[49m\n\u001b[32m   2720\u001b[39m \u001b[43m    \u001b[49m\u001b[38;5;28;43minput\u001b[39;49m\u001b[43m,\u001b[49m\n\u001b[32m   2721\u001b[39m \u001b[43m    \u001b[49m\u001b[43mconfig\u001b[49m\u001b[43m,\u001b[49m\n\u001b[32m   2722\u001b[39m \u001b[43m    \u001b[49m\u001b[43mstream_mode\u001b[49m\u001b[43m=\u001b[49m\u001b[43mstream_mode\u001b[49m\u001b[43m,\u001b[49m\n\u001b[32m   2723\u001b[39m \u001b[43m    \u001b[49m\u001b[43moutput_keys\u001b[49m\u001b[43m=\u001b[49m\u001b[43moutput_keys\u001b[49m\u001b[43m,\u001b[49m\n\u001b[32m   2724\u001b[39m \u001b[43m    \u001b[49m\u001b[43minterrupt_before\u001b[49m\u001b[43m=\u001b[49m\u001b[43minterrupt_before\u001b[49m\u001b[43m,\u001b[49m\n\u001b[32m   2725\u001b[39m \u001b[43m    \u001b[49m\u001b[43minterrupt_after\u001b[49m\u001b[43m=\u001b[49m\u001b[43minterrupt_after\u001b[49m\u001b[43m,\u001b[49m\n\u001b[32m   2726\u001b[39m \u001b[43m    \u001b[49m\u001b[43mcheckpoint_during\u001b[49m\u001b[43m=\u001b[49m\u001b[43mcheckpoint_during\u001b[49m\u001b[43m,\u001b[49m\n\u001b[32m   2727\u001b[39m \u001b[43m    \u001b[49m\u001b[43mdebug\u001b[49m\u001b[43m=\u001b[49m\u001b[43mdebug\u001b[49m\u001b[43m,\u001b[49m\n\u001b[32m   2728\u001b[39m \u001b[43m    \u001b[49m\u001b[43m*\u001b[49m\u001b[43m*\u001b[49m\u001b[43mkwargs\u001b[49m\u001b[43m,\u001b[49m\n\u001b[32m   2729\u001b[39m \u001b[43m\u001b[49m\u001b[43m)\u001b[49m\u001b[43m:\u001b[49m\n\u001b[32m   2730\u001b[39m \u001b[43m    \u001b[49m\u001b[38;5;28;43;01mif\u001b[39;49;00m\u001b[43m \u001b[49m\u001b[43mstream_mode\u001b[49m\u001b[43m \u001b[49m\u001b[43m==\u001b[49m\u001b[43m \u001b[49m\u001b[33;43m\"\u001b[39;49m\u001b[33;43mvalues\u001b[39;49m\u001b[33;43m\"\u001b[39;49m\u001b[43m:\u001b[49m\n\u001b[32m   2731\u001b[39m \u001b[43m        \u001b[49m\u001b[38;5;28;43;01mif\u001b[39;49;00m\u001b[43m \u001b[49m\u001b[43m(\u001b[49m\n\u001b[32m   2732\u001b[39m \u001b[43m            \u001b[49m\u001b[38;5;28;43misinstance\u001b[39;49m\u001b[43m(\u001b[49m\u001b[43mchunk\u001b[49m\u001b[43m,\u001b[49m\u001b[43m \u001b[49m\u001b[38;5;28;43mdict\u001b[39;49m\u001b[43m)\u001b[49m\n\u001b[32m   2733\u001b[39m \u001b[43m            \u001b[49m\u001b[38;5;129;43;01mand\u001b[39;49;00m\u001b[43m \u001b[49m\u001b[43m(\u001b[49m\u001b[43mints\u001b[49m\u001b[43m \u001b[49m\u001b[43m:=\u001b[49m\u001b[43m \u001b[49m\u001b[43mchunk\u001b[49m\u001b[43m.\u001b[49m\u001b[43mget\u001b[49m\u001b[43m(\u001b[49m\u001b[43mINTERRUPT\u001b[49m\u001b[43m)\u001b[49m\u001b[43m)\u001b[49m\u001b[43m \u001b[49m\u001b[38;5;129;43;01mis\u001b[39;49;00m\u001b[43m \u001b[49m\u001b[38;5;129;43;01mnot\u001b[39;49;00m\u001b[43m \u001b[49m\u001b[38;5;28;43;01mNone\u001b[39;49;00m\n\u001b[32m   2734\u001b[39m \u001b[43m        \u001b[49m\u001b[43m)\u001b[49m\u001b[43m:\u001b[49m\n",
      "\u001b[36mFile \u001b[39m\u001b[32mc:\\Users\\Yaseen Khan\\Documents\\Data Sceince\\Hackathon\\Infy_Hackathon\\venv\\Lib\\site-packages\\langgraph\\pregel\\__init__.py:2436\u001b[39m, in \u001b[36mPregel.stream\u001b[39m\u001b[34m(self, input, config, stream_mode, output_keys, interrupt_before, interrupt_after, checkpoint_during, debug, subgraphs)\u001b[39m\n\u001b[32m   2434\u001b[39m         \u001b[38;5;28;01mfor\u001b[39;00m task \u001b[38;5;129;01min\u001b[39;00m loop.match_cached_writes():\n\u001b[32m   2435\u001b[39m             loop.output_writes(task.id, task.writes, cached=\u001b[38;5;28;01mTrue\u001b[39;00m)\n\u001b[32m-> \u001b[39m\u001b[32m2436\u001b[39m \u001b[43m        \u001b[49m\u001b[38;5;28;43;01mfor\u001b[39;49;00m\u001b[43m \u001b[49m\u001b[43m_\u001b[49m\u001b[43m \u001b[49m\u001b[38;5;129;43;01min\u001b[39;49;00m\u001b[43m \u001b[49m\u001b[43mrunner\u001b[49m\u001b[43m.\u001b[49m\u001b[43mtick\u001b[49m\u001b[43m(\u001b[49m\n\u001b[32m   2437\u001b[39m \u001b[43m            \u001b[49m\u001b[43m[\u001b[49m\u001b[43mt\u001b[49m\u001b[43m \u001b[49m\u001b[38;5;28;43;01mfor\u001b[39;49;00m\u001b[43m \u001b[49m\u001b[43mt\u001b[49m\u001b[43m \u001b[49m\u001b[38;5;129;43;01min\u001b[39;49;00m\u001b[43m \u001b[49m\u001b[43mloop\u001b[49m\u001b[43m.\u001b[49m\u001b[43mtasks\u001b[49m\u001b[43m.\u001b[49m\u001b[43mvalues\u001b[49m\u001b[43m(\u001b[49m\u001b[43m)\u001b[49m\u001b[43m \u001b[49m\u001b[38;5;28;43;01mif\u001b[39;49;00m\u001b[43m \u001b[49m\u001b[38;5;129;43;01mnot\u001b[39;49;00m\u001b[43m \u001b[49m\u001b[43mt\u001b[49m\u001b[43m.\u001b[49m\u001b[43mwrites\u001b[49m\u001b[43m]\u001b[49m\u001b[43m,\u001b[49m\n\u001b[32m   2438\u001b[39m \u001b[43m            \u001b[49m\u001b[43mtimeout\u001b[49m\u001b[43m=\u001b[49m\u001b[38;5;28;43mself\u001b[39;49m\u001b[43m.\u001b[49m\u001b[43mstep_timeout\u001b[49m\u001b[43m,\u001b[49m\n\u001b[32m   2439\u001b[39m \u001b[43m            \u001b[49m\u001b[43mget_waiter\u001b[49m\u001b[43m=\u001b[49m\u001b[43mget_waiter\u001b[49m\u001b[43m,\u001b[49m\n\u001b[32m   2440\u001b[39m \u001b[43m            \u001b[49m\u001b[43mschedule_task\u001b[49m\u001b[43m=\u001b[49m\u001b[43mloop\u001b[49m\u001b[43m.\u001b[49m\u001b[43maccept_push\u001b[49m\u001b[43m,\u001b[49m\n\u001b[32m   2441\u001b[39m \u001b[43m        \u001b[49m\u001b[43m)\u001b[49m\u001b[43m:\u001b[49m\n\u001b[32m   2442\u001b[39m \u001b[43m            \u001b[49m\u001b[38;5;66;43;03m# emit output\u001b[39;49;00m\n\u001b[32m   2443\u001b[39m \u001b[43m            \u001b[49m\u001b[38;5;28;43;01myield from\u001b[39;49;00m\u001b[43m \u001b[49m\u001b[43moutput\u001b[49m\u001b[43m(\u001b[49m\u001b[43m)\u001b[49m\n\u001b[32m   2444\u001b[39m \u001b[38;5;66;03m# emit output\u001b[39;00m\n",
      "\u001b[36mFile \u001b[39m\u001b[32mc:\\Users\\Yaseen Khan\\Documents\\Data Sceince\\Hackathon\\Infy_Hackathon\\venv\\Lib\\site-packages\\langgraph\\pregel\\runner.py:161\u001b[39m, in \u001b[36mPregelRunner.tick\u001b[39m\u001b[34m(self, tasks, reraise, timeout, retry_policy, get_waiter, schedule_task)\u001b[39m\n\u001b[32m    159\u001b[39m t = tasks[\u001b[32m0\u001b[39m]\n\u001b[32m    160\u001b[39m \u001b[38;5;28;01mtry\u001b[39;00m:\n\u001b[32m--> \u001b[39m\u001b[32m161\u001b[39m     \u001b[43mrun_with_retry\u001b[49m\u001b[43m(\u001b[49m\n\u001b[32m    162\u001b[39m \u001b[43m        \u001b[49m\u001b[43mt\u001b[49m\u001b[43m,\u001b[49m\n\u001b[32m    163\u001b[39m \u001b[43m        \u001b[49m\u001b[43mretry_policy\u001b[49m\u001b[43m,\u001b[49m\n\u001b[32m    164\u001b[39m \u001b[43m        \u001b[49m\u001b[43mconfigurable\u001b[49m\u001b[43m=\u001b[49m\u001b[43m{\u001b[49m\n\u001b[32m    165\u001b[39m \u001b[43m            \u001b[49m\u001b[43mCONFIG_KEY_CALL\u001b[49m\u001b[43m:\u001b[49m\u001b[43m \u001b[49m\u001b[43mpartial\u001b[49m\u001b[43m(\u001b[49m\n\u001b[32m    166\u001b[39m \u001b[43m                \u001b[49m\u001b[43m_call\u001b[49m\u001b[43m,\u001b[49m\n\u001b[32m    167\u001b[39m \u001b[43m                \u001b[49m\u001b[43mweakref\u001b[49m\u001b[43m.\u001b[49m\u001b[43mref\u001b[49m\u001b[43m(\u001b[49m\u001b[43mt\u001b[49m\u001b[43m)\u001b[49m\u001b[43m,\u001b[49m\n\u001b[32m    168\u001b[39m \u001b[43m                \u001b[49m\u001b[43mretry\u001b[49m\u001b[43m=\u001b[49m\u001b[43mretry_policy\u001b[49m\u001b[43m,\u001b[49m\n\u001b[32m    169\u001b[39m \u001b[43m                \u001b[49m\u001b[43mfutures\u001b[49m\u001b[43m=\u001b[49m\u001b[43mweakref\u001b[49m\u001b[43m.\u001b[49m\u001b[43mref\u001b[49m\u001b[43m(\u001b[49m\u001b[43mfutures\u001b[49m\u001b[43m)\u001b[49m\u001b[43m,\u001b[49m\n\u001b[32m    170\u001b[39m \u001b[43m                \u001b[49m\u001b[43mschedule_task\u001b[49m\u001b[43m=\u001b[49m\u001b[43mschedule_task\u001b[49m\u001b[43m,\u001b[49m\n\u001b[32m    171\u001b[39m \u001b[43m                \u001b[49m\u001b[43msubmit\u001b[49m\u001b[43m=\u001b[49m\u001b[38;5;28;43mself\u001b[39;49m\u001b[43m.\u001b[49m\u001b[43msubmit\u001b[49m\u001b[43m,\u001b[49m\n\u001b[32m    172\u001b[39m \u001b[43m            \u001b[49m\u001b[43m)\u001b[49m\u001b[43m,\u001b[49m\n\u001b[32m    173\u001b[39m \u001b[43m        \u001b[49m\u001b[43m}\u001b[49m\u001b[43m,\u001b[49m\n\u001b[32m    174\u001b[39m \u001b[43m    \u001b[49m\u001b[43m)\u001b[49m\n\u001b[32m    175\u001b[39m     \u001b[38;5;28mself\u001b[39m.commit(t, \u001b[38;5;28;01mNone\u001b[39;00m)\n\u001b[32m    176\u001b[39m \u001b[38;5;28;01mexcept\u001b[39;00m \u001b[38;5;167;01mException\u001b[39;00m \u001b[38;5;28;01mas\u001b[39;00m exc:\n",
      "\u001b[36mFile \u001b[39m\u001b[32mc:\\Users\\Yaseen Khan\\Documents\\Data Sceince\\Hackathon\\Infy_Hackathon\\venv\\Lib\\site-packages\\langgraph\\pregel\\retry.py:40\u001b[39m, in \u001b[36mrun_with_retry\u001b[39m\u001b[34m(task, retry_policy, configurable)\u001b[39m\n\u001b[32m     38\u001b[39m     task.writes.clear()\n\u001b[32m     39\u001b[39m     \u001b[38;5;66;03m# run the task\u001b[39;00m\n\u001b[32m---> \u001b[39m\u001b[32m40\u001b[39m     \u001b[38;5;28;01mreturn\u001b[39;00m \u001b[43mtask\u001b[49m\u001b[43m.\u001b[49m\u001b[43mproc\u001b[49m\u001b[43m.\u001b[49m\u001b[43minvoke\u001b[49m\u001b[43m(\u001b[49m\u001b[43mtask\u001b[49m\u001b[43m.\u001b[49m\u001b[43minput\u001b[49m\u001b[43m,\u001b[49m\u001b[43m \u001b[49m\u001b[43mconfig\u001b[49m\u001b[43m)\u001b[49m\n\u001b[32m     41\u001b[39m \u001b[38;5;28;01mexcept\u001b[39;00m ParentCommand \u001b[38;5;28;01mas\u001b[39;00m exc:\n\u001b[32m     42\u001b[39m     ns: \u001b[38;5;28mstr\u001b[39m = config[CONF][CONFIG_KEY_CHECKPOINT_NS]\n",
      "\u001b[36mFile \u001b[39m\u001b[32mc:\\Users\\Yaseen Khan\\Documents\\Data Sceince\\Hackathon\\Infy_Hackathon\\venv\\Lib\\site-packages\\langgraph\\utils\\runnable.py:623\u001b[39m, in \u001b[36mRunnableSeq.invoke\u001b[39m\u001b[34m(self, input, config, **kwargs)\u001b[39m\n\u001b[32m    621\u001b[39m     \u001b[38;5;66;03m# run in context\u001b[39;00m\n\u001b[32m    622\u001b[39m     \u001b[38;5;28;01mwith\u001b[39;00m set_config_context(config, run) \u001b[38;5;28;01mas\u001b[39;00m context:\n\u001b[32m--> \u001b[39m\u001b[32m623\u001b[39m         \u001b[38;5;28minput\u001b[39m = \u001b[43mcontext\u001b[49m\u001b[43m.\u001b[49m\u001b[43mrun\u001b[49m\u001b[43m(\u001b[49m\u001b[43mstep\u001b[49m\u001b[43m.\u001b[49m\u001b[43minvoke\u001b[49m\u001b[43m,\u001b[49m\u001b[43m \u001b[49m\u001b[38;5;28;43minput\u001b[39;49m\u001b[43m,\u001b[49m\u001b[43m \u001b[49m\u001b[43mconfig\u001b[49m\u001b[43m,\u001b[49m\u001b[43m \u001b[49m\u001b[43m*\u001b[49m\u001b[43m*\u001b[49m\u001b[43mkwargs\u001b[49m\u001b[43m)\u001b[49m\n\u001b[32m    624\u001b[39m \u001b[38;5;28;01melse\u001b[39;00m:\n\u001b[32m    625\u001b[39m     \u001b[38;5;28minput\u001b[39m = step.invoke(\u001b[38;5;28minput\u001b[39m, config)\n",
      "\u001b[36mFile \u001b[39m\u001b[32mc:\\Users\\Yaseen Khan\\Documents\\Data Sceince\\Hackathon\\Infy_Hackathon\\venv\\Lib\\site-packages\\langgraph\\utils\\runnable.py:377\u001b[39m, in \u001b[36mRunnableCallable.invoke\u001b[39m\u001b[34m(self, input, config, **kwargs)\u001b[39m\n\u001b[32m    375\u001b[39m         run_manager.on_chain_end(ret)\n\u001b[32m    376\u001b[39m \u001b[38;5;28;01melse\u001b[39;00m:\n\u001b[32m--> \u001b[39m\u001b[32m377\u001b[39m     ret = \u001b[38;5;28;43mself\u001b[39;49m\u001b[43m.\u001b[49m\u001b[43mfunc\u001b[49m\u001b[43m(\u001b[49m\u001b[43m*\u001b[49m\u001b[43margs\u001b[49m\u001b[43m,\u001b[49m\u001b[43m \u001b[49m\u001b[43m*\u001b[49m\u001b[43m*\u001b[49m\u001b[43mkwargs\u001b[49m\u001b[43m)\u001b[49m\n\u001b[32m    378\u001b[39m \u001b[38;5;28;01mif\u001b[39;00m \u001b[38;5;28mself\u001b[39m.recurse \u001b[38;5;129;01mand\u001b[39;00m \u001b[38;5;28misinstance\u001b[39m(ret, Runnable):\n\u001b[32m    379\u001b[39m     \u001b[38;5;28;01mreturn\u001b[39;00m ret.invoke(\u001b[38;5;28minput\u001b[39m, config)\n",
      "\u001b[36mCell\u001b[39m\u001b[36m \u001b[39m\u001b[32mIn[75]\u001b[39m\u001b[32m, line 4\u001b[39m, in \u001b[36mcall_model\u001b[39m\u001b[34m(state)\u001b[39m\n\u001b[32m      2\u001b[39m \u001b[38;5;28;01mdef\u001b[39;00m\u001b[38;5;250m \u001b[39m\u001b[34mcall_model\u001b[39m(state:AgentState) -> \u001b[38;5;28mdict\u001b[39m:\n\u001b[32m      3\u001b[39m     question=state[\u001b[33m\"\u001b[39m\u001b[33mmessages\u001b[39m\u001b[33m\"\u001b[39m][-\u001b[32m1\u001b[39m]  \u001b[38;5;66;03m# Get the last message from the state\u001b[39;00m\n\u001b[32m----> \u001b[39m\u001b[32m4\u001b[39m     response=llm_with_tool.invoke(\u001b[43m[\u001b[49m\u001b[43msys_msg\u001b[49m\u001b[43m]\u001b[49m\u001b[43m+\u001b[49m\u001b[43mquestion\u001b[49m)  \u001b[38;5;66;03m#instead of invoking the normal llm , we are using the binding llm which is binded to a tool\u001b[39;00m\n\u001b[32m      5\u001b[39m     \u001b[38;5;28;01mreturn\u001b[39;00m {\u001b[33m\"\u001b[39m\u001b[33mmessages\u001b[39m\u001b[33m\"\u001b[39m:[response]}\n",
      "\u001b[31mTypeError\u001b[39m: can only concatenate list (not \"HumanMessage\") to list",
      "During task with name 'assistant' and id 'da0acbbd-2baa-23b3-7c83-64da6e72d5ba'"
     ]
    }
   ],
   "source": [
    "message=[HumanMessage(content=\"who won the qaulifier 1 of ipl 2025?\")]\n",
    "response=app.invoke({\"messages\": message},config={\"configurable\": {\"thread_id\": session_id}})\n",
    "response"
   ]
  },
  {
   "cell_type": "code",
   "execution_count": 87,
   "id": "cf46feab",
   "metadata": {},
   "outputs": [
    {
     "ename": "TypeError",
     "evalue": "can only concatenate list (not \"HumanMessage\") to list",
     "output_type": "error",
     "traceback": [
      "\u001b[31m---------------------------------------------------------------------------\u001b[39m",
      "\u001b[31mTypeError\u001b[39m                                 Traceback (most recent call last)",
      "\u001b[36mCell\u001b[39m\u001b[36m \u001b[39m\u001b[32mIn[87]\u001b[39m\u001b[32m, line 2\u001b[39m\n\u001b[32m      1\u001b[39m message=[HumanMessage(content=\u001b[33m\"\u001b[39m\u001b[33mcan you load the meeting data and analyse each meeting and recommend the action itmes in each meeting?\u001b[39m\u001b[33m\"\u001b[39m)]\n\u001b[32m----> \u001b[39m\u001b[32m2\u001b[39m response=\u001b[43mapp\u001b[49m\u001b[43m.\u001b[49m\u001b[43minvoke\u001b[49m\u001b[43m(\u001b[49m\u001b[43m{\u001b[49m\u001b[33;43m\"\u001b[39;49m\u001b[33;43mmessages\u001b[39;49m\u001b[33;43m\"\u001b[39;49m\u001b[43m:\u001b[49m\u001b[43m \u001b[49m\u001b[43mmessage\u001b[49m\u001b[43m}\u001b[49m\u001b[43m,\u001b[49m\u001b[43mconfig\u001b[49m\u001b[43m=\u001b[49m\u001b[43m{\u001b[49m\u001b[33;43m\"\u001b[39;49m\u001b[33;43mconfigurable\u001b[39;49m\u001b[33;43m\"\u001b[39;49m\u001b[43m:\u001b[49m\u001b[43m \u001b[49m\u001b[43m{\u001b[49m\u001b[33;43m\"\u001b[39;49m\u001b[33;43mthread_id\u001b[39;49m\u001b[33;43m\"\u001b[39;49m\u001b[43m:\u001b[49m\u001b[43m \u001b[49m\u001b[43msession_id\u001b[49m\u001b[43m}\u001b[49m\u001b[43m}\u001b[49m\u001b[43m)\u001b[49m\n\u001b[32m      3\u001b[39m response\n",
      "\u001b[36mFile \u001b[39m\u001b[32mc:\\Users\\Yaseen Khan\\Documents\\Data Sceince\\Hackathon\\Infy_Hackathon\\venv\\Lib\\site-packages\\langgraph\\pregel\\__init__.py:2719\u001b[39m, in \u001b[36mPregel.invoke\u001b[39m\u001b[34m(self, input, config, stream_mode, output_keys, interrupt_before, interrupt_after, checkpoint_during, debug, **kwargs)\u001b[39m\n\u001b[32m   2716\u001b[39m chunks: \u001b[38;5;28mlist\u001b[39m[Union[\u001b[38;5;28mdict\u001b[39m[\u001b[38;5;28mstr\u001b[39m, Any], Any]] = []\n\u001b[32m   2717\u001b[39m interrupts: \u001b[38;5;28mlist\u001b[39m[Interrupt] = []\n\u001b[32m-> \u001b[39m\u001b[32m2719\u001b[39m \u001b[43m\u001b[49m\u001b[38;5;28;43;01mfor\u001b[39;49;00m\u001b[43m \u001b[49m\u001b[43mchunk\u001b[49m\u001b[43m \u001b[49m\u001b[38;5;129;43;01min\u001b[39;49;00m\u001b[43m \u001b[49m\u001b[38;5;28;43mself\u001b[39;49m\u001b[43m.\u001b[49m\u001b[43mstream\u001b[49m\u001b[43m(\u001b[49m\n\u001b[32m   2720\u001b[39m \u001b[43m    \u001b[49m\u001b[38;5;28;43minput\u001b[39;49m\u001b[43m,\u001b[49m\n\u001b[32m   2721\u001b[39m \u001b[43m    \u001b[49m\u001b[43mconfig\u001b[49m\u001b[43m,\u001b[49m\n\u001b[32m   2722\u001b[39m \u001b[43m    \u001b[49m\u001b[43mstream_mode\u001b[49m\u001b[43m=\u001b[49m\u001b[43mstream_mode\u001b[49m\u001b[43m,\u001b[49m\n\u001b[32m   2723\u001b[39m \u001b[43m    \u001b[49m\u001b[43moutput_keys\u001b[49m\u001b[43m=\u001b[49m\u001b[43moutput_keys\u001b[49m\u001b[43m,\u001b[49m\n\u001b[32m   2724\u001b[39m \u001b[43m    \u001b[49m\u001b[43minterrupt_before\u001b[49m\u001b[43m=\u001b[49m\u001b[43minterrupt_before\u001b[49m\u001b[43m,\u001b[49m\n\u001b[32m   2725\u001b[39m \u001b[43m    \u001b[49m\u001b[43minterrupt_after\u001b[49m\u001b[43m=\u001b[49m\u001b[43minterrupt_after\u001b[49m\u001b[43m,\u001b[49m\n\u001b[32m   2726\u001b[39m \u001b[43m    \u001b[49m\u001b[43mcheckpoint_during\u001b[49m\u001b[43m=\u001b[49m\u001b[43mcheckpoint_during\u001b[49m\u001b[43m,\u001b[49m\n\u001b[32m   2727\u001b[39m \u001b[43m    \u001b[49m\u001b[43mdebug\u001b[49m\u001b[43m=\u001b[49m\u001b[43mdebug\u001b[49m\u001b[43m,\u001b[49m\n\u001b[32m   2728\u001b[39m \u001b[43m    \u001b[49m\u001b[43m*\u001b[49m\u001b[43m*\u001b[49m\u001b[43mkwargs\u001b[49m\u001b[43m,\u001b[49m\n\u001b[32m   2729\u001b[39m \u001b[43m\u001b[49m\u001b[43m)\u001b[49m\u001b[43m:\u001b[49m\n\u001b[32m   2730\u001b[39m \u001b[43m    \u001b[49m\u001b[38;5;28;43;01mif\u001b[39;49;00m\u001b[43m \u001b[49m\u001b[43mstream_mode\u001b[49m\u001b[43m \u001b[49m\u001b[43m==\u001b[49m\u001b[43m \u001b[49m\u001b[33;43m\"\u001b[39;49m\u001b[33;43mvalues\u001b[39;49m\u001b[33;43m\"\u001b[39;49m\u001b[43m:\u001b[49m\n\u001b[32m   2731\u001b[39m \u001b[43m        \u001b[49m\u001b[38;5;28;43;01mif\u001b[39;49;00m\u001b[43m \u001b[49m\u001b[43m(\u001b[49m\n\u001b[32m   2732\u001b[39m \u001b[43m            \u001b[49m\u001b[38;5;28;43misinstance\u001b[39;49m\u001b[43m(\u001b[49m\u001b[43mchunk\u001b[49m\u001b[43m,\u001b[49m\u001b[43m \u001b[49m\u001b[38;5;28;43mdict\u001b[39;49m\u001b[43m)\u001b[49m\n\u001b[32m   2733\u001b[39m \u001b[43m            \u001b[49m\u001b[38;5;129;43;01mand\u001b[39;49;00m\u001b[43m \u001b[49m\u001b[43m(\u001b[49m\u001b[43mints\u001b[49m\u001b[43m \u001b[49m\u001b[43m:=\u001b[49m\u001b[43m \u001b[49m\u001b[43mchunk\u001b[49m\u001b[43m.\u001b[49m\u001b[43mget\u001b[49m\u001b[43m(\u001b[49m\u001b[43mINTERRUPT\u001b[49m\u001b[43m)\u001b[49m\u001b[43m)\u001b[49m\u001b[43m \u001b[49m\u001b[38;5;129;43;01mis\u001b[39;49;00m\u001b[43m \u001b[49m\u001b[38;5;129;43;01mnot\u001b[39;49;00m\u001b[43m \u001b[49m\u001b[38;5;28;43;01mNone\u001b[39;49;00m\n\u001b[32m   2734\u001b[39m \u001b[43m        \u001b[49m\u001b[43m)\u001b[49m\u001b[43m:\u001b[49m\n",
      "\u001b[36mFile \u001b[39m\u001b[32mc:\\Users\\Yaseen Khan\\Documents\\Data Sceince\\Hackathon\\Infy_Hackathon\\venv\\Lib\\site-packages\\langgraph\\pregel\\__init__.py:2436\u001b[39m, in \u001b[36mPregel.stream\u001b[39m\u001b[34m(self, input, config, stream_mode, output_keys, interrupt_before, interrupt_after, checkpoint_during, debug, subgraphs)\u001b[39m\n\u001b[32m   2434\u001b[39m         \u001b[38;5;28;01mfor\u001b[39;00m task \u001b[38;5;129;01min\u001b[39;00m loop.match_cached_writes():\n\u001b[32m   2435\u001b[39m             loop.output_writes(task.id, task.writes, cached=\u001b[38;5;28;01mTrue\u001b[39;00m)\n\u001b[32m-> \u001b[39m\u001b[32m2436\u001b[39m \u001b[43m        \u001b[49m\u001b[38;5;28;43;01mfor\u001b[39;49;00m\u001b[43m \u001b[49m\u001b[43m_\u001b[49m\u001b[43m \u001b[49m\u001b[38;5;129;43;01min\u001b[39;49;00m\u001b[43m \u001b[49m\u001b[43mrunner\u001b[49m\u001b[43m.\u001b[49m\u001b[43mtick\u001b[49m\u001b[43m(\u001b[49m\n\u001b[32m   2437\u001b[39m \u001b[43m            \u001b[49m\u001b[43m[\u001b[49m\u001b[43mt\u001b[49m\u001b[43m \u001b[49m\u001b[38;5;28;43;01mfor\u001b[39;49;00m\u001b[43m \u001b[49m\u001b[43mt\u001b[49m\u001b[43m \u001b[49m\u001b[38;5;129;43;01min\u001b[39;49;00m\u001b[43m \u001b[49m\u001b[43mloop\u001b[49m\u001b[43m.\u001b[49m\u001b[43mtasks\u001b[49m\u001b[43m.\u001b[49m\u001b[43mvalues\u001b[49m\u001b[43m(\u001b[49m\u001b[43m)\u001b[49m\u001b[43m \u001b[49m\u001b[38;5;28;43;01mif\u001b[39;49;00m\u001b[43m \u001b[49m\u001b[38;5;129;43;01mnot\u001b[39;49;00m\u001b[43m \u001b[49m\u001b[43mt\u001b[49m\u001b[43m.\u001b[49m\u001b[43mwrites\u001b[49m\u001b[43m]\u001b[49m\u001b[43m,\u001b[49m\n\u001b[32m   2438\u001b[39m \u001b[43m            \u001b[49m\u001b[43mtimeout\u001b[49m\u001b[43m=\u001b[49m\u001b[38;5;28;43mself\u001b[39;49m\u001b[43m.\u001b[49m\u001b[43mstep_timeout\u001b[49m\u001b[43m,\u001b[49m\n\u001b[32m   2439\u001b[39m \u001b[43m            \u001b[49m\u001b[43mget_waiter\u001b[49m\u001b[43m=\u001b[49m\u001b[43mget_waiter\u001b[49m\u001b[43m,\u001b[49m\n\u001b[32m   2440\u001b[39m \u001b[43m            \u001b[49m\u001b[43mschedule_task\u001b[49m\u001b[43m=\u001b[49m\u001b[43mloop\u001b[49m\u001b[43m.\u001b[49m\u001b[43maccept_push\u001b[49m\u001b[43m,\u001b[49m\n\u001b[32m   2441\u001b[39m \u001b[43m        \u001b[49m\u001b[43m)\u001b[49m\u001b[43m:\u001b[49m\n\u001b[32m   2442\u001b[39m \u001b[43m            \u001b[49m\u001b[38;5;66;43;03m# emit output\u001b[39;49;00m\n\u001b[32m   2443\u001b[39m \u001b[43m            \u001b[49m\u001b[38;5;28;43;01myield from\u001b[39;49;00m\u001b[43m \u001b[49m\u001b[43moutput\u001b[49m\u001b[43m(\u001b[49m\u001b[43m)\u001b[49m\n\u001b[32m   2444\u001b[39m \u001b[38;5;66;03m# emit output\u001b[39;00m\n",
      "\u001b[36mFile \u001b[39m\u001b[32mc:\\Users\\Yaseen Khan\\Documents\\Data Sceince\\Hackathon\\Infy_Hackathon\\venv\\Lib\\site-packages\\langgraph\\pregel\\runner.py:161\u001b[39m, in \u001b[36mPregelRunner.tick\u001b[39m\u001b[34m(self, tasks, reraise, timeout, retry_policy, get_waiter, schedule_task)\u001b[39m\n\u001b[32m    159\u001b[39m t = tasks[\u001b[32m0\u001b[39m]\n\u001b[32m    160\u001b[39m \u001b[38;5;28;01mtry\u001b[39;00m:\n\u001b[32m--> \u001b[39m\u001b[32m161\u001b[39m     \u001b[43mrun_with_retry\u001b[49m\u001b[43m(\u001b[49m\n\u001b[32m    162\u001b[39m \u001b[43m        \u001b[49m\u001b[43mt\u001b[49m\u001b[43m,\u001b[49m\n\u001b[32m    163\u001b[39m \u001b[43m        \u001b[49m\u001b[43mretry_policy\u001b[49m\u001b[43m,\u001b[49m\n\u001b[32m    164\u001b[39m \u001b[43m        \u001b[49m\u001b[43mconfigurable\u001b[49m\u001b[43m=\u001b[49m\u001b[43m{\u001b[49m\n\u001b[32m    165\u001b[39m \u001b[43m            \u001b[49m\u001b[43mCONFIG_KEY_CALL\u001b[49m\u001b[43m:\u001b[49m\u001b[43m \u001b[49m\u001b[43mpartial\u001b[49m\u001b[43m(\u001b[49m\n\u001b[32m    166\u001b[39m \u001b[43m                \u001b[49m\u001b[43m_call\u001b[49m\u001b[43m,\u001b[49m\n\u001b[32m    167\u001b[39m \u001b[43m                \u001b[49m\u001b[43mweakref\u001b[49m\u001b[43m.\u001b[49m\u001b[43mref\u001b[49m\u001b[43m(\u001b[49m\u001b[43mt\u001b[49m\u001b[43m)\u001b[49m\u001b[43m,\u001b[49m\n\u001b[32m    168\u001b[39m \u001b[43m                \u001b[49m\u001b[43mretry\u001b[49m\u001b[43m=\u001b[49m\u001b[43mretry_policy\u001b[49m\u001b[43m,\u001b[49m\n\u001b[32m    169\u001b[39m \u001b[43m                \u001b[49m\u001b[43mfutures\u001b[49m\u001b[43m=\u001b[49m\u001b[43mweakref\u001b[49m\u001b[43m.\u001b[49m\u001b[43mref\u001b[49m\u001b[43m(\u001b[49m\u001b[43mfutures\u001b[49m\u001b[43m)\u001b[49m\u001b[43m,\u001b[49m\n\u001b[32m    170\u001b[39m \u001b[43m                \u001b[49m\u001b[43mschedule_task\u001b[49m\u001b[43m=\u001b[49m\u001b[43mschedule_task\u001b[49m\u001b[43m,\u001b[49m\n\u001b[32m    171\u001b[39m \u001b[43m                \u001b[49m\u001b[43msubmit\u001b[49m\u001b[43m=\u001b[49m\u001b[38;5;28;43mself\u001b[39;49m\u001b[43m.\u001b[49m\u001b[43msubmit\u001b[49m\u001b[43m,\u001b[49m\n\u001b[32m    172\u001b[39m \u001b[43m            \u001b[49m\u001b[43m)\u001b[49m\u001b[43m,\u001b[49m\n\u001b[32m    173\u001b[39m \u001b[43m        \u001b[49m\u001b[43m}\u001b[49m\u001b[43m,\u001b[49m\n\u001b[32m    174\u001b[39m \u001b[43m    \u001b[49m\u001b[43m)\u001b[49m\n\u001b[32m    175\u001b[39m     \u001b[38;5;28mself\u001b[39m.commit(t, \u001b[38;5;28;01mNone\u001b[39;00m)\n\u001b[32m    176\u001b[39m \u001b[38;5;28;01mexcept\u001b[39;00m \u001b[38;5;167;01mException\u001b[39;00m \u001b[38;5;28;01mas\u001b[39;00m exc:\n",
      "\u001b[36mFile \u001b[39m\u001b[32mc:\\Users\\Yaseen Khan\\Documents\\Data Sceince\\Hackathon\\Infy_Hackathon\\venv\\Lib\\site-packages\\langgraph\\pregel\\retry.py:40\u001b[39m, in \u001b[36mrun_with_retry\u001b[39m\u001b[34m(task, retry_policy, configurable)\u001b[39m\n\u001b[32m     38\u001b[39m     task.writes.clear()\n\u001b[32m     39\u001b[39m     \u001b[38;5;66;03m# run the task\u001b[39;00m\n\u001b[32m---> \u001b[39m\u001b[32m40\u001b[39m     \u001b[38;5;28;01mreturn\u001b[39;00m \u001b[43mtask\u001b[49m\u001b[43m.\u001b[49m\u001b[43mproc\u001b[49m\u001b[43m.\u001b[49m\u001b[43minvoke\u001b[49m\u001b[43m(\u001b[49m\u001b[43mtask\u001b[49m\u001b[43m.\u001b[49m\u001b[43minput\u001b[49m\u001b[43m,\u001b[49m\u001b[43m \u001b[49m\u001b[43mconfig\u001b[49m\u001b[43m)\u001b[49m\n\u001b[32m     41\u001b[39m \u001b[38;5;28;01mexcept\u001b[39;00m ParentCommand \u001b[38;5;28;01mas\u001b[39;00m exc:\n\u001b[32m     42\u001b[39m     ns: \u001b[38;5;28mstr\u001b[39m = config[CONF][CONFIG_KEY_CHECKPOINT_NS]\n",
      "\u001b[36mFile \u001b[39m\u001b[32mc:\\Users\\Yaseen Khan\\Documents\\Data Sceince\\Hackathon\\Infy_Hackathon\\venv\\Lib\\site-packages\\langgraph\\utils\\runnable.py:623\u001b[39m, in \u001b[36mRunnableSeq.invoke\u001b[39m\u001b[34m(self, input, config, **kwargs)\u001b[39m\n\u001b[32m    621\u001b[39m     \u001b[38;5;66;03m# run in context\u001b[39;00m\n\u001b[32m    622\u001b[39m     \u001b[38;5;28;01mwith\u001b[39;00m set_config_context(config, run) \u001b[38;5;28;01mas\u001b[39;00m context:\n\u001b[32m--> \u001b[39m\u001b[32m623\u001b[39m         \u001b[38;5;28minput\u001b[39m = \u001b[43mcontext\u001b[49m\u001b[43m.\u001b[49m\u001b[43mrun\u001b[49m\u001b[43m(\u001b[49m\u001b[43mstep\u001b[49m\u001b[43m.\u001b[49m\u001b[43minvoke\u001b[49m\u001b[43m,\u001b[49m\u001b[43m \u001b[49m\u001b[38;5;28;43minput\u001b[39;49m\u001b[43m,\u001b[49m\u001b[43m \u001b[49m\u001b[43mconfig\u001b[49m\u001b[43m,\u001b[49m\u001b[43m \u001b[49m\u001b[43m*\u001b[49m\u001b[43m*\u001b[49m\u001b[43mkwargs\u001b[49m\u001b[43m)\u001b[49m\n\u001b[32m    624\u001b[39m \u001b[38;5;28;01melse\u001b[39;00m:\n\u001b[32m    625\u001b[39m     \u001b[38;5;28minput\u001b[39m = step.invoke(\u001b[38;5;28minput\u001b[39m, config)\n",
      "\u001b[36mFile \u001b[39m\u001b[32mc:\\Users\\Yaseen Khan\\Documents\\Data Sceince\\Hackathon\\Infy_Hackathon\\venv\\Lib\\site-packages\\langgraph\\utils\\runnable.py:377\u001b[39m, in \u001b[36mRunnableCallable.invoke\u001b[39m\u001b[34m(self, input, config, **kwargs)\u001b[39m\n\u001b[32m    375\u001b[39m         run_manager.on_chain_end(ret)\n\u001b[32m    376\u001b[39m \u001b[38;5;28;01melse\u001b[39;00m:\n\u001b[32m--> \u001b[39m\u001b[32m377\u001b[39m     ret = \u001b[38;5;28;43mself\u001b[39;49m\u001b[43m.\u001b[49m\u001b[43mfunc\u001b[49m\u001b[43m(\u001b[49m\u001b[43m*\u001b[49m\u001b[43margs\u001b[49m\u001b[43m,\u001b[49m\u001b[43m \u001b[49m\u001b[43m*\u001b[49m\u001b[43m*\u001b[49m\u001b[43mkwargs\u001b[49m\u001b[43m)\u001b[49m\n\u001b[32m    378\u001b[39m \u001b[38;5;28;01mif\u001b[39;00m \u001b[38;5;28mself\u001b[39m.recurse \u001b[38;5;129;01mand\u001b[39;00m \u001b[38;5;28misinstance\u001b[39m(ret, Runnable):\n\u001b[32m    379\u001b[39m     \u001b[38;5;28;01mreturn\u001b[39;00m ret.invoke(\u001b[38;5;28minput\u001b[39m, config)\n",
      "\u001b[36mCell\u001b[39m\u001b[36m \u001b[39m\u001b[32mIn[75]\u001b[39m\u001b[32m, line 4\u001b[39m, in \u001b[36mcall_model\u001b[39m\u001b[34m(state)\u001b[39m\n\u001b[32m      2\u001b[39m \u001b[38;5;28;01mdef\u001b[39;00m\u001b[38;5;250m \u001b[39m\u001b[34mcall_model\u001b[39m(state:AgentState) -> \u001b[38;5;28mdict\u001b[39m:\n\u001b[32m      3\u001b[39m     question=state[\u001b[33m\"\u001b[39m\u001b[33mmessages\u001b[39m\u001b[33m\"\u001b[39m][-\u001b[32m1\u001b[39m]  \u001b[38;5;66;03m# Get the last message from the state\u001b[39;00m\n\u001b[32m----> \u001b[39m\u001b[32m4\u001b[39m     response=llm_with_tool.invoke(\u001b[43m[\u001b[49m\u001b[43msys_msg\u001b[49m\u001b[43m]\u001b[49m\u001b[43m+\u001b[49m\u001b[43mquestion\u001b[49m)  \u001b[38;5;66;03m#instead of invoking the normal llm , we are using the binding llm which is binded to a tool\u001b[39;00m\n\u001b[32m      5\u001b[39m     \u001b[38;5;28;01mreturn\u001b[39;00m {\u001b[33m\"\u001b[39m\u001b[33mmessages\u001b[39m\u001b[33m\"\u001b[39m:[response]}\n",
      "\u001b[31mTypeError\u001b[39m: can only concatenate list (not \"HumanMessage\") to list",
      "During task with name 'assistant' and id '1b2cf98d-ab44-e37e-cbb7-c38880b3fb66'"
     ]
    }
   ],
   "source": [
    "message=[HumanMessage(content=\"can you load the meeting data and analyse each meeting and recommend the action itmes in each meeting?\")]\n",
    "response=app.invoke({\"messages\": message},config={\"configurable\": {\"thread_id\": session_id}})\n",
    "response\n"
   ]
  },
  {
   "cell_type": "code",
   "execution_count": null,
   "id": "9245076e",
   "metadata": {},
   "outputs": [
    {
     "name": "stdout",
     "output_type": "stream",
     "text": [
      "==================================\u001b[1m Ai Message \u001b[0m==================================\n",
      "\n",
      "I've loaded the meeting data. Here's an analysis and recommended action items for each meeting:\n",
      "\n",
      "1. **Meeting ID: MTG0001 - Whiteboard Web-Enabled Roi**\n",
      "   - **Type:** Retrospective\n",
      "   - **Action Items:**\n",
      "     - Prepare a detailed analytics report.\n",
      "     - Escalate unresolved issues to IT support.\n",
      "     - Arrange a session on data compliance practices.\n",
      "   - **Recommendation:** Ensure all team members have access to necessary data and resources for reporting.\n",
      "\n",
      "2. **Meeting ID: MTG0002 - Deliver Frictionless E-Markets**\n",
      "   - **Type:** Team Sync\n",
      "   - **Action Items:**\n",
      "     - Escalate unresolved issues to IT support.\n",
      "     - Validate changes with the QA team.\n",
      "     - Update the project plan with new timelines.\n",
      "   - **Recommendation:** Coordinate with IT and QA team to address blockages swiftly and align updated timelines with stakeholders.\n",
      "\n",
      "3. **Meeting ID: MTG0003 - Envisioneer Front-End Supply-Chains**\n",
      "   - **Type:** Client Meeting\n",
      "   - **Action Items:**\n",
      "     - Document the updated workflow and share with the team.\n",
      "     - Validate changes with QA team.\n",
      "     - Arrange a session on data compliance practices.\n",
      "     - Yaseen Khan to review audit logs upon return from leave.\n",
      "   - **Recommendation:** Prioritize the client feedback and ensure Yaseen Khan is briefed post-leave for alignment.\n",
      "\n",
      "4. **Meeting ID: MTG0004 - Synthesize Compelling Synergies**\n",
      "   - **Type:** Project Kickoff\n",
      "   - **Action Items:**\n",
      "     - Document updated workflow and share with the team.\n",
      "     - Validate changes with QA team.\n",
      "     - Prepare detailed analytics report.\n",
      "     - Yaseen Khan to review the report upon return from leave.\n",
      "   - **Recommendation:** Strong focus on setting clear integration paths and ensuring all stakeholders are updated.\n",
      "\n",
      "5. **Meeting ID: MTG0005 - Iterate Interactive E-Business**\n",
      "   - **Type:** Retrospective\n",
      "   - **Action Items:**\n",
      "     - Adjust sprint scope to match velocity metrics.\n",
      "   - **Recommendation:** Use historical data to forecast and adapt scope changes to ensure successful sprint outcomes.\n",
      "\n",
      "Please let me know if you need further information or additional assistance!\n"
     ]
    }
   ],
   "source": [
    "res=response['messages'][-1].pretty_print()\n"
   ]
  },
  {
   "cell_type": "code",
   "execution_count": null,
   "id": "1c46f1c0",
   "metadata": {},
   "outputs": [
    {
     "name": "stdout",
     "output_type": "stream",
     "text": [
      "================================\u001b[1m Human Message \u001b[0m=================================\n",
      "\n",
      "can you load the meeting data and analyse each meeting and recommend the action itmes in each meeting?\n",
      "==================================\u001b[1m Ai Message \u001b[0m==================================\n",
      "Tool Calls:\n",
      "  load_meeting_data (call_yEa8TWJ1QFpSHY1JzQtPRJi6)\n",
      " Call ID: call_yEa8TWJ1QFpSHY1JzQtPRJi6\n",
      "  Args:\n",
      "=================================\u001b[1m Tool Message \u001b[0m=================================\n",
      "Name: load_meeting_data\n",
      "\n",
      "{\"meetings\": [{\"Meeting_ID\": \"MTG0001\", \"Title\": \"Whiteboard Web-Enabled Roi\", \"Date_Time\": \"4/27/2025 12:00\", \"Duration\": 15, \"Attendees\": \"Yaseen Khan, Lauren Raymond, James Mccoy, Mrs. Amanda Barron, Kelsey Clayton, Jose Parker, Sarah Hall\", \"Organizer\": \"Tim Brown\", \"Location/Link\": \"Microsoft Teams\", \"Meeting Type\": \"Retrospective\", \"Missed by User\": true, \"Has MOM\": true, \"Has Transcript\": false, \"MOM Content\": \"Meeting Summary:\\nThe team reviewed the quarterly sales performance and discussed areas for improvement.\\n\\nAction Items:\\n- Prepare detailed analytics report.\\n- Escalate unresolved issues to the IT support.\\n- Arrange a session on data compliance practices.\", \"Transcript Content\": NaN, \"Recommended Action\": NaN}, {\"Meeting_ID\": \"MTG0002\", \"Title\": \"Deliver Frictionless E-Markets\", \"Date_Time\": \"4/29/2025 15:00\", \"Duration\": 30, \"Attendees\": \"Yaseen Khan, April Hancock, Meghan Mckinney, Ricardo Cole\", \"Organizer\": \"George Hawkins\", \"Location/Link\": \"Zoom\", \"Meeting Type\": \"Team Sync\", \"Missed by User\": true, \"Has MOM\": true, \"Has Transcript\": false, \"MOM Content\": \"Meeting Summary:\\nMarketing strategies for the upcoming product launch were finalized.\\n\\nAction Items:\\n- Escalate unresolved issues to the IT support.\\n- Validate changes with the QA team.\\n- Update the project plan with new timelines.\", \"Transcript Content\": NaN, \"Recommended Action\": NaN}, {\"Meeting_ID\": \"MTG0003\", \"Title\": \"Envisioneer Front-End Supply-Chains\", \"Date_Time\": \"5/1/2025 14:30\", \"Duration\": 60, \"Attendees\": \"Yaseen Khan, Michelle Elliott, Eric Phelps, Elizabeth Burton, Nicholas Martinez\", \"Organizer\": \"Sheryl Miller\", \"Location/Link\": \"Conference Room A\", \"Meeting Type\": \"Client Meeting\", \"Missed by User\": true, \"Has MOM\": true, \"Has Transcript\": false, \"MOM Content\": \"Meeting Summary:\\nCustomer feedback from the last sprint demo was analyzed and action points were identified.\\n\\nAction Items:\\n- Document the updated workflow and share with the team.\\n- Validate changes with the QA team.\\n- Arrange a session on data compliance practices.\\n- Yaseen Khan to review the audit logs upon return from leave.\", \"Transcript Content\": NaN, \"Recommended Action\": NaN}, {\"Meeting_ID\": \"MTG0004\", \"Title\": \"Synthesize Compelling Synergies\", \"Date_Time\": \"5/2/2025 14:15\", \"Duration\": 45, \"Attendees\": \"Yaseen Khan, Dr. Gary Mueller, Andrew Wright, Albert Stokes, Vanessa Rivera, Michael Tucker, James Moore\", \"Organizer\": \"Kelly Ford\", \"Location/Link\": \"Microsoft Teams\", \"Meeting Type\": \"Project Kickoff\", \"Missed by User\": true, \"Has MOM\": true, \"Has Transcript\": false, \"MOM Content\": \"Meeting Summary:\\nThe integration of the new CRM system was discussed along with migration timelines.\\n\\nAction Items:\\n- Document the updated workflow and share with the team.\\n- Validate changes with the QA team.\\n- Prepare detailed analytics report.\\n- Yaseen Khan to review the report upon return from leave.\", \"Transcript Content\": NaN, \"Recommended Action\": NaN}, {\"Meeting_ID\": \"MTG0005\", \"Title\": \"Iterate Interactive E-Business\", \"Date_Time\": \"5/2/2025 16:15\", \"Duration\": 45, \"Attendees\": \"Yaseen Khan, Charles Perry, Vincent Aguirre, Scott Pace, Kelsey Martin, Lisa Fleming\", \"Organizer\": \"Melissa Patterson\", \"Location/Link\": \"Microsoft Teams\", \"Meeting Type\": \"Retrospective\", \"Missed by User\": true, \"Has MOM\": false, \"Has Transcript\": true, \"MOM Content\": NaN, \"Transcript Content\": \"Transcript Highlights:\\nSophia: The last demo went well, but there's room for improvement.\\n...\\n\\nDecisions Made:\\n- Adjust sprint scope to match velocity metrics.\", \"Recommended Action\": NaN}]}\n",
      "==================================\u001b[1m Ai Message \u001b[0m==================================\n",
      "\n",
      "I've loaded the meeting data. Here's an analysis of each meeting along with the recommended action items:\n",
      "\n",
      "1. **Meeting ID: MTG0001**\n",
      "   - **Title:** Whiteboard Web-Enabled Roi\n",
      "   - **Meeting Type:** Retrospective\n",
      "   - **Summary & Recommendations:**\n",
      "     - The team reviewed quarterly sales performance and identified areas for improvement.\n",
      "     - **Action Items:**\n",
      "       - Prepare a detailed analytics report.\n",
      "       - Escalate unresolved issues to IT support.\n",
      "       - Arrange a session on data compliance practices.\n",
      "\n",
      "2. **Meeting ID: MTG0002**\n",
      "   - **Title:** Deliver Frictionless E-Markets\n",
      "   - **Meeting Type:** Team Sync\n",
      "   - **Summary & Recommendations:**\n",
      "     - Finalized marketing strategies for the upcoming product launch.\n",
      "     - **Action Items:**\n",
      "       - Escalate unresolved issues to IT support.\n",
      "       - Validate changes with the QA team.\n",
      "       - Update the project plan with new timelines.\n",
      "\n",
      "3. **Meeting ID: MTG0003**\n",
      "   - **Title:** Envisioneer Front-End Supply-Chains\n",
      "   - **Meeting Type:** Client Meeting\n",
      "   - **Summary & Recommendations:**\n",
      "     - Reviewed customer feedback from the last sprint demo.\n",
      "     - **Action Items:**\n",
      "       - Document and share the updated workflow with the team.\n",
      "       - Validate changes with the QA team.\n",
      "       - Arrange a session on data compliance practices.\n",
      "       - Review the audit logs upon return from leave.\n",
      "\n",
      "4. **Meeting ID: MTG0004**\n",
      "   - **Title:** Synthesize Compelling Synergies\n",
      "   - **Meeting Type:** Project Kickoff\n",
      "   - **Summary & Recommendations:**\n",
      "     - Discussed the integration of the new CRM system.\n",
      "     - **Action Items:**\n",
      "       - Document and share the updated workflow with the team.\n",
      "       - Validate changes with the QA team.\n",
      "       - Prepare a detailed analytics report.\n",
      "       - Review the report upon return from leave.\n",
      "\n",
      "5. **Meeting ID: MTG0005**\n",
      "   - **Title:** Iterate Interactive E-Business\n",
      "   - **Meeting Type:** Retrospective\n",
      "   - **Summary & Recommendations:**\n",
      "     - Discussed improvements based on the last demo results.\n",
      "     - **Action Items:**\n",
      "       - Adjust sprint scope to match velocity metrics.\n",
      "\n",
      "Please ensure that these recommendations are communicated to the relevant stakeholders.\n"
     ]
    }
   ],
   "source": [
    "for m in response[\"messages\"]:\n",
    "    m.pretty_print()"
   ]
  },
  {
   "cell_type": "code",
   "execution_count": null,
   "id": "9df24f4c",
   "metadata": {},
   "outputs": [],
   "source": []
  },
  {
   "cell_type": "code",
   "execution_count": null,
   "id": "f215c160",
   "metadata": {},
   "outputs": [],
   "source": []
  }
 ],
 "metadata": {
  "kernelspec": {
   "display_name": "venv",
   "language": "python",
   "name": "python3"
  },
  "language_info": {
   "codemirror_mode": {
    "name": "ipython",
    "version": 3
   },
   "file_extension": ".py",
   "mimetype": "text/x-python",
   "name": "python",
   "nbconvert_exporter": "python",
   "pygments_lexer": "ipython3",
   "version": "3.11.0"
  }
 },
 "nbformat": 4,
 "nbformat_minor": 5
}
