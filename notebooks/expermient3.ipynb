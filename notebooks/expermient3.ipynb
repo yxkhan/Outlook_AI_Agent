{
 "cells": [
  {
   "cell_type": "code",
   "execution_count": 1,
   "id": "6f41c39e",
   "metadata": {},
   "outputs": [
    {
     "data": {
      "text/plain": [
       "True"
      ]
     },
     "execution_count": 1,
     "metadata": {},
     "output_type": "execute_result"
    }
   ],
   "source": [
    "from dotenv import load_dotenv\n",
    "load_dotenv()"
   ]
  },
  {
   "cell_type": "code",
   "execution_count": 2,
   "id": "70b2a78c",
   "metadata": {},
   "outputs": [],
   "source": [
    "#setup API key\n",
    "import os\n",
    "OPENAI_API_KEY=os.getenv(\"OPENAI_API_KEY\")"
   ]
  },
  {
   "cell_type": "code",
   "execution_count": 3,
   "id": "ce4d7d9a",
   "metadata": {},
   "outputs": [],
   "source": [
    "#Setting up the environmet key\n",
    "os.environ[\"OPENAI_API_KEY\"]=OPENAI_API_KEY"
   ]
  },
  {
   "cell_type": "code",
   "execution_count": 119,
   "id": "3d21d77f",
   "metadata": {},
   "outputs": [],
   "source": [
    "#Lets import the required libraries\n",
    "import pandas as pd\n",
    "from langgraph.graph import StateGraph,MessagesState, START, END\n",
    "from langgraph.graph.message import add_messages\n",
    "# from typing import Annotated, Literal, List   #\n",
    "from typing_extensions import TypedDict, Annotated, Literal, List\n",
    "from langchain_core.tools import tool    #for creating Tool\n",
    "from langchain_core.messages import HumanMessage\n",
    "from langgraph.checkpoint.memory import MemorySaver   #To sustain the memory\n",
    "from langgraph.prebuilt import ToolNode,tools_condition     #To create the Nodes for Tool\n",
    "from langgraph.checkpoint.memory import MemorySaver"
   ]
  },
  {
   "cell_type": "code",
   "execution_count": 5,
   "id": "269cb9d5",
   "metadata": {},
   "outputs": [],
   "source": [
    "#Load the model\n",
    "from langchain_openai import ChatOpenAI\n",
    "openai_model=ChatOpenAI(model=\"gpt-4o\")"
   ]
  },
  {
   "cell_type": "code",
   "execution_count": 6,
   "id": "4b1071ee",
   "metadata": {},
   "outputs": [
    {
     "data": {
      "text/plain": [
       "AIMessage(content='Hello, Yaseen! How can I assist you today?', additional_kwargs={'refusal': None}, response_metadata={'token_usage': {'completion_tokens': 13, 'prompt_tokens': 15, 'total_tokens': 28, 'completion_tokens_details': {'accepted_prediction_tokens': 0, 'audio_tokens': 0, 'reasoning_tokens': 0, 'rejected_prediction_tokens': 0}, 'prompt_tokens_details': {'audio_tokens': 0, 'cached_tokens': 0}}, 'model_name': 'gpt-4o-2024-08-06', 'system_fingerprint': 'fp_9bddfca6e2', 'id': 'chatcmpl-BcH8Ncs5P86uKBClItJlEDPVvc5NO', 'service_tier': 'default', 'finish_reason': 'stop', 'logprobs': None}, id='run--09cee675-aaf0-4f52-a515-c96b6952cdd5-0', usage_metadata={'input_tokens': 15, 'output_tokens': 13, 'total_tokens': 28, 'input_token_details': {'audio': 0, 'cache_read': 0}, 'output_token_details': {'audio': 0, 'reasoning': 0}})"
      ]
     },
     "execution_count": 6,
     "metadata": {},
     "output_type": "execute_result"
    }
   ],
   "source": [
    "openai_model.invoke('Hi, My Name is Yaseen')"
   ]
  },
  {
   "cell_type": "code",
   "execution_count": 9,
   "id": "1d63358a",
   "metadata": {},
   "outputs": [],
   "source": [
    "#We have our model ready, now lets create a Tool"
   ]
  },
  {
   "cell_type": "code",
   "execution_count": 163,
   "id": "4fc0f85a",
   "metadata": {},
   "outputs": [],
   "source": [
    "class AgentState(TypedDict):\n",
    "    messages: Annotated[list, add_messages]\n",
    "    meetings: list[dict]  # <- This will store the output of load_meeting_data\n",
    "    analysis: list[str]\n"
   ]
  },
  {
   "cell_type": "code",
   "execution_count": 164,
   "id": "d64a32d6",
   "metadata": {},
   "outputs": [],
   "source": [
    "#Load meeting data\n",
    "@tool\n",
    "def load_meeting_data() -> List[TypedDict]:\n",
    "    \"\"\"Tool to load meeting data from a CSV file.\"\"\"\n",
    "    df = pd.read_csv(\"yaseen_khan_missed_meetings_2.csv\")\n",
    "    df = df[0:5]\n",
    "    meetings = df.to_dict(orient=\"records\")\n",
    "    return {\"meetings\": meetings}"
   ]
  },
  {
   "cell_type": "code",
   "execution_count": 165,
   "id": "8703eef1",
   "metadata": {},
   "outputs": [],
   "source": [
    "@tool\n",
    "def analyze_meetings_batch(state: AgentState) -> list[str]:\n",
    "    \"\"\"Analyzes multiple meetings and returns summaries for each.\"\"\"\n",
    "    meetings = state.get(\"meetings\", [])\n",
    "    results = []\n",
    "\n",
    "    for i, meeting in enumerate(meetings, 1):\n",
    "        mom = meeting.get(\"MOM Content\", \"\")\n",
    "        transcript = meeting.get(\"Transcript Content\", \"\")\n",
    "\n",
    "        if mom:\n",
    "            content = f\"MoM:\\n{mom}\"\n",
    "        elif transcript:\n",
    "            content = f\"Transcript:\\n{transcript}\"\n",
    "        else:\n",
    "            results.append(f\"Meeting {i}: No MoM or Transcript available.\")\n",
    "            continue\n",
    "\n",
    "        prompt = f\"\"\"\n",
    "        You're an AI assistant of User, responsible for analyzing meeting content which he missed during his leave.\n",
    "        Your task is to read the content of the meeting, analyze it, and recommend actions such as tasks to complete, follow-up meetings to schedule, or status updates to provide.\n",
    "\n",
    "        Meeting {i} content:\n",
    "        {content}\n",
    "        \"\"\"\n",
    "        response = openai_model.invoke(prompt)\n",
    "        results.append(f\"Meeting {i} Summary:\\n{response.content.strip()}\")\n",
    "\n",
    "    return {\"analysis\": results}\n"
   ]
  },
  {
   "cell_type": "code",
   "execution_count": 166,
   "id": "8be413a9",
   "metadata": {},
   "outputs": [],
   "source": [
    "#Defing the tool name as below\n",
    "tools=[load_meeting_data,analyze_meetings_batch]"
   ]
  },
  {
   "cell_type": "code",
   "execution_count": 167,
   "id": "83c3907e",
   "metadata": {},
   "outputs": [],
   "source": [
    "#We are binding the tool\n",
    "llm_with_tool=openai_model.bind_tools(tools)"
   ]
  },
  {
   "cell_type": "code",
   "execution_count": 168,
   "id": "47ef5572",
   "metadata": {},
   "outputs": [
    {
     "data": {
      "text/plain": [
       "AIMessage(content='Hello Yaseen Khan! How can I assist you today?', additional_kwargs={'refusal': None}, response_metadata={'token_usage': {'completion_tokens': 14, 'prompt_tokens': 87, 'total_tokens': 101, 'completion_tokens_details': {'accepted_prediction_tokens': 0, 'audio_tokens': 0, 'reasoning_tokens': 0, 'rejected_prediction_tokens': 0}, 'prompt_tokens_details': {'audio_tokens': 0, 'cached_tokens': 0}}, 'model_name': 'gpt-4o-2024-08-06', 'system_fingerprint': 'fp_07871e2ad8', 'id': 'chatcmpl-BcJ1pR4PhYI9q4RQoeOg2dfiFGZpK', 'service_tier': 'default', 'finish_reason': 'stop', 'logprobs': None}, id='run--0c2a4b01-cf6b-406c-936d-e49cbb1bc567-0', usage_metadata={'input_tokens': 87, 'output_tokens': 14, 'total_tokens': 101, 'input_token_details': {'audio': 0, 'cache_read': 0}, 'output_token_details': {'audio': 0, 'reasoning': 0}})"
      ]
     },
     "execution_count": 168,
     "metadata": {},
     "output_type": "execute_result"
    }
   ],
   "source": [
    "response=llm_with_tool.invoke(\"My Name is Yaseen Khan\")\n",
    "response"
   ]
  },
  {
   "cell_type": "code",
   "execution_count": 126,
   "id": "e4cb105b",
   "metadata": {},
   "outputs": [
    {
     "data": {
      "text/plain": [
       "AIMessage(content='', additional_kwargs={'tool_calls': [{'id': 'call_fwEKjd6Muybl75aAq9oF4YYQ', 'function': {'arguments': '{}', 'name': 'load_meeting_data'}, 'type': 'function'}], 'refusal': None}, response_metadata={'token_usage': {'completion_tokens': 12, 'prompt_tokens': 83, 'total_tokens': 95, 'completion_tokens_details': {'accepted_prediction_tokens': 0, 'audio_tokens': 0, 'reasoning_tokens': 0, 'rejected_prediction_tokens': 0}, 'prompt_tokens_details': {'audio_tokens': 0, 'cached_tokens': 0}}, 'model_name': 'gpt-4o-2024-08-06', 'system_fingerprint': 'fp_76544d79cb', 'id': 'chatcmpl-BcIfAYXsbOkhToUzpnvsh9NTQ4Wu1', 'service_tier': 'default', 'finish_reason': 'tool_calls', 'logprobs': None}, id='run--10129a96-bf7a-4bfc-9973-b955892ecc60-0', tool_calls=[{'name': 'load_meeting_data', 'args': {}, 'id': 'call_fwEKjd6Muybl75aAq9oF4YYQ', 'type': 'tool_call'}], usage_metadata={'input_tokens': 83, 'output_tokens': 12, 'total_tokens': 95, 'input_token_details': {'audio': 0, 'cache_read': 0}, 'output_token_details': {'audio': 0, 'reasoning': 0}})"
      ]
     },
     "execution_count": 126,
     "metadata": {},
     "output_type": "execute_result"
    }
   ],
   "source": [
    "response=llm_with_tool.invoke(\"can you load the meeting data?\")\n",
    "response"
   ]
  },
  {
   "cell_type": "code",
   "execution_count": 127,
   "id": "678d7fff",
   "metadata": {},
   "outputs": [
    {
     "data": {
      "text/plain": [
       "[{'name': 'load_meeting_data',\n",
       "  'args': {},\n",
       "  'id': 'call_tUnMVOFYezPamKbLXLO6pU6y',\n",
       "  'type': 'tool_call'}]"
      ]
     },
     "execution_count": 127,
     "metadata": {},
     "output_type": "execute_result"
    }
   ],
   "source": [
    "llm_with_tool.invoke(\"can you load the meetings?\").tool_calls"
   ]
  },
  {
   "cell_type": "code",
   "execution_count": 129,
   "id": "d3ba19f5",
   "metadata": {},
   "outputs": [
    {
     "data": {
      "text/plain": [
       "[{'name': 'load_meeting_data',\n",
       "  'args': {},\n",
       "  'id': 'call_MIrydIPIJ6n4hMX5C5cPQaNm',\n",
       "  'type': 'tool_call'},\n",
       " {'name': 'analyze_meetings_batch',\n",
       "  'args': {'state': {'messages': []}},\n",
       "  'id': 'call_JKg8FBDQZjVIEwhuBGjLnuP6',\n",
       "  'type': 'tool_call'}]"
      ]
     },
     "execution_count": 129,
     "metadata": {},
     "output_type": "execute_result"
    }
   ],
   "source": [
    "llm_with_tool.invoke(\"can you load and analyse the meetings?\").tool_calls"
   ]
  },
  {
   "cell_type": "code",
   "execution_count": 169,
   "id": "bf5485fd",
   "metadata": {},
   "outputs": [],
   "source": [
    "from langchain_core.messages import HumanMessage, SystemMessage\n",
    "# System message\n",
    "sys_msg = SystemMessage(content=\"You are a helpful assistant interact with user gently and upon asked you will load the meeting data and analyze it to provide recommendations.\")\n"
   ]
  },
  {
   "cell_type": "code",
   "execution_count": 174,
   "id": "21bf951b",
   "metadata": {},
   "outputs": [],
   "source": [
    "#Defining the supervisor node as our llm\n",
    "def call_model(state:AgentState) -> dict:\n",
    "    question=state[\"messages\"]  # Get the last message from the state\n",
    "    response=llm_with_tool.invoke([sys_msg]+question)  #instead of invoking the normal llm , we are using the binding llm which is binded to a tool\n",
    "    return {\"messages\":[response]}"
   ]
  },
  {
   "cell_type": "code",
   "execution_count": 175,
   "id": "e56b1bba",
   "metadata": {},
   "outputs": [
    {
     "data": {
      "text/plain": [
       "AIMessage(content='', additional_kwargs={'tool_calls': [{'id': 'call_EetkfAyR4QqmLCdG7PSVC5NF', 'function': {'arguments': '{}', 'name': 'load_meeting_data'}, 'type': 'function'}], 'refusal': None}, response_metadata={'token_usage': {'completion_tokens': 12, 'prompt_tokens': 109, 'total_tokens': 121, 'completion_tokens_details': {'accepted_prediction_tokens': 0, 'audio_tokens': 0, 'reasoning_tokens': 0, 'rejected_prediction_tokens': 0}, 'prompt_tokens_details': {'audio_tokens': 0, 'cached_tokens': 0}}, 'model_name': 'gpt-4o-2024-08-06', 'system_fingerprint': 'fp_f5bdcc3276', 'id': 'chatcmpl-BcJ3jLiP744yrdOjaTLYL7sv6dwdR', 'service_tier': 'default', 'finish_reason': 'tool_calls', 'logprobs': None}, id='run--26a71194-f3ac-4ed6-810c-61bdaee1ae4f-0', tool_calls=[{'name': 'load_meeting_data', 'args': {}, 'id': 'call_EetkfAyR4QqmLCdG7PSVC5NF', 'type': 'tool_call'}], usage_metadata={'input_tokens': 109, 'output_tokens': 12, 'total_tokens': 121, 'input_token_details': {'audio': 0, 'cache_read': 0}, 'output_token_details': {'audio': 0, 'reasoning': 0}})"
      ]
     },
     "execution_count": 175,
     "metadata": {},
     "output_type": "execute_result"
    }
   ],
   "source": [
    "#lets ask a simpe query\n",
    "input={'messages': ['load the outlook data']}  #quer\n",
    "response=call_model(input)  #call the function with query and store the resul in response variable\n",
    "message=response[\"messages\"]  #Take only messages from response\n",
    "last_message=message[-1]  #Take the last message from all the messages\n",
    "last_message"
   ]
  },
  {
   "cell_type": "code",
   "execution_count": 147,
   "id": "a46c5059",
   "metadata": {},
   "outputs": [
    {
     "data": {
      "text/plain": [
       "[StructuredTool(name='load_meeting_data', description='Tool to load meeting data from a CSV file.', args_schema=<class 'langchain_core.utils.pydantic.load_meeting_data'>, func=<function load_meeting_data at 0x000001D31A693100>),\n",
       " StructuredTool(name='analyze_meetings_batch', description='Analyzes multiple meetings and returns summaries for each.', args_schema=<class 'langchain_core.utils.pydantic.analyze_meetings_batch'>, func=<function analyze_meetings_batch at 0x000001D31A6931A0>)]"
      ]
     },
     "execution_count": 147,
     "metadata": {},
     "output_type": "execute_result"
    }
   ],
   "source": [
    "tools"
   ]
  },
  {
   "cell_type": "code",
   "execution_count": 176,
   "id": "a22e7a85",
   "metadata": {},
   "outputs": [],
   "source": [
    "#Note: we have to create this tool as node for orchaestration pupose\n",
    "# for this tool to consume it as node inside our workflow, we have use this method below\n",
    "tool_node=ToolNode(tools)\n",
    "\n",
    "#now this \"tool_node\" variable is the node of our tool which can be used in orchaestrtion"
   ]
  },
  {
   "cell_type": "code",
   "execution_count": 177,
   "id": "2cf32885",
   "metadata": {},
   "outputs": [],
   "source": [
    "#Lets define a router and orchaestrate the workflow\n",
    "def router_function(state: AgentState) -> Literal[\"tools\", END]:\n",
    "    message=state[\"messages\"]\n",
    "    last_message=message[-1]\n",
    "    if last_message.tool_calls:\n",
    "        return \"tools\"\n",
    "    return END"
   ]
  },
  {
   "cell_type": "code",
   "execution_count": 178,
   "id": "d71f0da3",
   "metadata": {},
   "outputs": [],
   "source": [
    "#Lets create the workflow with this router\n",
    "workflow=StateGraph(AgentState)"
   ]
  },
  {
   "cell_type": "code",
   "execution_count": 179,
   "id": "b65dd003",
   "metadata": {},
   "outputs": [
    {
     "data": {
      "text/plain": [
       "<langgraph.graph.state.StateGraph at 0x1d3189610d0>"
      ]
     },
     "execution_count": 179,
     "metadata": {},
     "output_type": "execute_result"
    }
   ],
   "source": [
    "#create the nodes\n",
    "workflow.add_node(\"assistant\",call_model)\n",
    "workflow.add_node(\"load&analyse_meetings\", tool_node)#Consuming tool as node"
   ]
  },
  {
   "cell_type": "code",
   "execution_count": 180,
   "id": "16c4af5f",
   "metadata": {},
   "outputs": [
    {
     "data": {
      "text/plain": [
       "<langgraph.graph.state.StateGraph at 0x1d3189610d0>"
      ]
     },
     "execution_count": 180,
     "metadata": {},
     "output_type": "execute_result"
    }
   ],
   "source": [
    "#Define the endges (conditional edges )\n",
    "workflow.add_edge(START, \"assistant\")\n",
    "\n",
    "workflow.add_conditional_edges(\"assistant\",\n",
    "                               router_function,\n",
    "                               {\"tools\": \"load&analyse_meetings\", END:END})\n",
    "workflow.add_edge(\"load&analyse_meetings\", \"assistant\")\n",
    "workflow.add_edge(\"assistant\", END)\n",
    "\n",
    "\n"
   ]
  },
  {
   "cell_type": "code",
   "execution_count": 181,
   "id": "03ebf3d3",
   "metadata": {},
   "outputs": [],
   "source": [
    "#Lets compile\n",
    "memory_saver = MemorySaver()\n",
    "from uuid import uuid4\n",
    "session_id = str(uuid4())\n",
    "\n",
    "app = workflow.compile(checkpointer=memory_saver)"
   ]
  },
  {
   "cell_type": "code",
   "execution_count": 182,
   "id": "5eaa5d25",
   "metadata": {},
   "outputs": [
    {
     "data": {
      "image/png": "[encoded data removed]",
      "text/plain": [
       "<IPython.core.display.Image object>"
      ]
     },
     "metadata": {},
     "output_type": "display_data"
    }
   ],
   "source": [
    "#Lets visualize the graph\n",
    "from IPython.display import Image,display\n",
    "display(Image(app.get_graph().draw_mermaid_png()))"
   ]
  },
  {
   "cell_type": "code",
   "execution_count": 183,
   "id": "4c3971e1",
   "metadata": {},
   "outputs": [],
   "source": [
    "#Now lets invoke this app\n",
    "\n",
    "#invoking with a simple message\n",
    "# message=[HumanMessage(content=\"My Name is Yaseen Khan\")]\n",
    "# response=app.invoke({\"messages\": message}, config={\"configurable\": {\"thread_id\": session_id}})\n",
    "# response\n",
    "\n",
    "#Here we are getting the AI message from LLM (assistant) directly as this is simple query"
   ]
  },
  {
   "cell_type": "code",
   "execution_count": 184,
   "id": "cf46feab",
   "metadata": {},
   "outputs": [
    {
     "data": {
      "text/plain": [
       "{'messages': [HumanMessage(content='can you load the meeting data and analyse each meeting and recommend the action itmes in each meeting?', additional_kwargs={}, response_metadata={}, id='f3f876cf-a606-45b8-a44d-64d77dee6cf3'),\n",
       "  AIMessage(content='', additional_kwargs={'tool_calls': [{'id': 'call_TPMdSTKuN8JKag8J9E3cqTTH', 'function': {'arguments': '{}', 'name': 'load_meeting_data'}, 'type': 'function'}, {'id': 'call_dQPmYzkYcVldfQsagcpAr4jU', 'function': {'arguments': '{\"state\": {\"messages\": [], \"analysis\": []}}', 'name': 'analyze_meetings_batch'}, 'type': 'function'}], 'refusal': None}, response_metadata={'token_usage': {'completion_tokens': 52, 'prompt_tokens': 125, 'total_tokens': 177, 'completion_tokens_details': {'accepted_prediction_tokens': 0, 'audio_tokens': 0, 'reasoning_tokens': 0, 'rejected_prediction_tokens': 0}, 'prompt_tokens_details': {'audio_tokens': 0, 'cached_tokens': 0}}, 'model_name': 'gpt-4o-2024-08-06', 'system_fingerprint': 'fp_f5bdcc3276', 'id': 'chatcmpl-BcJ49q3EhIMUDZvZwpE6BmarwqK6z', 'service_tier': 'default', 'finish_reason': 'tool_calls', 'logprobs': None}, id='run--7691ef07-f515-4729-89b1-0abc83470a4c-0', tool_calls=[{'name': 'load_meeting_data', 'args': {}, 'id': 'call_TPMdSTKuN8JKag8J9E3cqTTH', 'type': 'tool_call'}, {'name': 'analyze_meetings_batch', 'args': {'state': {'messages': [], 'analysis': []}}, 'id': 'call_dQPmYzkYcVldfQsagcpAr4jU', 'type': 'tool_call'}], usage_metadata={'input_tokens': 125, 'output_tokens': 52, 'total_tokens': 177, 'input_token_details': {'audio': 0, 'cache_read': 0}, 'output_token_details': {'audio': 0, 'reasoning': 0}}),\n",
       "  ToolMessage(content='{\"meetings\": [{\"Meeting_ID\": \"MTG0001\", \"Title\": \"Whiteboard Web-Enabled Roi\", \"Date_Time\": \"4/27/2025 12:00\", \"Duration\": 15, \"Attendees\": \"Yaseen Khan, Lauren Raymond, James Mccoy, Mrs. Amanda Barron, Kelsey Clayton, Jose Parker, Sarah Hall\", \"Organizer\": \"Tim Brown\", \"Location/Link\": \"Microsoft Teams\", \"Meeting Type\": \"Retrospective\", \"Missed by User\": true, \"Has MOM\": true, \"Has Transcript\": false, \"MOM Content\": \"Meeting Summary:\\\\nThe team reviewed the quarterly sales performance and discussed areas for improvement.\\\\n\\\\nAction Items:\\\\n- Prepare detailed analytics report.\\\\n- Escalate unresolved issues to the IT support.\\\\n- Arrange a session on data compliance practices.\", \"Transcript Content\": NaN, \"Recommended Action\": NaN}, {\"Meeting_ID\": \"MTG0002\", \"Title\": \"Deliver Frictionless E-Markets\", \"Date_Time\": \"4/29/2025 15:00\", \"Duration\": 30, \"Attendees\": \"Yaseen Khan, April Hancock, Meghan Mckinney, Ricardo Cole\", \"Organizer\": \"George Hawkins\", \"Location/Link\": \"Zoom\", \"Meeting Type\": \"Team Sync\", \"Missed by User\": true, \"Has MOM\": true, \"Has Transcript\": false, \"MOM Content\": \"Meeting Summary:\\\\nMarketing strategies for the upcoming product launch were finalized.\\\\n\\\\nAction Items:\\\\n- Escalate unresolved issues to the IT support.\\\\n- Validate changes with the QA team.\\\\n- Update the project plan with new timelines.\", \"Transcript Content\": NaN, \"Recommended Action\": NaN}, {\"Meeting_ID\": \"MTG0003\", \"Title\": \"Envisioneer Front-End Supply-Chains\", \"Date_Time\": \"5/1/2025 14:30\", \"Duration\": 60, \"Attendees\": \"Yaseen Khan, Michelle Elliott, Eric Phelps, Elizabeth Burton, Nicholas Martinez\", \"Organizer\": \"Sheryl Miller\", \"Location/Link\": \"Conference Room A\", \"Meeting Type\": \"Client Meeting\", \"Missed by User\": true, \"Has MOM\": true, \"Has Transcript\": false, \"MOM Content\": \"Meeting Summary:\\\\nCustomer feedback from the last sprint demo was analyzed and action points were identified.\\\\n\\\\nAction Items:\\\\n- Document the updated workflow and share with the team.\\\\n- Validate changes with the QA team.\\\\n- Arrange a session on data compliance practices.\\\\n- Yaseen Khan to review the audit logs upon return from leave.\", \"Transcript Content\": NaN, \"Recommended Action\": NaN}, {\"Meeting_ID\": \"MTG0004\", \"Title\": \"Synthesize Compelling Synergies\", \"Date_Time\": \"5/2/2025 14:15\", \"Duration\": 45, \"Attendees\": \"Yaseen Khan, Dr. Gary Mueller, Andrew Wright, Albert Stokes, Vanessa Rivera, Michael Tucker, James Moore\", \"Organizer\": \"Kelly Ford\", \"Location/Link\": \"Microsoft Teams\", \"Meeting Type\": \"Project Kickoff\", \"Missed by User\": true, \"Has MOM\": true, \"Has Transcript\": false, \"MOM Content\": \"Meeting Summary:\\\\nThe integration of the new CRM system was discussed along with migration timelines.\\\\n\\\\nAction Items:\\\\n- Document the updated workflow and share with the team.\\\\n- Validate changes with the QA team.\\\\n- Prepare detailed analytics report.\\\\n- Yaseen Khan to review the report upon return from leave.\", \"Transcript Content\": NaN, \"Recommended Action\": NaN}, {\"Meeting_ID\": \"MTG0005\", \"Title\": \"Iterate Interactive E-Business\", \"Date_Time\": \"5/2/2025 16:15\", \"Duration\": 45, \"Attendees\": \"Yaseen Khan, Charles Perry, Vincent Aguirre, Scott Pace, Kelsey Martin, Lisa Fleming\", \"Organizer\": \"Melissa Patterson\", \"Location/Link\": \"Microsoft Teams\", \"Meeting Type\": \"Retrospective\", \"Missed by User\": true, \"Has MOM\": false, \"Has Transcript\": true, \"MOM Content\": NaN, \"Transcript Content\": \"Transcript Highlights:\\\\nSophia: The last demo went well, but there\\'s room for improvement.\\\\n...\\\\n\\\\nDecisions Made:\\\\n- Adjust sprint scope to match velocity metrics.\", \"Recommended Action\": NaN}]}', name='load_meeting_data', id='7b48bb0a-2637-4912-b8b6-7477a4aa62f0', tool_call_id='call_TPMdSTKuN8JKag8J9E3cqTTH'),\n",
       "  ToolMessage(content=\"Error: 1 validation error for analyze_meetings_batch\\nstate.meetings\\n  Field required [type=missing, input_value={'messages': [], 'analysis': []}, input_type=dict]\\n    For further information visit https://errors.pydantic.dev/2.11/v/missing\\n Please fix your mistakes.\", name='analyze_meetings_batch', id='13dc7194-f99f-40a0-8654-9500866d0e3b', tool_call_id='call_dQPmYzkYcVldfQsagcpAr4jU', status='error'),\n",
       "  AIMessage(content=\"I have successfully loaded the meeting data, here are the details of the meetings:\\n\\n1. **Whiteboard Web-Enabled ROI**\\n   - **Date & Time:** 4/27/2025, 12:00\\n   - **Duration:** 15 mins\\n   - **Meeting Type:** Retrospective\\n   - **Attendees:** Yaseen Khan, Lauren Raymond, James Mccoy, Mrs. Amanda Barron, Kelsey Clayton, Jose Parker, Sarah Hall\\n   - **Organizer:** Tim Brown\\n   - **Location:** Microsoft Teams\\n   - **Action Items Found in Meeting:**\\n     - Prepare detailed analytics report.\\n     - Escalate unresolved issues to IT support.\\n     - Arrange a session on data compliance practices.\\n\\n2. **Deliver Frictionless E-Markets**\\n   - **Date & Time:** 4/29/2025, 15:00\\n   - **Duration:** 30 mins\\n   - **Meeting Type:** Team Sync\\n   - **Attendees:** Yaseen Khan, April Hancock, Meghan Mckinney, Ricardo Cole\\n   - **Organizer:** George Hawkins\\n   - **Location:** Zoom\\n   - **Action Items Found in Meeting:**\\n     - Escalate unresolved issues to IT support.\\n     - Validate changes with the QA team.\\n     - Update the project plan with new timelines.\\n\\n3. **Envisioneer Front-End Supply-Chains**\\n   - **Date & Time:** 5/1/2025, 14:30\\n   - **Duration:** 60 mins\\n   - **Meeting Type:** Client Meeting\\n   - **Attendees:** Yaseen Khan, Michelle Elliott, Eric Phelps, Elizabeth Burton, Nicholas Martinez\\n   - **Organizer:** Sheryl Miller\\n   - **Location:** Conference Room A\\n   - **Action Items Found in Meeting:**\\n     - Document the updated workflow and share it with the team.\\n     - Validate changes with the QA team.\\n     - Arrange a data compliance session.\\n     - Yaseen Khan to review audit logs upon returning from leave.\\n\\n4. **Synthesize Compelling Synergies**\\n   - **Date & Time:** 5/2/2025, 14:15\\n   - **Duration:** 45 mins\\n   - **Meeting Type:** Project Kickoff\\n   - **Attendees:** Yaseen Khan, Dr. Gary Mueller, Andrew Wright, Albert Stokes, Vanessa Rivera, Michael Tucker, James Moore\\n   - **Organizer:** Kelly Ford\\n   - **Location:** Microsoft Teams\\n   - **Action Items Found in Meeting:**\\n     - Document the updated workflow and share it.\\n     - Validate changes with the QA team.\\n     - Prepare a detailed analytics report.\\n     - Yaseen Khan to review the report upon return from leave.\\n\\n5. **Iterate Interactive E-Business**\\n   - **Date & Time:** 5/2/2025, 16:15\\n   - **Duration:** 45 mins\\n   - **Meeting Type:** Retrospective\\n   - **Attendees:** Yaseen Khan, Charles Perry, Vincent Aguirre, Scott Pace, Kelsey Martin, Lisa Fleming\\n   - **Organizer:** Melissa Patterson\\n   - **Location:** Microsoft Teams\\n   - **Transcript Highlight:** Adjust sprint scope to match velocity metrics.\\n\\nI couldn't analyze the meeting batch due to a missing required field for the analysis. Do you want to proceed with any specific recommendations based on the action items and data you now have, or should I attempt to re-analyze?\", additional_kwargs={'refusal': None}, response_metadata={'token_usage': {'completion_tokens': 730, 'prompt_tokens': 1216, 'total_tokens': 1946, 'completion_tokens_details': {'accepted_prediction_tokens': 0, 'audio_tokens': 0, 'reasoning_tokens': 0, 'rejected_prediction_tokens': 0}, 'prompt_tokens_details': {'audio_tokens': 0, 'cached_tokens': 0}}, 'model_name': 'gpt-4o-2024-08-06', 'system_fingerprint': 'fp_f5bdcc3276', 'id': 'chatcmpl-BcJ4B6cOw0tuOWlIapxVE0sxffNPr', 'service_tier': 'default', 'finish_reason': 'stop', 'logprobs': None}, id='run--850670f7-26dc-468c-ae90-10aaf771bee4-0', usage_metadata={'input_tokens': 1216, 'output_tokens': 730, 'total_tokens': 1946, 'input_token_details': {'audio': 0, 'cache_read': 0}, 'output_token_details': {'audio': 0, 'reasoning': 0}})]}"
      ]
     },
     "execution_count": 184,
     "metadata": {},
     "output_type": "execute_result"
    }
   ],
   "source": [
    "message=[HumanMessage(content=\"can you load the meeting data and analyse each meeting and recommend the action itmes in each meeting?\")]\n",
    "response=app.invoke({\"messages\": message},config={\"configurable\": {\"thread_id\": session_id}})\n",
    "response\n"
   ]
  },
  {
   "cell_type": "code",
   "execution_count": 105,
   "id": "1c46f1c0",
   "metadata": {},
   "outputs": [
    {
     "name": "stdout",
     "output_type": "stream",
     "text": [
      "================================\u001b[1m Human Message \u001b[0m=================================\n",
      "\n",
      "My Name is Yaseen Khan\n",
      "==================================\u001b[1m Ai Message \u001b[0m==================================\n",
      "\n",
      "Hello Yaseen Khan! How can I assist you today?\n",
      "================================\u001b[1m Human Message \u001b[0m=================================\n",
      "\n",
      "can you load the meeting data and analyse each meeting and recommend the action itmes in each meeting?\n",
      "==================================\u001b[1m Ai Message \u001b[0m==================================\n",
      "Tool Calls:\n",
      "  load_meeting_data (call_bj1WCGAnOqGhv8HYnTDrH1hG)\n",
      " Call ID: call_bj1WCGAnOqGhv8HYnTDrH1hG\n",
      "  Args:\n",
      "  analyze_meetings_batch (call_8rkizzOAqc0BhUuTUn4qbDsA)\n",
      " Call ID: call_8rkizzOAqc0BhUuTUn4qbDsA\n",
      "  Args:\n",
      "=================================\u001b[1m Tool Message \u001b[0m=================================\n",
      "Name: load_meeting_data\n",
      "\n",
      "[{\"Meeting_ID\": \"MTG0001\", \"Title\": \"Whiteboard Web-Enabled Roi\", \"Date_Time\": \"4/27/2025 12:00\", \"Duration\": 15, \"Attendees\": \"Yaseen Khan, Lauren Raymond, James Mccoy, Mrs. Amanda Barron, Kelsey Clayton, Jose Parker, Sarah Hall\", \"Organizer\": \"Tim Brown\", \"Location/Link\": \"Microsoft Teams\", \"Meeting Type\": \"Retrospective\", \"Missed by User\": true, \"Has MOM\": true, \"Has Transcript\": false, \"MOM Content\": \"Meeting Summary:\\nThe team reviewed the quarterly sales performance and discussed areas for improvement.\\n\\nAction Items:\\n- Prepare detailed analytics report.\\n- Escalate unresolved issues to the IT support.\\n- Arrange a session on data compliance practices.\", \"Transcript Content\": NaN, \"Recommended Action\": NaN}, {\"Meeting_ID\": \"MTG0002\", \"Title\": \"Deliver Frictionless E-Markets\", \"Date_Time\": \"4/29/2025 15:00\", \"Duration\": 30, \"Attendees\": \"Yaseen Khan, April Hancock, Meghan Mckinney, Ricardo Cole\", \"Organizer\": \"George Hawkins\", \"Location/Link\": \"Zoom\", \"Meeting Type\": \"Team Sync\", \"Missed by User\": true, \"Has MOM\": true, \"Has Transcript\": false, \"MOM Content\": \"Meeting Summary:\\nMarketing strategies for the upcoming product launch were finalized.\\n\\nAction Items:\\n- Escalate unresolved issues to the IT support.\\n- Validate changes with the QA team.\\n- Update the project plan with new timelines.\", \"Transcript Content\": NaN, \"Recommended Action\": NaN}, {\"Meeting_ID\": \"MTG0003\", \"Title\": \"Envisioneer Front-End Supply-Chains\", \"Date_Time\": \"5/1/2025 14:30\", \"Duration\": 60, \"Attendees\": \"Yaseen Khan, Michelle Elliott, Eric Phelps, Elizabeth Burton, Nicholas Martinez\", \"Organizer\": \"Sheryl Miller\", \"Location/Link\": \"Conference Room A\", \"Meeting Type\": \"Client Meeting\", \"Missed by User\": true, \"Has MOM\": true, \"Has Transcript\": false, \"MOM Content\": \"Meeting Summary:\\nCustomer feedback from the last sprint demo was analyzed and action points were identified.\\n\\nAction Items:\\n- Document the updated workflow and share with the team.\\n- Validate changes with the QA team.\\n- Arrange a session on data compliance practices.\\n- Yaseen Khan to review the audit logs upon return from leave.\", \"Transcript Content\": NaN, \"Recommended Action\": NaN}, {\"Meeting_ID\": \"MTG0004\", \"Title\": \"Synthesize Compelling Synergies\", \"Date_Time\": \"5/2/2025 14:15\", \"Duration\": 45, \"Attendees\": \"Yaseen Khan, Dr. Gary Mueller, Andrew Wright, Albert Stokes, Vanessa Rivera, Michael Tucker, James Moore\", \"Organizer\": \"Kelly Ford\", \"Location/Link\": \"Microsoft Teams\", \"Meeting Type\": \"Project Kickoff\", \"Missed by User\": true, \"Has MOM\": true, \"Has Transcript\": false, \"MOM Content\": \"Meeting Summary:\\nThe integration of the new CRM system was discussed along with migration timelines.\\n\\nAction Items:\\n- Document the updated workflow and share with the team.\\n- Validate changes with the QA team.\\n- Prepare detailed analytics report.\\n- Yaseen Khan to review the report upon return from leave.\", \"Transcript Content\": NaN, \"Recommended Action\": NaN}, {\"Meeting_ID\": \"MTG0005\", \"Title\": \"Iterate Interactive E-Business\", \"Date_Time\": \"5/2/2025 16:15\", \"Duration\": 45, \"Attendees\": \"Yaseen Khan, Charles Perry, Vincent Aguirre, Scott Pace, Kelsey Martin, Lisa Fleming\", \"Organizer\": \"Melissa Patterson\", \"Location/Link\": \"Microsoft Teams\", \"Meeting Type\": \"Retrospective\", \"Missed by User\": true, \"Has MOM\": false, \"Has Transcript\": true, \"MOM Content\": NaN, \"Transcript Content\": \"Transcript Highlights:\\nSophia: The last demo went well, but there's room for improvement.\\n...\\n\\nDecisions Made:\\n- Adjust sprint scope to match velocity metrics.\", \"Recommended Action\": NaN}]\n",
      "=================================\u001b[1m Tool Message \u001b[0m=================================\n",
      "Name: analyze_meetings_batch\n",
      "\n",
      "Error: 1 validation error for analyze_meetings_batch\n",
      "meetings\n",
      "  Field required [type=missing, input_value={}, input_type=dict]\n",
      "    For further information visit https://errors.pydantic.dev/2.11/v/missing\n",
      " Please fix your mistakes.\n",
      "==================================\u001b[1m Ai Message \u001b[0m==================================\n",
      "\n",
      "I have loaded the meeting data, but there was an issue analyzing it. Let me provide you with the summaries and action items from the meetings that have already been processed:\n",
      "\n",
      "### Meeting Summaries and Action Items:\n",
      "\n",
      "1. **Whiteboard Web-Enabled Roi (MTG0001)**\n",
      "   - **Summary:** Reviewed quarterly sales performance.\n",
      "   - **Action Items:**\n",
      "     - Prepare detailed analytics report.\n",
      "     - Escalate unresolved issues to IT support.\n",
      "     - Arrange a session on data compliance practices.\n",
      "\n",
      "2. **Deliver Frictionless E-Markets (MTG0002)**\n",
      "   - **Summary:** Finalized marketing strategies for product launch.\n",
      "   - **Action Items:**\n",
      "     - Escalate unresolved issues to IT support.\n",
      "     - Validate changes with the QA team.\n",
      "     - Update the project plan with new timelines.\n",
      "\n",
      "3. **Envisioneer Front-End Supply-Chains (MTG0003)**\n",
      "   - **Summary:** Analyzed customer feedback from the last sprint.\n",
      "   - **Action Items:**\n",
      "     - Document the updated workflow.\n",
      "     - Validate changes with the QA team.\n",
      "     - Arrange a session on data compliance practices.\n",
      "     - Review audit logs when available.\n",
      "\n",
      "4. **Synthesize Compelling Synergies (MTG0004)**\n",
      "   - **Summary:** Discussed CRM system integration.\n",
      "   - **Action Items:**\n",
      "     - Document the updated workflow.\n",
      "     - Validate changes with the QA team.\n",
      "     - Prepare detailed analytics report.\n",
      "\n",
      "5. **Iterate Interactive E-Business (MTG0005)**\n",
      "   - **Transcript Highlight:** Last demo performance and scope adjustments were discussed.\n",
      "\n",
      "If you need further assistance or want me to retry analyzing for specific details, please let me know!\n"
     ]
    }
   ],
   "source": [
    "for m in response[\"messages\"]:\n",
    "    m.pretty_print()"
   ]
  },
  {
   "cell_type": "code",
   "execution_count": null,
   "id": "9df24f4c",
   "metadata": {},
   "outputs": [],
   "source": []
  },
  {
   "cell_type": "code",
   "execution_count": null,
   "id": "f215c160",
   "metadata": {},
   "outputs": [],
   "source": []
  }
 ],
 "metadata": {
  "kernelspec": {
   "display_name": "venv",
   "language": "python",
   "name": "python3"
  },
  "language_info": {
   "codemirror_mode": {
    "name": "ipython",
    "version": 3
   },
   "file_extension": ".py",
   "mimetype": "text/x-python",
   "name": "python",
   "nbconvert_exporter": "python",
   "pygments_lexer": "ipython3",
   "version": "3.11.0"
  }
 },
 "nbformat": 4,
 "nbformat_minor": 5
}
