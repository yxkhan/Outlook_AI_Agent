{
 "cells": [
  {
   "cell_type": "code",
   "execution_count": 1,
   "id": "75703ff9",
   "metadata": {},
   "outputs": [
    {
     "data": {
      "text/plain": [
       "True"
      ]
     },
     "execution_count": 1,
     "metadata": {},
     "output_type": "execute_result"
    }
   ],
   "source": [
    "from dotenv import load_dotenv\n",
    "load_dotenv()"
   ]
  },
  {
   "cell_type": "code",
   "execution_count": 2,
   "id": "b74d2c9d",
   "metadata": {},
   "outputs": [],
   "source": [
    "#setup API key\n",
    "import os\n",
    "OPENAI_API_KEY=os.getenv(\"OPENAI_API_KEY\")"
   ]
  },
  {
   "cell_type": "code",
   "execution_count": 3,
   "id": "9bd13eea",
   "metadata": {},
   "outputs": [],
   "source": [
    "#Setting up the environmet key\n",
    "os.environ[\"OPENAI_API_KEY\"]=OPENAI_API_KEY"
   ]
  },
  {
   "cell_type": "code",
   "execution_count": 19,
   "id": "caa97372",
   "metadata": {},
   "outputs": [],
   "source": [
    "#Lets import the required libraries\n",
    "import pandas as pd\n",
    "from langgraph.graph import StateGraph,MessagesState, START, END\n",
    "from langgraph.graph.message import add_messages\n",
    "from typing import Annotated, Literal, TypedDict, List   #\n",
    "from langchain_core.tools import tool    #for creating Tool\n",
    "from langchain_core.messages import HumanMessage\n",
    "from langgraph.checkpoint.memory import MemorySaver   #To sustain the memory\n",
    "from langgraph.prebuilt import ToolNode     #To create the Nodes for Tool"
   ]
  },
  {
   "cell_type": "code",
   "execution_count": 7,
   "id": "c3497028",
   "metadata": {},
   "outputs": [],
   "source": [
    "# Load the Groq chat model\n",
    "from langchain_groq import ChatGroq\n",
    "openai_model = ChatGroq(\n",
    "    groq_api_key=\"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\",  # Set your API key here or use env variable\n",
    "    model_name=\"gemma2-9b-it\",   # Groq's most capable model\n",
    ")"
   ]
  },
  {
   "cell_type": "code",
   "execution_count": 45,
   "id": "4074d204",
   "metadata": {},
   "outputs": [],
   "source": [
    "#Load the model\n",
    "from langchain_openai import ChatOpenAI\n",
    "openai_model=ChatOpenAI(model=\"gpt-4o\")"
   ]
  },
  {
   "cell_type": "code",
   "execution_count": 48,
   "id": "1859e271",
   "metadata": {},
   "outputs": [
    {
     "data": {
      "text/plain": [
       "AIMessage(content='Hello Yaseen! How can I assist you today?', additional_kwargs={'refusal': None}, response_metadata={'token_usage': {'completion_tokens': 12, 'prompt_tokens': 15, 'total_tokens': 27, 'completion_tokens_details': {'accepted_prediction_tokens': 0, 'audio_tokens': 0, 'reasoning_tokens': 0, 'rejected_prediction_tokens': 0}, 'prompt_tokens_details': {'audio_tokens': 0, 'cached_tokens': 0}}, 'model_name': 'gpt-4o-2024-08-06', 'system_fingerprint': 'fp_76544d79cb', 'id': 'chatcmpl-BbvSOehQ3tbDfTs4qQRze3TM7tTDQ', 'service_tier': 'default', 'finish_reason': 'stop', 'logprobs': None}, id='run--308db098-a14c-4e7c-9e67-8de6ff51780a-0', usage_metadata={'input_tokens': 15, 'output_tokens': 12, 'total_tokens': 27, 'input_token_details': {'audio': 0, 'cache_read': 0}, 'output_token_details': {'audio': 0, 'reasoning': 0}})"
      ]
     },
     "execution_count": 48,
     "metadata": {},
     "output_type": "execute_result"
    }
   ],
   "source": [
    "openai_model.invoke('Hi, My Name is Yaseen')"
   ]
  },
  {
   "cell_type": "code",
   "execution_count": 12,
   "id": "c7071c31",
   "metadata": {},
   "outputs": [],
   "source": [
    "#We have our model ready, now lets create a Tool"
   ]
  },
  {
   "cell_type": "code",
   "execution_count": 49,
   "id": "515711da",
   "metadata": {},
   "outputs": [],
   "source": [
    "#Load meeting data\n",
    "@tool\n",
    "def load_meeting_data() -> List[TypedDict]:\n",
    "    \"\"\"Tool to load meeting data from a CSV file.\"\"\"\n",
    "    df = pd.read_csv(\"yaseen_khan_missed_meetings_2.csv\")\n",
    "    meetings = df.to_dict(orient=\"records\")\n",
    "    return meetings"
   ]
  },
  {
   "cell_type": "code",
   "execution_count": 95,
   "id": "a4fac0de",
   "metadata": {},
   "outputs": [],
   "source": [
    "def load_meeting_data() -> List[TypedDict]:\n",
    "    \"\"\"Tool to load meeting data from a CSV file.\"\"\"\n",
    "    df = pd.read_csv(\"yaseen_khan_missed_meetings_2.csv\")\n",
    "    meetings = df.to_dict(orient=\"records\")\n",
    "    return meetings"
   ]
  },
  {
   "cell_type": "code",
   "execution_count": 106,
   "id": "02be6ccb",
   "metadata": {},
   "outputs": [
    {
     "name": "stdout",
     "output_type": "stream",
     "text": [
      "{'Meeting_ID': 'MTG0001', 'Title': 'Whiteboard Web-Enabled Roi', 'Date_Time': '4/27/2025 12:00', 'Duration': 15, 'Attendees': 'Yaseen Khan, Lauren Raymond, James Mccoy, Mrs. Amanda Barron, Kelsey Clayton, Jose Parker, Sarah Hall', 'Organizer': 'Tim Brown', 'Location/Link': 'Microsoft Teams', 'Meeting Type': 'Retrospective', 'Missed by User': True, 'Has MOM': True, 'Has Transcript': False, 'MOM Content': 'Meeting Summary:\\nThe team reviewed the quarterly sales performance and discussed areas for improvement.\\n\\nAction Items:\\n- Prepare detailed analytics report.\\n- Escalate unresolved issues to the IT support.\\n- Arrange a session on data compliance practices.', 'Transcript Content': nan, 'Recommended Action': nan}\n",
      "{'Meeting_ID': 'MTG0002', 'Title': 'Deliver Frictionless E-Markets', 'Date_Time': '4/29/2025 15:00', 'Duration': 30, 'Attendees': 'Yaseen Khan, April Hancock, Meghan Mckinney, Ricardo Cole', 'Organizer': 'George Hawkins', 'Location/Link': 'Zoom', 'Meeting Type': 'Team Sync', 'Missed by User': True, 'Has MOM': True, 'Has Transcript': False, 'MOM Content': 'Meeting Summary:\\nMarketing strategies for the upcoming product launch were finalized.\\n\\nAction Items:\\n- Escalate unresolved issues to the IT support.\\n- Validate changes with the QA team.\\n- Update the project plan with new timelines.', 'Transcript Content': nan, 'Recommended Action': nan}\n",
      "{'Meeting_ID': 'MTG0003', 'Title': 'Envisioneer Front-End Supply-Chains', 'Date_Time': '5/1/2025 14:30', 'Duration': 60, 'Attendees': 'Yaseen Khan, Michelle Elliott, Eric Phelps, Elizabeth Burton, Nicholas Martinez', 'Organizer': 'Sheryl Miller', 'Location/Link': 'Conference Room A', 'Meeting Type': 'Client Meeting', 'Missed by User': True, 'Has MOM': True, 'Has Transcript': False, 'MOM Content': 'Meeting Summary:\\nCustomer feedback from the last sprint demo was analyzed and action points were identified.\\n\\nAction Items:\\n- Document the updated workflow and share with the team.\\n- Validate changes with the QA team.\\n- Arrange a session on data compliance practices.\\n- Yaseen Khan to review the audit logs upon return from leave.', 'Transcript Content': nan, 'Recommended Action': nan}\n",
      "{'Meeting_ID': 'MTG0004', 'Title': 'Synthesize Compelling Synergies', 'Date_Time': '5/2/2025 14:15', 'Duration': 45, 'Attendees': 'Yaseen Khan, Dr. Gary Mueller, Andrew Wright, Albert Stokes, Vanessa Rivera, Michael Tucker, James Moore', 'Organizer': 'Kelly Ford', 'Location/Link': 'Microsoft Teams', 'Meeting Type': 'Project Kickoff', 'Missed by User': True, 'Has MOM': True, 'Has Transcript': False, 'MOM Content': 'Meeting Summary:\\nThe integration of the new CRM system was discussed along with migration timelines.\\n\\nAction Items:\\n- Document the updated workflow and share with the team.\\n- Validate changes with the QA team.\\n- Prepare detailed analytics report.\\n- Yaseen Khan to review the report upon return from leave.', 'Transcript Content': nan, 'Recommended Action': nan}\n",
      "{'Meeting_ID': 'MTG0005', 'Title': 'Iterate Interactive E-Business', 'Date_Time': '5/2/2025 16:15', 'Duration': 45, 'Attendees': 'Yaseen Khan, Charles Perry, Vincent Aguirre, Scott Pace, Kelsey Martin, Lisa Fleming', 'Organizer': 'Melissa Patterson', 'Location/Link': 'Microsoft Teams', 'Meeting Type': 'Retrospective', 'Missed by User': True, 'Has MOM': False, 'Has Transcript': True, 'MOM Content': nan, 'Transcript Content': \"Transcript Highlights:\\nSophia: The last demo went well, but there's room for improvement.\\n...\\n\\nDecisions Made:\\n- Adjust sprint scope to match velocity metrics.\", 'Recommended Action': nan}\n",
      "{'Meeting_ID': 'MTG0006', 'Title': 'Disintermediate Visionary Systems', 'Date_Time': '5/5/2025 9:30', 'Duration': 60, 'Attendees': 'Yaseen Khan, Michael Garrison, Amy Moon, Dorothy Howell, Melody Cervantes', 'Organizer': 'Sandra Snyder', 'Location/Link': 'Board Room', 'Meeting Type': 'Project Kickoff', 'Missed by User': True, 'Has MOM': False, 'Has Transcript': True, 'MOM Content': nan, 'Transcript Content': \"Transcript Highlights:\\nMason: Let's prioritize user stories with high business impact.\\n...\\n\\nDecisions Made:\\n- Include accessibility testing in QA plans.\", 'Recommended Action': nan}\n",
      "{'Meeting_ID': 'MTG0007', 'Title': 'Deliver Magnetic Experiences', 'Date_Time': '5/6/2025 12:45', 'Duration': 30, 'Attendees': 'Yaseen Khan, Robert Cole, Grant Dixon, Jason Miller', 'Organizer': 'Nicole Simpson', 'Location/Link': 'Board Room', 'Meeting Type': 'Sprint Planning', 'Missed by User': True, 'Has MOM': True, 'Has Transcript': False, 'MOM Content': 'Meeting Summary:\\nThe bug triage session focused on high-priority issues from the last release.\\n\\nAction Items:\\n- Review vendor contract with legal.\\n- Send summary email to stakeholders.\\n- Setup a follow-up meeting with the finance department.', 'Transcript Content': nan, 'Recommended Action': nan}\n",
      "{'Meeting_ID': 'MTG0008', 'Title': 'Synthesize World-Class Experiences', 'Date_Time': '5/7/2025 14:30', 'Duration': 15, 'Attendees': 'Yaseen Khan, Alex Hale, James Brady, Anita Johnson, Christine Moyer, Andrea Moore, John Mitchell', 'Organizer': 'Gloria Tate', 'Location/Link': 'Conference Room A', 'Meeting Type': 'Client Meeting', 'Missed by User': True, 'Has MOM': True, 'Has Transcript': False, 'MOM Content': 'Meeting Summary:\\nNew onboarding process for remote employees was reviewed and feedback was collected.\\n\\nAction Items:\\n- Send summary email to stakeholders.\\n- Update the project plan with new timelines.\\n- Review vendor contract with legal.', 'Transcript Content': nan, 'Recommended Action': nan}\n",
      "{'Meeting_ID': 'MTG0009', 'Title': 'Scale Cross-Media Portals', 'Date_Time': '5/9/2025 14:15', 'Duration': 30, 'Attendees': 'Yaseen Khan, Jeffrey Greene, Matthew Hughes, Tyler Thompson, Adam Osborne, Alexander Jones, Steven Nicholson', 'Organizer': 'Bianca Ramos', 'Location/Link': 'Microsoft Teams', 'Meeting Type': 'Retrospective', 'Missed by User': True, 'Has MOM': True, 'Has Transcript': False, 'MOM Content': 'Meeting Summary:\\nDiscussion around budget planning for the next fiscal year took place.\\n\\nAction Items:\\n- Document the updated workflow and share with the team.\\n- Escalate unresolved issues to the IT support.\\n- Send summary email to stakeholders.', 'Transcript Content': nan, 'Recommended Action': nan}\n",
      "{'Meeting_ID': 'MTG0010', 'Title': 'Monetize Mission-Critical Portals', 'Date_Time': '5/9/2025 16:15', 'Duration': 45, 'Attendees': 'Yaseen Khan, Susan Harrison, Stephen Curtis, Tiffany Kelley, Hannah Gonzalez', 'Organizer': 'Lauren Jenkins', 'Location/Link': 'Conference Room A', 'Meeting Type': 'Client Meeting', 'Missed by User': True, 'Has MOM': True, 'Has Transcript': False, 'MOM Content': 'Meeting Summary:\\nRetrospective on the failed deployment and learnings from the incident.\\n\\nAction Items:\\n- Update the project plan with new timelines.\\n- Conduct user testing by next week.\\n- Escalate unresolved issues to the IT support.\\n- Yaseen Khan to review the audit logs upon return from leave.', 'Transcript Content': nan, 'Recommended Action': nan}\n",
      "{'Meeting_ID': 'MTG0011', 'Title': 'Benchmark One-To-One Metrics', 'Date_Time': '5/9/2025 16:45', 'Duration': 45, 'Attendees': 'Yaseen Khan, Kevin Mccormick, Rebecca Pruitt, Karen Richardson, Paul Hahn, Daniel Ford, Stacy Watson', 'Organizer': 'Justin Mccoy', 'Location/Link': 'Zoom', 'Meeting Type': 'Sprint Planning', 'Missed by User': True, 'Has MOM': True, 'Has Transcript': False, 'MOM Content': 'Meeting Summary:\\nThe team reviewed the quarterly sales performance and discussed areas for improvement.\\n\\nAction Items:\\n- Conduct user testing by next week.\\n- Validate changes with the QA team.\\n- Escalate unresolved issues to the IT support.', 'Transcript Content': nan, 'Recommended Action': nan}\n",
      "{'Meeting_ID': 'MTG0012', 'Title': 'Incubate Cross-Media Niches', 'Date_Time': '5/10/2025 12:45', 'Duration': 60, 'Attendees': 'Yaseen Khan, Rhonda Williamson, Sandra Hunt, Marcus Everett, Bradley Tucker', 'Organizer': 'Leslie Harris', 'Location/Link': 'Zoom', 'Meeting Type': 'Team Sync', 'Missed by User': True, 'Has MOM': False, 'Has Transcript': True, 'MOM Content': nan, 'Transcript Content': 'Transcript Highlights:\\nJames: Can we ensure compliance before the next audit cycle?\\n...\\n\\nDecisions Made:\\n- Schedule internal compliance check next Tuesday.', 'Recommended Action': nan}\n",
      "{'Meeting_ID': 'MTG0013', 'Title': 'Reinvent 24/7 E-Business', 'Date_Time': '5/10/2025 17:15', 'Duration': 45, 'Attendees': 'Yaseen Khan, Renee Jordan, Joe Allen', 'Organizer': 'Leah Smith', 'Location/Link': 'Board Room', 'Meeting Type': 'Team Sync', 'Missed by User': True, 'Has MOM': True, 'Has Transcript': False, 'MOM Content': 'Meeting Summary:\\nCustomer feedback from the last sprint demo was analyzed and action points were identified.\\n\\nAction Items:\\n- Review vendor contract with legal.\\n- Conduct user testing by next week.\\n- Escalate unresolved issues to the IT support.\\n- Yaseen Khan to review the integration plan upon return from leave.', 'Transcript Content': nan, 'Recommended Action': nan}\n",
      "{'Meeting_ID': 'MTG0014', 'Title': 'Embrace Real-Time Action-Items', 'Date_Time': '5/11/2025 10:30', 'Duration': 60, 'Attendees': 'Yaseen Khan, Roger Cox, Kevin Blackwell, Elizabeth Williams, Michael Perry, Angela Ross, Eric Miranda', 'Organizer': 'Stacy Wilson', 'Location/Link': 'Board Room', 'Meeting Type': 'Team Sync', 'Missed by User': True, 'Has MOM': False, 'Has Transcript': True, 'MOM Content': nan, 'Transcript Content': \"Transcript Highlights:\\nLiam: We should get Yaseen's inputs on the CRM changes post his return.\\n...\\n\\nDecisions Made:\\n- Designate alternate point-of-contact during Yaseen’s leave.\", 'Recommended Action': nan}\n",
      "{'Meeting_ID': 'MTG0015', 'Title': 'Deploy Real-Time Mindshare', 'Date_Time': '5/15/2025 10:45', 'Duration': 45, 'Attendees': 'Yaseen Khan, James Neal, Douglas Page, Carlos Fisher, Casey Martin', 'Organizer': 'Andrea Barton', 'Location/Link': 'Board Room', 'Meeting Type': 'Sprint Planning', 'Missed by User': True, 'Has MOM': True, 'Has Transcript': False, 'MOM Content': 'Meeting Summary:\\nSecurity audit findings were presented and resolutions were assigned.\\n\\nAction Items:\\n- Review vendor contract with legal.\\n- Conduct user testing by next week.\\n- Prepare detailed analytics report.\\n- Yaseen Khan to review the integration plan upon return from leave.', 'Transcript Content': nan, 'Recommended Action': nan}\n",
      "{'Meeting_ID': 'MTG0016', 'Title': 'Disintermediate Leading-Edge Markets', 'Date_Time': '5/15/2025 12:45', 'Duration': 45, 'Attendees': 'Yaseen Khan, Anthony Johnson, Amy Cox, Taylor Ball, Ariana Lindsey, Jason Lynch, William Warren', 'Organizer': 'Zachary Myers', 'Location/Link': 'Microsoft Teams', 'Meeting Type': 'Sprint Planning', 'Missed by User': True, 'Has MOM': True, 'Has Transcript': False, 'MOM Content': 'Meeting Summary:\\nTeam discussed the roadmap for the next quarter and potential staffing changes.\\n\\nAction Items:\\n- Conduct user testing by next week.\\n- Arrange a session on data compliance practices.\\n- Validate changes with the QA team.\\n- Yaseen Khan to review the audit logs upon return from leave.', 'Transcript Content': nan, 'Recommended Action': nan}\n",
      "{'Meeting_ID': 'MTG0017', 'Title': 'Morph Mission-Critical Interfaces', 'Date_Time': '5/19/2025 14:30', 'Duration': 15, 'Attendees': 'Yaseen Khan, Destiny Valdez, Richard Frost, Scott Jackson, Austin Mack, Jose Morgan', 'Organizer': 'Stephanie Andrews', 'Location/Link': 'Conference Room A', 'Meeting Type': 'Retrospective', 'Missed by User': True, 'Has MOM': False, 'Has Transcript': True, 'MOM Content': nan, 'Transcript Content': 'Transcript Highlights:\\nAva: We need a new dashboard layout for analytics reporting.\\n...\\n\\nDecisions Made:\\n- Allocate buffer time for feedback incorporation.', 'Recommended Action': nan}\n",
      "{'Meeting_ID': 'MTG0018', 'Title': 'Strategize Granular Supply-Chains', 'Date_Time': '5/21/2025 9:00', 'Duration': 30, 'Attendees': 'Yaseen Khan, Bradley Palmer, Jasmin Reynolds, Cynthia Hahn, Lauren Stevenson, Mrs. Annette Lester MD, Adam Boyd', 'Organizer': 'Barbara Alexander', 'Location/Link': 'Conference Room A', 'Meeting Type': 'Retrospective', 'Missed by User': True, 'Has MOM': True, 'Has Transcript': False, 'MOM Content': 'Meeting Summary:\\nNew onboarding process for remote employees was reviewed and feedback was collected.\\n\\nAction Items:\\n- Document the updated workflow and share with the team.\\n- Update the project plan with new timelines.\\n- Conduct user testing by next week.', 'Transcript Content': nan, 'Recommended Action': nan}\n",
      "{'Meeting_ID': 'MTG0019', 'Title': 'Target Global Systems', 'Date_Time': '5/25/2025 12:00', 'Duration': 45, 'Attendees': 'Yaseen Khan, Lorraine Lopez, Kaitlin Morris', 'Organizer': 'Troy Ballard', 'Location/Link': 'Zoom', 'Meeting Type': 'Retrospective', 'Missed by User': True, 'Has MOM': True, 'Has Transcript': False, 'MOM Content': 'Meeting Summary:\\nDiscussion around budget planning for the next fiscal year took place.\\n\\nAction Items:\\n- Document the updated workflow and share with the team.\\n- Arrange a session on data compliance practices.\\n- Setup a follow-up meeting with the finance department.\\n- Yaseen Khan to review the integration plan upon return from leave.', 'Transcript Content': nan, 'Recommended Action': nan}\n",
      "{'Meeting_ID': 'MTG0020', 'Title': 'Repurpose Mission-Critical Functionalities', 'Date_Time': '5/25/2025 12:45', 'Duration': 30, 'Attendees': 'Yaseen Khan, Isaac Brown, Linda Myers', 'Organizer': 'Mrs. Jennifer Moss', 'Location/Link': 'Board Room', 'Meeting Type': 'Project Kickoff', 'Missed by User': True, 'Has MOM': False, 'Has Transcript': True, 'MOM Content': nan, 'Transcript Content': 'Transcript Highlights:\\nMia: We’ll need to reassign some tasks if Yaseen is out longer.\\n...\\n\\nDecisions Made:\\n- Push back release by one week due to resource constraints.', 'Recommended Action': nan}\n"
     ]
    }
   ],
   "source": [
    "data=load_meeting_data()\n",
    "for i in data:\n",
    "    print(i)"
   ]
  },
  {
   "cell_type": "code",
   "execution_count": 109,
   "id": "8d590ad7",
   "metadata": {},
   "outputs": [
    {
     "data": {
      "text/plain": [
       "[{'Meeting_ID': 'MTG0001',\n",
       "  'Title': 'Whiteboard Web-Enabled Roi',\n",
       "  'Date_Time': '4/27/2025 12:00',\n",
       "  'Duration': 15,\n",
       "  'Attendees': 'Yaseen Khan, Lauren Raymond, James Mccoy, Mrs. Amanda Barron, Kelsey Clayton, Jose Parker, Sarah Hall',\n",
       "  'Organizer': 'Tim Brown',\n",
       "  'Location/Link': 'Microsoft Teams',\n",
       "  'Meeting Type': 'Retrospective',\n",
       "  'Missed by User': True,\n",
       "  'Has MOM': True,\n",
       "  'Has Transcript': False,\n",
       "  'MOM Content': 'Meeting Summary:\\nThe team reviewed the quarterly sales performance and discussed areas for improvement.\\n\\nAction Items:\\n- Prepare detailed analytics report.\\n- Escalate unresolved issues to the IT support.\\n- Arrange a session on data compliance practices.',\n",
       "  'Transcript Content': nan,\n",
       "  'Recommended Action': nan},\n",
       " {'Meeting_ID': 'MTG0002',\n",
       "  'Title': 'Deliver Frictionless E-Markets',\n",
       "  'Date_Time': '4/29/2025 15:00',\n",
       "  'Duration': 30,\n",
       "  'Attendees': 'Yaseen Khan, April Hancock, Meghan Mckinney, Ricardo Cole',\n",
       "  'Organizer': 'George Hawkins',\n",
       "  'Location/Link': 'Zoom',\n",
       "  'Meeting Type': 'Team Sync',\n",
       "  'Missed by User': True,\n",
       "  'Has MOM': True,\n",
       "  'Has Transcript': False,\n",
       "  'MOM Content': 'Meeting Summary:\\nMarketing strategies for the upcoming product launch were finalized.\\n\\nAction Items:\\n- Escalate unresolved issues to the IT support.\\n- Validate changes with the QA team.\\n- Update the project plan with new timelines.',\n",
       "  'Transcript Content': nan,\n",
       "  'Recommended Action': nan},\n",
       " {'Meeting_ID': 'MTG0003',\n",
       "  'Title': 'Envisioneer Front-End Supply-Chains',\n",
       "  'Date_Time': '5/1/2025 14:30',\n",
       "  'Duration': 60,\n",
       "  'Attendees': 'Yaseen Khan, Michelle Elliott, Eric Phelps, Elizabeth Burton, Nicholas Martinez',\n",
       "  'Organizer': 'Sheryl Miller',\n",
       "  'Location/Link': 'Conference Room A',\n",
       "  'Meeting Type': 'Client Meeting',\n",
       "  'Missed by User': True,\n",
       "  'Has MOM': True,\n",
       "  'Has Transcript': False,\n",
       "  'MOM Content': 'Meeting Summary:\\nCustomer feedback from the last sprint demo was analyzed and action points were identified.\\n\\nAction Items:\\n- Document the updated workflow and share with the team.\\n- Validate changes with the QA team.\\n- Arrange a session on data compliance practices.\\n- Yaseen Khan to review the audit logs upon return from leave.',\n",
       "  'Transcript Content': nan,\n",
       "  'Recommended Action': nan},\n",
       " {'Meeting_ID': 'MTG0004',\n",
       "  'Title': 'Synthesize Compelling Synergies',\n",
       "  'Date_Time': '5/2/2025 14:15',\n",
       "  'Duration': 45,\n",
       "  'Attendees': 'Yaseen Khan, Dr. Gary Mueller, Andrew Wright, Albert Stokes, Vanessa Rivera, Michael Tucker, James Moore',\n",
       "  'Organizer': 'Kelly Ford',\n",
       "  'Location/Link': 'Microsoft Teams',\n",
       "  'Meeting Type': 'Project Kickoff',\n",
       "  'Missed by User': True,\n",
       "  'Has MOM': True,\n",
       "  'Has Transcript': False,\n",
       "  'MOM Content': 'Meeting Summary:\\nThe integration of the new CRM system was discussed along with migration timelines.\\n\\nAction Items:\\n- Document the updated workflow and share with the team.\\n- Validate changes with the QA team.\\n- Prepare detailed analytics report.\\n- Yaseen Khan to review the report upon return from leave.',\n",
       "  'Transcript Content': nan,\n",
       "  'Recommended Action': nan},\n",
       " {'Meeting_ID': 'MTG0005',\n",
       "  'Title': 'Iterate Interactive E-Business',\n",
       "  'Date_Time': '5/2/2025 16:15',\n",
       "  'Duration': 45,\n",
       "  'Attendees': 'Yaseen Khan, Charles Perry, Vincent Aguirre, Scott Pace, Kelsey Martin, Lisa Fleming',\n",
       "  'Organizer': 'Melissa Patterson',\n",
       "  'Location/Link': 'Microsoft Teams',\n",
       "  'Meeting Type': 'Retrospective',\n",
       "  'Missed by User': True,\n",
       "  'Has MOM': False,\n",
       "  'Has Transcript': True,\n",
       "  'MOM Content': nan,\n",
       "  'Transcript Content': \"Transcript Highlights:\\nSophia: The last demo went well, but there's room for improvement.\\n...\\n\\nDecisions Made:\\n- Adjust sprint scope to match velocity metrics.\",\n",
       "  'Recommended Action': nan},\n",
       " {'Meeting_ID': 'MTG0006',\n",
       "  'Title': 'Disintermediate Visionary Systems',\n",
       "  'Date_Time': '5/5/2025 9:30',\n",
       "  'Duration': 60,\n",
       "  'Attendees': 'Yaseen Khan, Michael Garrison, Amy Moon, Dorothy Howell, Melody Cervantes',\n",
       "  'Organizer': 'Sandra Snyder',\n",
       "  'Location/Link': 'Board Room',\n",
       "  'Meeting Type': 'Project Kickoff',\n",
       "  'Missed by User': True,\n",
       "  'Has MOM': False,\n",
       "  'Has Transcript': True,\n",
       "  'MOM Content': nan,\n",
       "  'Transcript Content': \"Transcript Highlights:\\nMason: Let's prioritize user stories with high business impact.\\n...\\n\\nDecisions Made:\\n- Include accessibility testing in QA plans.\",\n",
       "  'Recommended Action': nan},\n",
       " {'Meeting_ID': 'MTG0007',\n",
       "  'Title': 'Deliver Magnetic Experiences',\n",
       "  'Date_Time': '5/6/2025 12:45',\n",
       "  'Duration': 30,\n",
       "  'Attendees': 'Yaseen Khan, Robert Cole, Grant Dixon, Jason Miller',\n",
       "  'Organizer': 'Nicole Simpson',\n",
       "  'Location/Link': 'Board Room',\n",
       "  'Meeting Type': 'Sprint Planning',\n",
       "  'Missed by User': True,\n",
       "  'Has MOM': True,\n",
       "  'Has Transcript': False,\n",
       "  'MOM Content': 'Meeting Summary:\\nThe bug triage session focused on high-priority issues from the last release.\\n\\nAction Items:\\n- Review vendor contract with legal.\\n- Send summary email to stakeholders.\\n- Setup a follow-up meeting with the finance department.',\n",
       "  'Transcript Content': nan,\n",
       "  'Recommended Action': nan},\n",
       " {'Meeting_ID': 'MTG0008',\n",
       "  'Title': 'Synthesize World-Class Experiences',\n",
       "  'Date_Time': '5/7/2025 14:30',\n",
       "  'Duration': 15,\n",
       "  'Attendees': 'Yaseen Khan, Alex Hale, James Brady, Anita Johnson, Christine Moyer, Andrea Moore, John Mitchell',\n",
       "  'Organizer': 'Gloria Tate',\n",
       "  'Location/Link': 'Conference Room A',\n",
       "  'Meeting Type': 'Client Meeting',\n",
       "  'Missed by User': True,\n",
       "  'Has MOM': True,\n",
       "  'Has Transcript': False,\n",
       "  'MOM Content': 'Meeting Summary:\\nNew onboarding process for remote employees was reviewed and feedback was collected.\\n\\nAction Items:\\n- Send summary email to stakeholders.\\n- Update the project plan with new timelines.\\n- Review vendor contract with legal.',\n",
       "  'Transcript Content': nan,\n",
       "  'Recommended Action': nan},\n",
       " {'Meeting_ID': 'MTG0009',\n",
       "  'Title': 'Scale Cross-Media Portals',\n",
       "  'Date_Time': '5/9/2025 14:15',\n",
       "  'Duration': 30,\n",
       "  'Attendees': 'Yaseen Khan, Jeffrey Greene, Matthew Hughes, Tyler Thompson, Adam Osborne, Alexander Jones, Steven Nicholson',\n",
       "  'Organizer': 'Bianca Ramos',\n",
       "  'Location/Link': 'Microsoft Teams',\n",
       "  'Meeting Type': 'Retrospective',\n",
       "  'Missed by User': True,\n",
       "  'Has MOM': True,\n",
       "  'Has Transcript': False,\n",
       "  'MOM Content': 'Meeting Summary:\\nDiscussion around budget planning for the next fiscal year took place.\\n\\nAction Items:\\n- Document the updated workflow and share with the team.\\n- Escalate unresolved issues to the IT support.\\n- Send summary email to stakeholders.',\n",
       "  'Transcript Content': nan,\n",
       "  'Recommended Action': nan},\n",
       " {'Meeting_ID': 'MTG0010',\n",
       "  'Title': 'Monetize Mission-Critical Portals',\n",
       "  'Date_Time': '5/9/2025 16:15',\n",
       "  'Duration': 45,\n",
       "  'Attendees': 'Yaseen Khan, Susan Harrison, Stephen Curtis, Tiffany Kelley, Hannah Gonzalez',\n",
       "  'Organizer': 'Lauren Jenkins',\n",
       "  'Location/Link': 'Conference Room A',\n",
       "  'Meeting Type': 'Client Meeting',\n",
       "  'Missed by User': True,\n",
       "  'Has MOM': True,\n",
       "  'Has Transcript': False,\n",
       "  'MOM Content': 'Meeting Summary:\\nRetrospective on the failed deployment and learnings from the incident.\\n\\nAction Items:\\n- Update the project plan with new timelines.\\n- Conduct user testing by next week.\\n- Escalate unresolved issues to the IT support.\\n- Yaseen Khan to review the audit logs upon return from leave.',\n",
       "  'Transcript Content': nan,\n",
       "  'Recommended Action': nan},\n",
       " {'Meeting_ID': 'MTG0011',\n",
       "  'Title': 'Benchmark One-To-One Metrics',\n",
       "  'Date_Time': '5/9/2025 16:45',\n",
       "  'Duration': 45,\n",
       "  'Attendees': 'Yaseen Khan, Kevin Mccormick, Rebecca Pruitt, Karen Richardson, Paul Hahn, Daniel Ford, Stacy Watson',\n",
       "  'Organizer': 'Justin Mccoy',\n",
       "  'Location/Link': 'Zoom',\n",
       "  'Meeting Type': 'Sprint Planning',\n",
       "  'Missed by User': True,\n",
       "  'Has MOM': True,\n",
       "  'Has Transcript': False,\n",
       "  'MOM Content': 'Meeting Summary:\\nThe team reviewed the quarterly sales performance and discussed areas for improvement.\\n\\nAction Items:\\n- Conduct user testing by next week.\\n- Validate changes with the QA team.\\n- Escalate unresolved issues to the IT support.',\n",
       "  'Transcript Content': nan,\n",
       "  'Recommended Action': nan},\n",
       " {'Meeting_ID': 'MTG0012',\n",
       "  'Title': 'Incubate Cross-Media Niches',\n",
       "  'Date_Time': '5/10/2025 12:45',\n",
       "  'Duration': 60,\n",
       "  'Attendees': 'Yaseen Khan, Rhonda Williamson, Sandra Hunt, Marcus Everett, Bradley Tucker',\n",
       "  'Organizer': 'Leslie Harris',\n",
       "  'Location/Link': 'Zoom',\n",
       "  'Meeting Type': 'Team Sync',\n",
       "  'Missed by User': True,\n",
       "  'Has MOM': False,\n",
       "  'Has Transcript': True,\n",
       "  'MOM Content': nan,\n",
       "  'Transcript Content': 'Transcript Highlights:\\nJames: Can we ensure compliance before the next audit cycle?\\n...\\n\\nDecisions Made:\\n- Schedule internal compliance check next Tuesday.',\n",
       "  'Recommended Action': nan},\n",
       " {'Meeting_ID': 'MTG0013',\n",
       "  'Title': 'Reinvent 24/7 E-Business',\n",
       "  'Date_Time': '5/10/2025 17:15',\n",
       "  'Duration': 45,\n",
       "  'Attendees': 'Yaseen Khan, Renee Jordan, Joe Allen',\n",
       "  'Organizer': 'Leah Smith',\n",
       "  'Location/Link': 'Board Room',\n",
       "  'Meeting Type': 'Team Sync',\n",
       "  'Missed by User': True,\n",
       "  'Has MOM': True,\n",
       "  'Has Transcript': False,\n",
       "  'MOM Content': 'Meeting Summary:\\nCustomer feedback from the last sprint demo was analyzed and action points were identified.\\n\\nAction Items:\\n- Review vendor contract with legal.\\n- Conduct user testing by next week.\\n- Escalate unresolved issues to the IT support.\\n- Yaseen Khan to review the integration plan upon return from leave.',\n",
       "  'Transcript Content': nan,\n",
       "  'Recommended Action': nan},\n",
       " {'Meeting_ID': 'MTG0014',\n",
       "  'Title': 'Embrace Real-Time Action-Items',\n",
       "  'Date_Time': '5/11/2025 10:30',\n",
       "  'Duration': 60,\n",
       "  'Attendees': 'Yaseen Khan, Roger Cox, Kevin Blackwell, Elizabeth Williams, Michael Perry, Angela Ross, Eric Miranda',\n",
       "  'Organizer': 'Stacy Wilson',\n",
       "  'Location/Link': 'Board Room',\n",
       "  'Meeting Type': 'Team Sync',\n",
       "  'Missed by User': True,\n",
       "  'Has MOM': False,\n",
       "  'Has Transcript': True,\n",
       "  'MOM Content': nan,\n",
       "  'Transcript Content': \"Transcript Highlights:\\nLiam: We should get Yaseen's inputs on the CRM changes post his return.\\n...\\n\\nDecisions Made:\\n- Designate alternate point-of-contact during Yaseen’s leave.\",\n",
       "  'Recommended Action': nan},\n",
       " {'Meeting_ID': 'MTG0015',\n",
       "  'Title': 'Deploy Real-Time Mindshare',\n",
       "  'Date_Time': '5/15/2025 10:45',\n",
       "  'Duration': 45,\n",
       "  'Attendees': 'Yaseen Khan, James Neal, Douglas Page, Carlos Fisher, Casey Martin',\n",
       "  'Organizer': 'Andrea Barton',\n",
       "  'Location/Link': 'Board Room',\n",
       "  'Meeting Type': 'Sprint Planning',\n",
       "  'Missed by User': True,\n",
       "  'Has MOM': True,\n",
       "  'Has Transcript': False,\n",
       "  'MOM Content': 'Meeting Summary:\\nSecurity audit findings were presented and resolutions were assigned.\\n\\nAction Items:\\n- Review vendor contract with legal.\\n- Conduct user testing by next week.\\n- Prepare detailed analytics report.\\n- Yaseen Khan to review the integration plan upon return from leave.',\n",
       "  'Transcript Content': nan,\n",
       "  'Recommended Action': nan},\n",
       " {'Meeting_ID': 'MTG0016',\n",
       "  'Title': 'Disintermediate Leading-Edge Markets',\n",
       "  'Date_Time': '5/15/2025 12:45',\n",
       "  'Duration': 45,\n",
       "  'Attendees': 'Yaseen Khan, Anthony Johnson, Amy Cox, Taylor Ball, Ariana Lindsey, Jason Lynch, William Warren',\n",
       "  'Organizer': 'Zachary Myers',\n",
       "  'Location/Link': 'Microsoft Teams',\n",
       "  'Meeting Type': 'Sprint Planning',\n",
       "  'Missed by User': True,\n",
       "  'Has MOM': True,\n",
       "  'Has Transcript': False,\n",
       "  'MOM Content': 'Meeting Summary:\\nTeam discussed the roadmap for the next quarter and potential staffing changes.\\n\\nAction Items:\\n- Conduct user testing by next week.\\n- Arrange a session on data compliance practices.\\n- Validate changes with the QA team.\\n- Yaseen Khan to review the audit logs upon return from leave.',\n",
       "  'Transcript Content': nan,\n",
       "  'Recommended Action': nan},\n",
       " {'Meeting_ID': 'MTG0017',\n",
       "  'Title': 'Morph Mission-Critical Interfaces',\n",
       "  'Date_Time': '5/19/2025 14:30',\n",
       "  'Duration': 15,\n",
       "  'Attendees': 'Yaseen Khan, Destiny Valdez, Richard Frost, Scott Jackson, Austin Mack, Jose Morgan',\n",
       "  'Organizer': 'Stephanie Andrews',\n",
       "  'Location/Link': 'Conference Room A',\n",
       "  'Meeting Type': 'Retrospective',\n",
       "  'Missed by User': True,\n",
       "  'Has MOM': False,\n",
       "  'Has Transcript': True,\n",
       "  'MOM Content': nan,\n",
       "  'Transcript Content': 'Transcript Highlights:\\nAva: We need a new dashboard layout for analytics reporting.\\n...\\n\\nDecisions Made:\\n- Allocate buffer time for feedback incorporation.',\n",
       "  'Recommended Action': nan},\n",
       " {'Meeting_ID': 'MTG0018',\n",
       "  'Title': 'Strategize Granular Supply-Chains',\n",
       "  'Date_Time': '5/21/2025 9:00',\n",
       "  'Duration': 30,\n",
       "  'Attendees': 'Yaseen Khan, Bradley Palmer, Jasmin Reynolds, Cynthia Hahn, Lauren Stevenson, Mrs. Annette Lester MD, Adam Boyd',\n",
       "  'Organizer': 'Barbara Alexander',\n",
       "  'Location/Link': 'Conference Room A',\n",
       "  'Meeting Type': 'Retrospective',\n",
       "  'Missed by User': True,\n",
       "  'Has MOM': True,\n",
       "  'Has Transcript': False,\n",
       "  'MOM Content': 'Meeting Summary:\\nNew onboarding process for remote employees was reviewed and feedback was collected.\\n\\nAction Items:\\n- Document the updated workflow and share with the team.\\n- Update the project plan with new timelines.\\n- Conduct user testing by next week.',\n",
       "  'Transcript Content': nan,\n",
       "  'Recommended Action': nan},\n",
       " {'Meeting_ID': 'MTG0019',\n",
       "  'Title': 'Target Global Systems',\n",
       "  'Date_Time': '5/25/2025 12:00',\n",
       "  'Duration': 45,\n",
       "  'Attendees': 'Yaseen Khan, Lorraine Lopez, Kaitlin Morris',\n",
       "  'Organizer': 'Troy Ballard',\n",
       "  'Location/Link': 'Zoom',\n",
       "  'Meeting Type': 'Retrospective',\n",
       "  'Missed by User': True,\n",
       "  'Has MOM': True,\n",
       "  'Has Transcript': False,\n",
       "  'MOM Content': 'Meeting Summary:\\nDiscussion around budget planning for the next fiscal year took place.\\n\\nAction Items:\\n- Document the updated workflow and share with the team.\\n- Arrange a session on data compliance practices.\\n- Setup a follow-up meeting with the finance department.\\n- Yaseen Khan to review the integration plan upon return from leave.',\n",
       "  'Transcript Content': nan,\n",
       "  'Recommended Action': nan},\n",
       " {'Meeting_ID': 'MTG0020',\n",
       "  'Title': 'Repurpose Mission-Critical Functionalities',\n",
       "  'Date_Time': '5/25/2025 12:45',\n",
       "  'Duration': 30,\n",
       "  'Attendees': 'Yaseen Khan, Isaac Brown, Linda Myers',\n",
       "  'Organizer': 'Mrs. Jennifer Moss',\n",
       "  'Location/Link': 'Board Room',\n",
       "  'Meeting Type': 'Project Kickoff',\n",
       "  'Missed by User': True,\n",
       "  'Has MOM': False,\n",
       "  'Has Transcript': True,\n",
       "  'MOM Content': nan,\n",
       "  'Transcript Content': 'Transcript Highlights:\\nMia: We’ll need to reassign some tasks if Yaseen is out longer.\\n...\\n\\nDecisions Made:\\n- Push back release by one week due to resource constraints.',\n",
       "  'Recommended Action': nan}]"
      ]
     },
     "execution_count": 109,
     "metadata": {},
     "output_type": "execute_result"
    }
   ],
   "source": [
    "data"
   ]
  },
  {
   "cell_type": "code",
   "execution_count": 133,
   "id": "9decc4a4",
   "metadata": {},
   "outputs": [],
   "source": [
    "#@tool\n",
    "def analyze_meeting(meeting: TypedDict) -> str:\n",
    "    \"\"\"Analyzes MoM or Transcript from a meeting and returns a summary.\"\"\"\n",
    "    mom = meeting.get(\"MOMContent\")\n",
    "    print(\"Analyzing meeting:\", mom)"
   ]
  },
  {
   "cell_type": "code",
   "execution_count": 134,
   "id": "59abbdb7",
   "metadata": {},
   "outputs": [
    {
     "name": "stdout",
     "output_type": "stream",
     "text": [
      "Analyzing meeting: None\n"
     ]
    }
   ],
   "source": [
    "analyze_meeting(data[1])"
   ]
  },
  {
   "cell_type": "code",
   "execution_count": 143,
   "id": "9f1d3f0b",
   "metadata": {},
   "outputs": [],
   "source": [
    "def analyze_meeting(meeting: dict) -> str:\n",
    "    \"\"\"Analyzes MoM or Transcript from a meeting and returns a summary.\"\"\"\n",
    "    \n",
    "    # Try to extract the 'MoM' content (Minutes of Meeting)\n",
    "    mom = meeting.get(\"MOM Content\", \"\")\n",
    "    \n",
    "    # Try to extract the 'Transcript' content\n",
    "    transcript = meeting.get(\"Transcript Content\", \"\")\n",
    "\n",
    "    # Decide what content to use: MoM gets priority, else use transcript\n",
    "    if mom:\n",
    "        content = f\"MoM:\\n{mom}\"\n",
    "    elif transcript:\n",
    "        content = f\"Transcript:\\n{transcript}\"\n",
    "    else:\n",
    "        return \"No MoM or Transcript available.\"  # If both are missing, return a message\n",
    "\n",
    "    # Construct a prompt to ask the LLM to summarize and suggest actions\n",
    "    prompt = f\"\"\"\n",
    "    You're an AI assistant for Yaseen Khan, responsible for analyzing meeting content which he was missed during his leave.\n",
    "    Your task is to read the content of the meeting, analyse and recommend actions such as tasks to complete, follow-up meetings to schedule, or status updates to provide\n",
    "\n",
    "    {content}\n",
    "    \"\"\"\n",
    "\n",
    "    # Call the chat model (e.g. OpenAI/Groq) with the prompt\n",
    "    response = openai_model.invoke(prompt)\n",
    "    \n",
    "    # Return the textual response from the model\n",
    "    return response.content"
   ]
  },
  {
   "cell_type": "code",
   "execution_count": 144,
   "id": "7df00096",
   "metadata": {},
   "outputs": [
    {
     "name": "stdout",
     "output_type": "stream",
     "text": [
      "Based on the meeting content, here are my recommendations for Yaseen Khan:\n",
      "\n",
      "1. **Escalate Unresolved Issues to IT Support:**\n",
      "   - Action: Contact the IT support team to discuss any unresolved technical issues related to the product launch. Ensure that these issues are clearly documented and escalate them for quick resolution to avoid any potential delays in the launch.\n",
      "\n",
      "2. **Validate Changes with the QA Team:**\n",
      "   - Action: Coordinate with the QA (Quality Assurance) team to ensure that any recent changes in the product or marketing strategy have been thoroughly reviewed and validated. Schedule a review session if necessary to go over the changes and confirm that they meet quality standards.\n",
      "\n",
      "3. **Update the Project Plan with New Timelines:**\n",
      "   - Action: Review the updated marketing strategies and reflect these changes in the project plan. Adjust timelines as necessary to align with the finalized strategies and ensure all stakeholders are informed of the updated schedule.\n",
      "\n",
      "4. **Follow-up Meetings:**\n",
      "   - Recommend scheduling a follow-up meeting with both the IT support and QA teams to review their progress on the action items. This will help ensure alignment and address any further issues that may arise.\n",
      "\n",
      "5. **Status Updates:**\n",
      "   - Prepare a status update for the team to provide transparency on the progress of these tasks, especially focusing on the resolution of technical issues, validation completion with QA, and updates to the project plan.\n",
      "\n",
      "By addressing these areas, Yaseen can help ensure the product launch proceeds smoothly and is well-coordinated among all teams involved.\n",
      "Based on the meeting summary and action items provided, here are some recommended actions for Yaseen Khan:\n",
      "\n",
      "1. **Review Meeting Summary and Action Items:**\n",
      "   - Catch up on the key points from the meeting, focusing on customer feedback and the identified action items.\n",
      "\n",
      "2. **Complete Assigned Action Item:**\n",
      "   - Directly address your specific action item: Review the audit logs. This is important to ensure compliance and confirm that any changes meet the necessary standards.\n",
      "\n",
      "3. **Coordinate with the Team:**\n",
      "   - Check in with the person responsible for documenting the updated workflow. Ensure it aligns with the feedback and action points discussed in the meeting.\n",
      "   - Confirm that the workflow document has been shared with the team and ascertain whether any additional updates might be needed based on QA validation.\n",
      "\n",
      "4. **Follow up with QA Team:**\n",
      "   - Validate that all changes have been tested and approved by the QA team. This is crucial to maintain product quality and performance. Discuss any additional items identified during validation.\n",
      "\n",
      "5. **Schedule a Follow-up Meeting (if necessary):**\n",
      "   - If there are major concerns or updates from the action items, coordinate with relevant team members to schedule a follow-up meeting.\n",
      "\n",
      "6. **Provide Status Updates:**\n",
      "   - Once you review the audit logs, provide a status update to the team or relevant stakeholders to keep everyone informed of the progress and any findings.\n",
      "\n",
      "7. **Participate in Data Compliance Session:**\n",
      "   - Since there is a scheduled session on data compliance practices, ensure to attend to understand any new guidelines or practices that might affect your work.\n",
      "\n",
      "By addressing these action items and recommendations, you will be able to catch up effectively and ensure that the team's work continues smoothly.\n",
      "Based on the Meeting Minutes (MoM), here are some recommended actions and next steps for Yaseen Khan:\n",
      "\n",
      "1. **Document the Updated Workflow:**\n",
      "   - Action: Ensure that the updated workflow involving the new CRM system is documented clearly.\n",
      "   - Recommendation: Share this documentation with all relevant team members to ensure everyone is aligned and aware of the changes.\n",
      "\n",
      "2. **Validate Changes with the QA Team:**\n",
      "   - Action: Coordinate with the Quality Assurance (QA) team to validate the changes made in the new CRM system.\n",
      "   - Recommendation: Follow up with the QA team to address any issues they might find and ensure that the system is functioning correctly before going live.\n",
      "\n",
      "3. **Prepare a Detailed Analytics Report:**\n",
      "   - Action: Compile a detailed analytics report concerning the CRM system integration.\n",
      "   - Recommendation: Make sure the report includes any metrics, challenges, lessons learned, and improvements identified during the integration process.\n",
      "\n",
      "4. **Review the Report Upon Return:**\n",
      "   - Task for Yaseen Khan: Upon your return, review the detailed analytics report that will be prepared. \n",
      "   - Recommendation: Schedule a review session or meeting to discuss the findings and any potential next steps or strategic adjustments based on the report.\n",
      "\n",
      "5. **Follow-Up Meeting:**\n",
      "   - Recommendation: Consider scheduling a follow-up meeting post-review to discuss any feedback or additional steps that need to be undertaken based on the findings in the report. Ensure Yaseen's feedback is incorporated into any future plans or iterations.\n",
      "\n",
      "6. **Status Updates:**\n",
      "   - Recommendation: Provide regular updates to the team about the status of the CRM integration, especially concerning progress on the action items listed in the meeting. This will help keep everyone informed and align on objectives. \n",
      "\n",
      "Yaseen should prioritize reviewing the analytics report soon after his return to ensure he is up to speed and can provide valuable input based on his insights.\n",
      "It seems that the Minutes of the Meeting (MoM) you provided contains no content (\"nan\" usually indicates missing data). Without any specific details or context from the meeting, it’s challenging to analyze or provide recommendations. Here’s how you can handle this situation:\n",
      "\n",
      "1. **Request the MoM Again**:\n",
      "   - Reach out to the meeting organizer or participants to obtain the complete MoM. There might have been an error in sharing or recording the details.\n",
      "\n",
      "2. **Clarify with Colleagues**:\n",
      "   - Contact colleagues who attended the meeting to gather information about key discussions, decisions made, and any tasks assigned.\n",
      "\n",
      "3. **Review Related Documents**:\n",
      "   - If there were any presentations, documents, or email threads related to the meeting, review those to gain insights into what was discussed.\n",
      "\n",
      "Once you have access to the complete MoM or additional information, here are the actions you could potentially take:\n",
      "\n",
      "- **Identify Key Discussion Points**: Summarize what was discussed and note any decisions made during the meeting.\n",
      "  \n",
      "- **List Action Items**: Identify tasks that have been assigned to you or your team and prioritize them accordingly.\n",
      "  \n",
      "- **Schedule Follow-Up Meetings**: If there are unresolved issues or further discussions needed, propose follow-up meetings with relevant stakeholders.\n",
      "  \n",
      "- **Provide Status Updates**: If there are action items requiring updates to others, prepare and share those updates with appropriate team members or managers.\n",
      "\n",
      "- **Document Learnings**: Note any insights, challenges, or learnings from the meeting that could inform future projects or meetings.\n",
      "\n",
      "Let me know if there’s anything else you need help with!\n",
      "It appears that the meeting minutes (MoM) you provided contain no content (\"nan\" typically stands for \"not a number,\" but in this context, it seems to indicate missing or absent data). To effectively analyze the meeting content and provide useful recommendations, I would need the actual details from the meeting. Once you provide those details, I can help you by summarizing the main points, identifying any actions or tasks to be completed, suggesting follow-up meetings to schedule, and advising on status updates. If there is additional information or context you can provide about the meeting, please do so, and I'll assist you accordingly.\n",
      "Based on the meeting summary and action items provided, here are some recommendations for Yaseen Khan to proceed with:\n",
      "\n",
      "1. **Review Vendor Contract with Legal:**\n",
      "   - **Task:** Yaseen should ensure that the relevant vendor contract is thoroughly reviewed with the legal department. This may involve scheduling a meeting with legal to discuss any potential implications or term modifications needed. \n",
      "   - **Follow-up:** Set a deadline for when the reviewed contract needs to be ready.\n",
      "\n",
      "2. **Send Summary Email to Stakeholders:**\n",
      "   - **Task:** Draft and send out an email summarizing the high-priority issues discussed in the bug triage session. The email should highlight any resolutions, actions taken, and any areas that require stakeholder feedback or decision-making.\n",
      "   - **Follow-up:** Yaseen should consider asking stakeholders for any additional input or updates they may have regarding ongoing issues.\n",
      "\n",
      "3. **Setup a Follow-up Meeting with the Finance Department:**\n",
      "   - **Task:** Coordinate with the finance team to schedule a meeting. This may involve discussing budget allocations related to resolving the prioritized issues and ensuring the necessary financial resources are in place.\n",
      "   - **Follow-up:** Prepare relevant financial data and agenda items ahead of the meeting to ensure it is productive.\n",
      "\n",
      "4. **Status Update:**\n",
      "   - **Update:** Yaseen should provide a status update on the above action items during the next team meeting, ensuring everyone is aligned on progress and next steps.\n",
      "\n",
      "By addressing these action items and maintaining clear communication with all involved parties, Yaseen can effectively manage and drive the resolution of the high-priority issues brought up in the meeting.\n"
     ]
    }
   ],
   "source": [
    "for i in range(1, 7):\n",
    "    print(analyze_meeting(data[i]))"
   ]
  },
  {
   "cell_type": "code",
   "execution_count": 145,
   "id": "83a2bb94",
   "metadata": {},
   "outputs": [],
   "source": [
    "def analyze_meetings_batch(meetings: list[dict]) -> list[str]:\n",
    "    \"\"\"Analyzes multiple meetings and returns summaries for each.\"\"\"\n",
    "    \n",
    "    results = []\n",
    "\n",
    "    for i, meeting in enumerate(meetings, 1):\n",
    "        mom = meeting.get(\"MOM Content\", \"\")\n",
    "        transcript = meeting.get(\"Transcript Content\", \"\")\n",
    "\n",
    "        if mom:\n",
    "            content = f\"MoM:\\n{mom}\"\n",
    "        elif transcript:\n",
    "            content = f\"Transcript:\\n{transcript}\"\n",
    "        else:\n",
    "            results.append(f\"Meeting {i}: No MoM or Transcript available.\")\n",
    "            continue\n",
    "\n",
    "        prompt = f\"\"\"\n",
    "        You're an AI assistant for Yaseen Khan, responsible for analyzing meeting content which he missed during his leave.\n",
    "        Your task is to read the content of the meeting, analyze it, and recommend actions such as tasks to complete, follow-up meetings to schedule, or status updates to provide.\n",
    "\n",
    "        Meeting {i} content:\n",
    "        {content}\n",
    "        \"\"\"\n",
    "\n",
    "        # Call the LLM model\n",
    "        response = openai_model.invoke(prompt)\n",
    "\n",
    "        # Append the result for this meeting\n",
    "        results.append(f\"Meeting {i} Summary:\\n{response.content.strip()}\")\n",
    "\n",
    "    return results\n"
   ]
  },
  {
   "cell_type": "code",
   "execution_count": 150,
   "metadata": {},
   "outputs": [
    {
     "name": "stdout",
     "output_type": "stream",
     "text": [
      "[\"Meeting 1 Summary:\\nBased on the meeting content, here are the recommended actions for Yaseen Khan:\\n\\n1. **Prepare Detailed Analytics Report:**\\n   - Action: Work with the sales and analytics teams to gather data and insights.\\n   - Deadline: Establish a timeline to complete the report, ensuring it aligns with the team's next review meeting.\\n   - Consider assigning specific sections of the report to team members with relevant expertise.\\n\\n2. **Escalate Unresolved Issues to IT Support:**\\n   - Action: Identify the unresolved issues discussed in the meeting.\\n   - Steps: Provide a clear description of each issue, potential impacts, and any troubleshooting attempts made.\\n   - Communication: Contact the IT support team and schedule a meeting or a call to discuss the issues in detail.\\n\\n3. **Arrange a Session on Data Compliance Practices:**\\n   - Action: Organize a training session or workshop focused on data compliance for the team.\\n   - Speaker/Trainer: Find an expert or engage with internal compliance officers who can lead the session.\\n   - Scheduling: Determine a suitable date and time for the session, ensuring maximum team attendance.\\n\\n4. **Follow-Up Meeting:**\\n   - Schedule a follow-up meeting to review progress on these action items.\\n   - Agenda: Include updates on the analytics report, IT issue resolutions, and feedback on the data compliance session.\\n\\n5. **Status Updates:**\\n   - Provide the team with regular updates regarding the progress of these action items, ensuring transparency and accountability.\\n   - Use internal communication channels like emails or team meetings to keep everyone informed.\\n\\nThese actions should help address the points raised during the meeting and promote efficiency and compliance within the team.\", 'Meeting 2 Summary:\\nBased on the content of Meeting 2, here are the recommended actions for Yaseen Khan:\\n\\n### Tasks to Complete:\\n1. **Escalate Unresolved Issues:**\\n   - Identify and compile a list of any unresolved issues that require IT support.\\n   - Communicate these issues to the IT support team for resolution.\\n\\n2. **Validate Changes with the QA Team:**\\n   - Coordinate with the QA team to ensure that all changes made to the product or marketing strategies have been tested and validated.\\n   - Obtain a confirmation report or a validation sign-off from the QA team.\\n\\n3. **Update Project Plan:**\\n   - Reflect the finalized marketing strategies and any newly agreed timelines into the project plan.\\n   - Ensure that the project plan is up-to-date and accurately represents the current status and future outlook of the product launch.\\n\\n### Follow-up Meetings to Schedule:\\n- **Meeting with IT Support:**\\n  - Schedule a meeting with the IT support team to discuss the unresolved issues in detail and to track progress on their resolution.\\n  \\n- **Meeting with the Project Team:**\\n  - Organize a project team meeting to discuss the updated project plan and any potential impacts of the new timelines.\\n  - Ensure that all team members are aligned with the new plan.\\n\\n### Status Updates to Provide:\\n- Prepare a list of changes and updates made during the meeting and share it with relevant stakeholders to keep everyone informed.\\n- Outline the new timelines for the product launch and disseminate this information to the marketing, sales, and project management teams to ensure coordinated efforts across departments. \\n\\nImplementing these actions will help maintain momentum towards the product launch and ensure all project aspects are synchronized with the updated plan.', \"Meeting 3 Summary:\\nBased on the meeting content, here are the recommended actions for Yaseen Khan:\\n\\n1. **Review the Audit Logs**: Since it was noted that Yaseen Khan should review the audit logs upon his return from leave, this should be prioritized. Ensure he has access to the logs and any necessary context or documentation that will help in the review process.\\n\\n2. **Document Workflow**: Follow up with the individual or team responsible for documenting the updated workflow. Ensure they are on track to complete this task and prepare it for sharing with the team. Yaseen may want to review the documentation to understand the updates.\\n\\n3. **Coordinate with QA Team**: If there is a specific person handling the validation with the QA team, check-in to verify that the changes have been validated. It might also be helpful for Yaseen to understand the QA team's findings once the validation is complete.\\n\\n4. **Arrange Data Compliance Session**: Confirm who is responsible for arranging the session on data compliance practices. If this person is not identified, Yaseen could either delegate this or take steps to organize the session, depending on his role in the project.\\n\\n5. **Customer Feedback**: Since customer feedback was analyzed, it may be beneficial for Yaseen to review the feedback summaries if not already documented, to understand any customer concerns or suggestions that arose and how the team plans to address them.\\n\\n6. **Follow-up Meeting**: Suggest scheduling a follow-up meeting to review progress on these action items, especially to discuss any outcomes from Yaseen's audit log review and the session on data compliance.\\n\\n7. **Status Updates**: Regular updates should be provided to the team and any concerned stakeholders about the progress of these action items, especially if there are any roadblocks or immediate actions needed.\\n\\nBy following these steps, Yaseen Khan can ensure that he is up to speed with the meeting outcomes and continues the momentum of addressing the action items discussed.\", 'Meeting 4 Summary:\\nBased on the Meeting Minutes provided for Meeting 4, here are the recommended actions for Yaseen Khan:\\n\\n1. **Review the Detailed Analytics Report**: \\n   - As the Meeting Minutes specifically mention that Yaseen Khan needs to review the analytics report upon return, ensure this task is prioritized. This review might involve checking the accuracy and relevance of the data post-migration.\\n\\n2. **Status Update on CRM Integration Progress**:\\n   - Schedule a meeting with the team to get an update on the CRM system integration and migration timelines to ensure everything is on track as planned.\\n\\n3. **Follow-Up on Workflow Documentation**:\\n   - Check with the team responsible for updating the workflow to ensure that it has been properly documented and shared.\\n\\n4. **QA Validation Report**:\\n   - Confirm whether the changes to the CRM system have been validated by the QA team. If this step hasn’t been completed yet, follow up on its status.\\n\\n5. **Planning Future Meetings**:\\n   - If necessary, arrange a follow-up meeting to discuss any lingering issues or challenges regarding the CRM integration project. Additionally, ensure to discuss findings from the analytics report and plan any further actions required.\\n\\nThese actions should help Yaseen Khan stay aligned with the CRM integration project’s progress and ensure any pending tasks or issues are addressed promptly.', 'Meeting 5 Summary:\\nIt appears that the Minutes of the Meeting (MoM) for Meeting 5 are missing or not documented (\"nan\" typically means \"not a number\" or can signify missing data). Without detailed information about what was discussed, it is challenging to provide precise recommendations. However, here are some general actions Yaseen Khan might consider:\\n\\n1. **Contact the Meeting Organizer:**\\n   - Reach out to the person who organized the meeting to obtain a summary or the actual MoM if available. This will give you a better understanding of what was discussed.\\n\\n2. **Follow Up with Colleagues:**\\n   - Contact colleagues who attended the meeting and ask for a brief overview or any key takeaways they might have noted. \\n\\n3. **Request Documentation:**\\n   - If any documents, presentations, or reports were shared during the meeting, request copies to review.\\n\\n4. **Schedule a Follow-Up Meeting (if necessary):**\\n   - If it’s critical to understand the details of the meeting for ongoing projects or tasks, consider scheduling a brief follow-up meeting if possible.\\n\\n5. **Status Updates:**\\n   - If the meeting was part of a project or regular team meeting, provide any updates you have on your tasks related to that project, and request any required updates from the team afterward.\\n\\n6. **Review Related Communications:**\\n   - Check for any related communications (emails, slack messages, etc.) that might have been sent out after the meeting to summarize key points or action items.\\n\\nOnce you have more information about what was discussed during the meeting, you can then identify specific tasks or action items to complete.']\n"
     ]
    }
   ],
   "source": [
    "df=data[:5]\n",
    "summaries = analyze_meetings_batch(df)\n",
    "print(summaries)\n"
   ]
  },
  {
   "cell_type": "code",
   "execution_count": 151,
   "metadata": {},
   "outputs": [
    {
     "name": "stdout",
     "output_type": "stream",
     "text": [
      "Meeting 1 Summary:\n",
      "Based on the meeting content, here are the recommended actions for Yaseen Khan:\n",
      "\n",
      "1. **Prepare Detailed Analytics Report:**\n",
      "   - Action: Work with the sales and analytics teams to gather data and insights.\n",
      "   - Deadline: Establish a timeline to complete the report, ensuring it aligns with the team's next review meeting.\n",
      "   - Consider assigning specific sections of the report to team members with relevant expertise.\n",
      "\n",
      "2. **Escalate Unresolved Issues to IT Support:**\n",
      "   - Action: Identify the unresolved issues discussed in the meeting.\n",
      "   - Steps: Provide a clear description of each issue, potential impacts, and any troubleshooting attempts made.\n",
      "   - Communication: Contact the IT support team and schedule a meeting or a call to discuss the issues in detail.\n",
      "\n",
      "3. **Arrange a Session on Data Compliance Practices:**\n",
      "   - Action: Organize a training session or workshop focused on data compliance for the team.\n",
      "   - Speaker/Trainer: Find an expert or engage with internal compliance officers who can lead the session.\n",
      "   - Scheduling: Determine a suitable date and time for the session, ensuring maximum team attendance.\n",
      "\n",
      "4. **Follow-Up Meeting:**\n",
      "   - Schedule a follow-up meeting to review progress on these action items.\n",
      "   - Agenda: Include updates on the analytics report, IT issue resolutions, and feedback on the data compliance session.\n",
      "\n",
      "5. **Status Updates:**\n",
      "   - Provide the team with regular updates regarding the progress of these action items, ensuring transparency and accountability.\n",
      "   - Use internal communication channels like emails or team meetings to keep everyone informed.\n",
      "\n",
      "These actions should help address the points raised during the meeting and promote efficiency and compliance within the team.\n",
      "================================================================================\n",
      "Meeting 2 Summary:\n",
      "Based on the content of Meeting 2, here are the recommended actions for Yaseen Khan:\n",
      "\n",
      "### Tasks to Complete:\n",
      "1. **Escalate Unresolved Issues:**\n",
      "   - Identify and compile a list of any unresolved issues that require IT support.\n",
      "   - Communicate these issues to the IT support team for resolution.\n",
      "\n",
      "2. **Validate Changes with the QA Team:**\n",
      "   - Coordinate with the QA team to ensure that all changes made to the product or marketing strategies have been tested and validated.\n",
      "   - Obtain a confirmation report or a validation sign-off from the QA team.\n",
      "\n",
      "3. **Update Project Plan:**\n",
      "   - Reflect the finalized marketing strategies and any newly agreed timelines into the project plan.\n",
      "   - Ensure that the project plan is up-to-date and accurately represents the current status and future outlook of the product launch.\n",
      "\n",
      "### Follow-up Meetings to Schedule:\n",
      "- **Meeting with IT Support:**\n",
      "  - Schedule a meeting with the IT support team to discuss the unresolved issues in detail and to track progress on their resolution.\n",
      "  \n",
      "- **Meeting with the Project Team:**\n",
      "  - Organize a project team meeting to discuss the updated project plan and any potential impacts of the new timelines.\n",
      "  - Ensure that all team members are aligned with the new plan.\n",
      "\n",
      "### Status Updates to Provide:\n",
      "- Prepare a list of changes and updates made during the meeting and share it with relevant stakeholders to keep everyone informed.\n",
      "- Outline the new timelines for the product launch and disseminate this information to the marketing, sales, and project management teams to ensure coordinated efforts across departments. \n",
      "\n",
      "Implementing these actions will help maintain momentum towards the product launch and ensure all project aspects are synchronized with the updated plan.\n",
      "================================================================================\n",
      "Meeting 3 Summary:\n",
      "Based on the meeting content, here are the recommended actions for Yaseen Khan:\n",
      "\n",
      "1. **Review the Audit Logs**: Since it was noted that Yaseen Khan should review the audit logs upon his return from leave, this should be prioritized. Ensure he has access to the logs and any necessary context or documentation that will help in the review process.\n",
      "\n",
      "2. **Document Workflow**: Follow up with the individual or team responsible for documenting the updated workflow. Ensure they are on track to complete this task and prepare it for sharing with the team. Yaseen may want to review the documentation to understand the updates.\n",
      "\n",
      "3. **Coordinate with QA Team**: If there is a specific person handling the validation with the QA team, check-in to verify that the changes have been validated. It might also be helpful for Yaseen to understand the QA team's findings once the validation is complete.\n",
      "\n",
      "4. **Arrange Data Compliance Session**: Confirm who is responsible for arranging the session on data compliance practices. If this person is not identified, Yaseen could either delegate this or take steps to organize the session, depending on his role in the project.\n",
      "\n",
      "5. **Customer Feedback**: Since customer feedback was analyzed, it may be beneficial for Yaseen to review the feedback summaries if not already documented, to understand any customer concerns or suggestions that arose and how the team plans to address them.\n",
      "\n",
      "6. **Follow-up Meeting**: Suggest scheduling a follow-up meeting to review progress on these action items, especially to discuss any outcomes from Yaseen's audit log review and the session on data compliance.\n",
      "\n",
      "7. **Status Updates**: Regular updates should be provided to the team and any concerned stakeholders about the progress of these action items, especially if there are any roadblocks or immediate actions needed.\n",
      "\n",
      "By following these steps, Yaseen Khan can ensure that he is up to speed with the meeting outcomes and continues the momentum of addressing the action items discussed.\n",
      "================================================================================\n",
      "Meeting 4 Summary:\n",
      "Based on the Meeting Minutes provided for Meeting 4, here are the recommended actions for Yaseen Khan:\n",
      "\n",
      "1. **Review the Detailed Analytics Report**: \n",
      "   - As the Meeting Minutes specifically mention that Yaseen Khan needs to review the analytics report upon return, ensure this task is prioritized. This review might involve checking the accuracy and relevance of the data post-migration.\n",
      "\n",
      "2. **Status Update on CRM Integration Progress**:\n",
      "   - Schedule a meeting with the team to get an update on the CRM system integration and migration timelines to ensure everything is on track as planned.\n",
      "\n",
      "3. **Follow-Up on Workflow Documentation**:\n",
      "   - Check with the team responsible for updating the workflow to ensure that it has been properly documented and shared.\n",
      "\n",
      "4. **QA Validation Report**:\n",
      "   - Confirm whether the changes to the CRM system have been validated by the QA team. If this step hasn’t been completed yet, follow up on its status.\n",
      "\n",
      "5. **Planning Future Meetings**:\n",
      "   - If necessary, arrange a follow-up meeting to discuss any lingering issues or challenges regarding the CRM integration project. Additionally, ensure to discuss findings from the analytics report and plan any further actions required.\n",
      "\n",
      "These actions should help Yaseen Khan stay aligned with the CRM integration project’s progress and ensure any pending tasks or issues are addressed promptly.\n",
      "================================================================================\n",
      "Meeting 5 Summary:\n",
      "It appears that the Minutes of the Meeting (MoM) for Meeting 5 are missing or not documented (\"nan\" typically means \"not a number\" or can signify missing data). Without detailed information about what was discussed, it is challenging to provide precise recommendations. However, here are some general actions Yaseen Khan might consider:\n",
      "\n",
      "1. **Contact the Meeting Organizer:**\n",
      "   - Reach out to the person who organized the meeting to obtain a summary or the actual MoM if available. This will give you a better understanding of what was discussed.\n",
      "\n",
      "2. **Follow Up with Colleagues:**\n",
      "   - Contact colleagues who attended the meeting and ask for a brief overview or any key takeaways they might have noted. \n",
      "\n",
      "3. **Request Documentation:**\n",
      "   - If any documents, presentations, or reports were shared during the meeting, request copies to review.\n",
      "\n",
      "4. **Schedule a Follow-Up Meeting (if necessary):**\n",
      "   - If it’s critical to understand the details of the meeting for ongoing projects or tasks, consider scheduling a brief follow-up meeting if possible.\n",
      "\n",
      "5. **Status Updates:**\n",
      "   - If the meeting was part of a project or regular team meeting, provide any updates you have on your tasks related to that project, and request any required updates from the team afterward.\n",
      "\n",
      "6. **Review Related Communications:**\n",
      "   - Check for any related communications (emails, slack messages, etc.) that might have been sent out after the meeting to summarize key points or action items.\n",
      "\n",
      "Once you have more information about what was discussed during the meeting, you can then identify specific tasks or action items to complete.\n",
      "================================================================================\n"
     ]
    }
   ],
   "source": [
    "for summary in summaries:\n",
    "    print(summary)\n",
    "    print(\"=\" * 80)"
   ]
  },
  {
   "cell_type": "code",
   "execution_count": 153,
   "id": "bd145527",
   "metadata": {},
   "outputs": [],
   "source": [
    "class AgentState(TypedDict):\n",
    "    meetings: list[dict]  # <- This will store the output of load_meeting_data"
   ]
  },
  {
   "cell_type": "code",
   "execution_count": 1,
   "metadata": {},
   "outputs": [
    {
     "ename": "NameError",
     "evalue": "name 'AgentState' is not defined",
     "output_type": "error",
     "traceback": [
      "\u001b[31m---------------------------------------------------------------------------\u001b[39m",
      "\u001b[31mNameError\u001b[39m                                 Traceback (most recent call last)",
      "\u001b[36mCell\u001b[39m\u001b[36m \u001b[39m\u001b[32mIn[1]\u001b[39m\u001b[32m, line 1\u001b[39m\n\u001b[32m----> \u001b[39m\u001b[32m1\u001b[39m \u001b[38;5;28;01mdef\u001b[39;00m\u001b[38;5;250m \u001b[39m\u001b[34manalyze_meetings_batch\u001b[39m(state: \u001b[43mAgentState\u001b[49m) -> \u001b[38;5;28mdict\u001b[39m:\n\u001b[32m      2\u001b[39m \u001b[38;5;250m    \u001b[39m\u001b[33;03m\"\"\"Analyzes multiple meetings and returns summaries for each.\"\"\"\u001b[39;00m\n\u001b[32m      3\u001b[39m     meetings = state.get(\u001b[33m\"\u001b[39m\u001b[33mmeetings\u001b[39m\u001b[33m\"\u001b[39m, [])\n",
      "\u001b[31mNameError\u001b[39m: name 'AgentState' is not defined"
     ]
    }
   ],
   "source": [
    "def analyze_meetings_batch(state: AgentState) -> dict:\n",
    "    \"\"\"Analyzes multiple meetings and returns summaries for each.\"\"\"\n",
    "    meetings = state.get(\"meetings\", [])\n",
    "    results = []\n",
    "\n",
    "    for i, meeting in enumerate(meetings, 1):\n",
    "        print(f\"Analyzing meeting {i}...\")\n",
    "        mom = meeting.get(\"MOM Content\", \"\")\n",
    "        transcript = meeting.get(\"Transcript Content\", \"\")\n",
    "\n",
    "        if mom:\n",
    "            content = f\"MoM:\\n{mom}\"\n",
    "        elif transcript:\n",
    "            content = f\"Transcript:\\n{transcript}\"\n",
    "        else:\n",
    "            results.append(f\"Meeting {i}: No MoM or Transcript available.\")\n",
    "            continue\n",
    "\n",
    "        prompt = f\"\"\"\n",
    "        You're an AI assistant of User, responsible for analyzing meeting content which he missed during his leave.\n",
    "        Your task is to read the content of the meeting, analyze it, and recommend actions such as tasks to complete, follow-up meetings to schedule, or status updates to provide.\n",
    "\n",
    "        Meeting {i} content:\n",
    "        {content}\n",
    "        \"\"\"\n",
    "        response = openai_model.invoke(prompt)\n",
    "        results.append(f\"Meeting {i} Summary:\\n{response.content.strip()}\")\n",
    "\n",
    "    return {\"analysis\": results}\n"
   ]
  },
  {
   "cell_type": "code",
   "execution_count": 155,
   "metadata": {},
   "outputs": [
    {
     "name": "stdout",
     "output_type": "stream",
     "text": [
      "{'analysis': [\"Meeting 1 Summary:\\nBased on the content of Meeting 1, here’s a breakdown of recommended actions:\\n\\n1. **Action Items to Complete**:\\n   - **Prepare Detailed Analytics Report**: You or a designated team member should work on compiling and analyzing sales data from the past quarter. This report should highlight key performance metrics, trends, and areas where targets were met or missed. It should also include recommendations for improvement.\\n   \\n   - **Escalate Unresolved Issues to IT Support**: Identify any technical issues that have been impacting sales performance or data analysis and communicate these to IT support. Ensure there is a clear description of the problem, its impact, and any attempted resolutions.\\n\\n   - **Arrange a Session on Data Compliance Practices**: Organize a training or informational session focused on data compliance. This could involve inviting an expert in data privacy and security to speak, or it could be an internal workshop where compliance requirements and best practices are reviewed. Coordinate with relevant team members to determine the best format and timing for this session.\\n\\n2. **Follow-up Meetings to Schedule**:\\n   - Consider scheduling a follow-up meeting to discuss the completed analytics report. This will allow the team to review findings, address any further questions, and decide on strategies to improve sales performance.\\n   \\n   - Arrange a check-in meeting with IT support to ensure that escalated issues are being addressed in a timely manner and to discuss any additional support needed.\\n\\n3. **Status Updates to Provide**:\\n   - Provide regular updates on the progress of the analytics report and any preliminary findings.\\n   \\n   - Update on the status of escalated IT issues, including any resolutions or ongoing complications.\\n   \\n   - Share information on the planned data compliance session with team members, including date, time, and content to be covered. Ensure everyone is aware of the importance and benefits of participating in this session.\\n\\nAlign these actions with your team's objectives and timelines for effective follow-up.\", \"Meeting 2 Summary:\\nBased on the summary and action items from Meeting 2 regarding the upcoming product launch, here are some recommended actions for you:\\n\\n1. **Escalate Unresolved Issues to IT Support:**\\n   - Identify any outstanding technical issues related to the product launch.\\n   - Compile a list of these issues and reach out to the IT support team to escalate them. Ensure you provide all necessary details to facilitate a prompt resolution.\\n   - Follow up with the IT team regularly to ensure that these issues are being addressed.\\n\\n2. **Validate Changes with the QA Team:**\\n   - Arrange a meeting or check-in with the QA team to discuss the changes made.\\n   - Ensure that the QA team is aware of any new updates and timelines for testing.\\n   - Request feedback or confirmation from the QA team that the changes have been successfully validated.\\n\\n3. **Update the Project Plan with New Timelines:**\\n   - Review the new timelines that were discussed and finalized during the meeting.\\n   - Update the project plan to reflect these changes, ensuring all stakeholders are aware of the revised deadlines.\\n   - Communicate any significant changes to the broader team, especially those that may impact their work schedules.\\n\\n4. **Schedule a Follow-Up Meeting:**\\n   - Consider scheduling a follow-up meeting with the relevant stakeholders to discuss progress on the action items.\\n   - Use this meeting to gather status updates on IT support issues, QA validation, and the revised project plan.\\n\\n5. **Provide Status Updates:**\\n   - Prepare and distribute a status update email or report to keep all team members informed about the progress being made on these action items.\\n   - Highlight any completed tasks, ongoing issues, and next steps.\\n\\nBy addressing these action items, you will ensure alignment with the team's goals and contribute to the successful execution of the upcoming product launch.\", \"Meeting 3 Summary:\\nBased on the content of Meeting 3, here are the recommended actions for User:\\n\\n1. **Review the Documented Workflow:**\\n   - Once the updated workflow document is shared, review it to ensure you are aligned with the new processes. This will help in understanding any changes that were identified from the customer feedback.\\n\\n2. **Coordinate with the QA Team:**\\n   - Work with the QA team to validate the changes. Ensure that the team is set up for success by addressing any immediate questions or concerns they might have about the updates.\\n\\n3. **Attend or Organize a Compliance Session:**\\n   - Either attend the arranged session on data compliance practices or, if not scheduled yet, help ensure it is set up. Understanding compliance requirements is crucial, especially if new practices are introduced.\\n\\n4. **Review Audit Logs:**\\n   - Make it a priority to review the audit logs after you return from leave. This task was specifically assigned to Yaseen Khan, but staying informed on these reviews can be beneficial if the logs impact your work area.\\n\\n5. **Status Updates:**\\n   - Provide a status update or check in with the team once the actions are completed. Confirm any changes or next steps required.\\n\\n6. **Schedule a Follow-up Meeting:**\\n   - Consider arranging a follow-up meeting with relevant stakeholders and teams to discuss the implementation of the new workflows and any ongoing challenges or further feedback from stakeholders. \\n\\nThese actions should help ensure that you're up to speed with current developments and contribute effectively to the ongoing projects.\", 'Meeting 4 Summary:\\nBased on the meeting summary and action items, here are the recommended actions:\\n\\n1. **Document the Updated Workflow**: \\n   - Ensure someone on the team is responsible for documenting the updated workflow resulting from the new CRM system integration. This document should then be shared with all relevant team members.\\n\\n2. **Validate Changes with the QA Team**: \\n   - Schedule a meeting or set up a session where the changes can be validated by the QA team. This step is crucial to ensure there are no issues with the new CRM system post-integration.\\n\\n3. **Prepare Detailed Analytics Report**: \\n   - Assign a team member to prepare a detailed analytics report concerning the new CRM system. This report should include data on system performance, user adoption, and any other relevant metrics.\\n\\n4. **Assign Report Review to Yaseen Khan**: \\n   - Make sure that once Yaseen Khan returns from leave, he is promptly notified and scheduled to review the prepared analytics report. It might be helpful to send an email reminder or update to him about this task.\\n\\n5. **Schedule Follow-up Meeting**: \\n   - Consider scheduling a follow-up meeting to discuss any issues that arise during validation, report findings, and overall CRM system performance. This meeting should ideally include all relevant stakeholders, including Yaseen Khan, post his review of the report.\\n\\n6. **Status Updates**: \\n   - Regular updates via email or within the team’s project management tools about the progress on each action item would keep everyone informed and aligned on the current status and any forthcoming steps.\\n\\n7. **Coordination and Communication**: \\n   - Ensure clear communication channels are utilized and all team members are kept in the loop regarding progress and any immediate concerns about the integration.\\n\\nThese actions will help in efficiently managing the integration process and ensure that all team members are updated and tasks are on track.', \"Meeting 5 Summary:\\nIt seems that the Minutes of Meeting (MoM) for Meeting 5 are not available or provided in the document you have. Without specific details of the discussion points or decisions made during the meeting, it's challenging to give precise recommendations. However, here are some general steps you can take to catch up and ensure you're aligned with the outcomes and next steps:\\n\\n1. **Request MoM or Summary:**\\n   - Reach out to the meeting organizer or a colleague who attended the meeting to request detailed Minutes of the Meeting (MoM) or a summary of the discussion points and decisions made.\\n   \\n2. **Connect with Attendees:**\\n   - Connect with key attendees or your team members who were present at the meeting to get their insights and thoughts about important topics covered.\\n   \\n3. **Access Meeting Recording:**\\n   - If the meeting was recorded, ask for access to the recording so you can listen to the conversation and gather the necessary information.\\n\\n4. **Identify Action Items:**\\n   - Once you have the MoM or insights, identify any action items that have been assigned to you and incorporate them into your work plan.\\n\\n5. **Schedule Follow-up:**\\n   - If any decisions impact your work or project, consider scheduling a follow-up meeting with relevant stakeholders to discuss your role and responsibilities stemming from the meeting discussions.\\n\\n6. **Status Update:**\\n   - If there are any project developments or updates related to the meeting, prepare a status update to share with your team or management.\\n\\n7. **Adjust Priorities:**\\n   - Based on the new information and any action items from the meeting, adjust your priorities and to-do list accordingly.\\n\\nOnce you have access to more detailed content from the meeting, more specific recommendations can be made.\"]}\n"
     ]
    }
   ],
   "source": [
    "df=data[:5]\n",
    "summaries = analyze_meetings_batch({\"meetings\": df})\n",
    "print(summaries)"
   ]
  },
  {
   "cell_type": "code",
   "execution_count": null,
   "metadata": {},
   "outputs": [],
   "source": []
  },
  {
   "cell_type": "code",
   "execution_count": 51,
   "id": "91e03f3a",
   "metadata": {},
   "outputs": [],
   "source": [
    "#Defing the tool name as below\n",
    "tools=[load_meeting_data]"
   ]
  },
  {
   "cell_type": "code",
   "execution_count": 52,
   "id": "6837e273",
   "metadata": {},
   "outputs": [],
   "source": [
    "#We are binding the tool\n",
    "llm_with_tool=openai_model.bind_tools(tools)"
   ]
  },
  {
   "cell_type": "code",
   "execution_count": 86,
   "id": "99d5c302",
   "metadata": {},
   "outputs": [
    {
     "data": {
      "text/plain": [
       "AIMessage(content='Hello Yaseen Khan! How can I assist you today?', additional_kwargs={'refusal': None}, response_metadata={'token_usage': {'completion_tokens': 14, 'prompt_tokens': 57, 'total_tokens': 71, 'completion_tokens_details': {'accepted_prediction_tokens': 0, 'audio_tokens': 0, 'reasoning_tokens': 0, 'rejected_prediction_tokens': 0}, 'prompt_tokens_details': {'audio_tokens': 0, 'cached_tokens': 0}}, 'model_name': 'gpt-4o-2024-08-06', 'system_fingerprint': 'fp_76544d79cb', 'id': 'chatcmpl-Bc8eQxdpUsaVgV2iHSQpWTDsSNSGt', 'service_tier': 'default', 'finish_reason': 'stop', 'logprobs': None}, id='run--2c65e627-c3a2-4ad7-aeed-ecea98f4cdaa-0', usage_metadata={'input_tokens': 57, 'output_tokens': 14, 'total_tokens': 71, 'input_token_details': {'audio': 0, 'cache_read': 0}, 'output_token_details': {'audio': 0, 'reasoning': 0}})"
      ]
     },
     "execution_count": 86,
     "metadata": {},
     "output_type": "execute_result"
    }
   ],
   "source": [
    "response=llm_with_tool.invoke(\"My Name is Yaseen Khan\")\n",
    "response"
   ]
  },
  {
   "cell_type": "code",
   "execution_count": 81,
   "id": "bca40876",
   "metadata": {},
   "outputs": [
    {
     "data": {
      "text/plain": [
       "AIMessage(content='', additional_kwargs={'tool_calls': [{'id': 'call_wL4IyUNpBy5hUDQNOAJCsyy0', 'function': {'arguments': '{}', 'name': 'load_meeting_data'}, 'type': 'function'}], 'refusal': None}, response_metadata={'token_usage': {'completion_tokens': 12, 'prompt_tokens': 57, 'total_tokens': 69, 'completion_tokens_details': {'accepted_prediction_tokens': 0, 'audio_tokens': 0, 'reasoning_tokens': 0, 'rejected_prediction_tokens': 0}, 'prompt_tokens_details': {'audio_tokens': 0, 'cached_tokens': 0}}, 'model_name': 'gpt-4o-2024-08-06', 'system_fingerprint': 'fp_76544d79cb', 'id': 'chatcmpl-BbvdZ1nUUGWstEdNUnPt1LxAARn8n', 'service_tier': 'default', 'finish_reason': 'tool_calls', 'logprobs': None}, id='run--8c164a00-e314-4029-8b5d-d7ae4a14d3aa-0', tool_calls=[{'name': 'load_meeting_data', 'args': {}, 'id': 'call_wL4IyUNpBy5hUDQNOAJCsyy0', 'type': 'tool_call'}], usage_metadata={'input_tokens': 57, 'output_tokens': 12, 'total_tokens': 69, 'input_token_details': {'audio': 0, 'cache_read': 0}, 'output_token_details': {'audio': 0, 'reasoning': 0}})"
      ]
     },
     "execution_count": 81,
     "metadata": {},
     "output_type": "execute_result"
    }
   ],
   "source": [
    "response=llm_with_tool.invoke(\"can you load the meeting data?\")\n",
    "response"
   ]
  },
  {
   "cell_type": "code",
   "execution_count": 60,
   "id": "54e3fe21",
   "metadata": {},
   "outputs": [],
   "source": [
    "#Defining the supervisor node as our llm\n",
    "def call_model(state:MessagesState):\n",
    "    question=state[\"messages\"]\n",
    "    response=llm_with_tool.invoke(question)  #instead of invoking the normal llm , we are using the binding llm which is binded to a tool\n",
    "    return {\"messages\":[response]}"
   ]
  },
  {
   "cell_type": "code",
   "execution_count": 69,
   "id": "39da4778",
   "metadata": {},
   "outputs": [
    {
     "data": {
      "text/plain": [
       "AIMessage(content='', additional_kwargs={'tool_calls': [{'id': 'call_4gWX83B49WVFQcBrcHt3Y1ra', 'function': {'arguments': '{}', 'name': 'load_meeting_data'}, 'type': 'function'}], 'refusal': None}, response_metadata={'token_usage': {'completion_tokens': 12, 'prompt_tokens': 54, 'total_tokens': 66, 'completion_tokens_details': {'accepted_prediction_tokens': 0, 'audio_tokens': 0, 'reasoning_tokens': 0, 'rejected_prediction_tokens': 0}, 'prompt_tokens_details': {'audio_tokens': 0, 'cached_tokens': 0}}, 'model_name': 'gpt-4o-2024-08-06', 'system_fingerprint': 'fp_76544d79cb', 'id': 'chatcmpl-BbvZQJiBTmVIIhKhmbuRpHeP22KfS', 'service_tier': 'default', 'finish_reason': 'tool_calls', 'logprobs': None}, id='run--aa2e85c2-215d-43e9-9fd6-77413702bab5-0', tool_calls=[{'name': 'load_meeting_data', 'args': {}, 'id': 'call_4gWX83B49WVFQcBrcHt3Y1ra', 'type': 'tool_call'}], usage_metadata={'input_tokens': 54, 'output_tokens': 12, 'total_tokens': 66, 'input_token_details': {'audio': 0, 'cache_read': 0}, 'output_token_details': {'audio': 0, 'reasoning': 0}})"
      ]
     },
     "execution_count": 69,
     "metadata": {},
     "output_type": "execute_result"
    }
   ],
   "source": [
    "#lets ask a simpe query\n",
    "input={'messages': ['load the outlook data']}  #quer\n",
    "response=call_model(input)  #call the function with query and store the resul in response variable\n",
    "message=response[\"messages\"]  #Take only messages from response\n",
    "last_message=message[-1]  #Take the last message from all the messages\n",
    "last_message"
   ]
  },
  {
   "cell_type": "code",
   "execution_count": 61,
   "id": "5ab70eec",
   "metadata": {},
   "outputs": [
    {
     "data": {
      "text/plain": [
       "[<function __main__.load_meeting_data() -> List[TypedDict]>]"
      ]
     },
     "execution_count": 61,
     "metadata": {},
     "output_type": "execute_result"
    }
   ],
   "source": [
    "tools"
   ]
  },
  {
   "cell_type": "code",
   "execution_count": 62,
   "id": "9a192411",
   "metadata": {},
   "outputs": [],
   "source": [
    "#Note: we have to create this tool as node for orchaestration pupose\n",
    "# for this tool to consume it as node inside our workflow, we have use this method below\n",
    "tool_node=ToolNode(tools)\n",
    "\n",
    "#now this \"tool_node\" variable is the node of our tool which can be used in orchaestrtion"
   ]
  },
  {
   "cell_type": "code",
   "execution_count": 63,
   "id": "4a6bdd5d",
   "metadata": {},
   "outputs": [],
   "source": [
    "#Lets define a router and orchaestrate the workflow\n",
    "def router_function(state: MessagesState):\n",
    "    message=state[\"messages\"]\n",
    "    last_message=message[-1]\n",
    "    if last_message.tool_calls:\n",
    "        return \"tools\"\n",
    "    return END"
   ]
  },
  {
   "cell_type": "code",
   "execution_count": 70,
   "id": "76b4d2e1",
   "metadata": {},
   "outputs": [],
   "source": [
    "#Lets create the workflow with this router\n",
    "workflow=StateGraph(MessagesState)"
   ]
  },
  {
   "cell_type": "code",
   "execution_count": 71,
   "id": "7ab4c523",
   "metadata": {},
   "outputs": [
    {
     "data": {
      "text/plain": [
       "<langgraph.graph.state.StateGraph at 0x22b8fc70e90>"
      ]
     },
     "execution_count": 71,
     "metadata": {},
     "output_type": "execute_result"
    }
   ],
   "source": [
    "#create the nodes\n",
    "workflow.add_node(\"assistant\",call_model)\n",
    "workflow.add_node(\"loadoutlook_data\",tool_node)  #Consuming tool as node"
   ]
  },
  {
   "cell_type": "code",
   "execution_count": null,
   "id": "24c4d1e5",
   "metadata": {},
   "outputs": [
    {
     "data": {
      "text/plain": [
       "<langgraph.graph.state.StateGraph at 0x22b8fc70e90>"
      ]
     },
     "execution_count": 72,
     "metadata": {},
     "output_type": "execute_result"
    }
   ],
   "source": [
    "#Define the endges (conditional edges )\n",
    "workflow.add_edge(START, \"assistant\")\n",
    "\n",
    "workflow.add_conditional_edges(\"assistant\",\n",
    "                               router_function,\n",
    "                               {\"tools\": \"loadoutlook_data\", END: END})\n"
   ]
  },
  {
   "cell_type": "code",
   "execution_count": 84,
   "id": "22c97ecd",
   "metadata": {},
   "outputs": [],
   "source": [
    "#Lets compile\n",
    "app = workflow.compile()"
   ]
  },
  {
   "cell_type": "code",
   "execution_count": 85,
   "id": "03777e77",
   "metadata": {},
   "outputs": [
    {
     "data": {
      "image/png": "[encoded data removed]",
      "text/plain": [
       "<IPython.core.display.Image object>"
      ]
     },
     "metadata": {},
     "output_type": "display_data"
    }
   ],
   "source": [
    "#Lets visualize the graph\n",
    "from IPython.display import Image,display\n",
    "display(Image(app.get_graph().draw_mermaid_png()))"
   ]
  },
  {
   "cell_type": "code",
   "execution_count": 87,
   "id": "bad86a06",
   "metadata": {},
   "outputs": [
    {
     "data": {
      "text/plain": [
       "{'messages': [HumanMessage(content='Hi, My Name is Yaseen Khan', additional_kwargs={}, response_metadata={}, id='3ed6f62f-dd28-46b5-88ac-c0daff0b9199'),\n",
       "  AIMessage(content='Hello, Yaseen Khan! How can I assist you today?', additional_kwargs={'refusal': None}, response_metadata={'token_usage': {'completion_tokens': 15, 'prompt_tokens': 59, 'total_tokens': 74, 'completion_tokens_details': {'accepted_prediction_tokens': 0, 'audio_tokens': 0, 'reasoning_tokens': 0, 'rejected_prediction_tokens': 0}, 'prompt_tokens_details': {'audio_tokens': 0, 'cached_tokens': 0}}, 'model_name': 'gpt-4o-2024-08-06', 'system_fingerprint': 'fp_76544d79cb', 'id': 'chatcmpl-Bc8ik3a06cHSNGS2J3YADmz4YKBJI', 'service_tier': 'default', 'finish_reason': 'stop', 'logprobs': None}, id='run--c1355910-7880-40db-85c8-3b9b9a502607-0', usage_metadata={'input_tokens': 59, 'output_tokens': 15, 'total_tokens': 74, 'input_token_details': {'audio': 0, 'cache_read': 0}, 'output_token_details': {'audio': 0, 'reasoning': 0}})]}"
      ]
     },
     "execution_count": 87,
     "metadata": {},
     "output_type": "execute_result"
    }
   ],
   "source": [
    "#Now lets invoke this app\n",
    "\n",
    "#invoking with a simple message\n",
    "response=app.invoke({\"messages\": [\"Hi, My Name is Yaseen Khan\"]})\n",
    "response\n",
    "\n",
    "#Here we are getting the AI message from LLM (assistant) directly as this is simple query"
   ]
  },
  {
   "cell_type": "code",
   "execution_count": 79,
   "id": "370f236f",
   "metadata": {},
   "outputs": [
    {
     "data": {
      "text/plain": [
       "{'messages': [HumanMessage(content='please load the meeting data', additional_kwargs={}, response_metadata={}, id='56afda14-ef87-4a2f-87a6-0507063064f0'),\n",
       "  AIMessage(content='', additional_kwargs={'tool_calls': [{'id': 'call_Wbunh3OndsXPaxG3KThYYXLa', 'function': {'arguments': '{}', 'name': 'load_meeting_data'}, 'type': 'function'}], 'refusal': None}, response_metadata={'token_usage': {'completion_tokens': 12, 'prompt_tokens': 55, 'total_tokens': 67, 'completion_tokens_details': {'accepted_prediction_tokens': 0, 'audio_tokens': 0, 'reasoning_tokens': 0, 'rejected_prediction_tokens': 0}, 'prompt_tokens_details': {'audio_tokens': 0, 'cached_tokens': 0}}, 'model_name': 'gpt-4o-2024-08-06', 'system_fingerprint': 'fp_76544d79cb', 'id': 'chatcmpl-BbvcoxrfVvpK5mg9ac07I4vMKFh1g', 'service_tier': 'default', 'finish_reason': 'tool_calls', 'logprobs': None}, id='run--f75fc3c7-892d-4231-a0f1-2e1a60d99c9e-0', tool_calls=[{'name': 'load_meeting_data', 'args': {}, 'id': 'call_Wbunh3OndsXPaxG3KThYYXLa', 'type': 'tool_call'}], usage_metadata={'input_tokens': 55, 'output_tokens': 12, 'total_tokens': 67, 'input_token_details': {'audio': 0, 'cache_read': 0}, 'output_token_details': {'audio': 0, 'reasoning': 0}}),\n",
       "  ToolMessage(content='[{\"Meeting ID\": \"MTG0001\", \"Title\": \"Whiteboard Web-Enabled Roi\", \"Date & Time\": \"4/27/2025 12:00\", \"Duration (mins)\": 15, \"Attendees\": \"Yaseen Khan, Lauren Raymond, James Mccoy, Mrs. Amanda Barron, Kelsey Clayton, Jose Parker, Sarah Hall\", \"Organizer\": \"Tim Brown\", \"Location/Link\": \"Microsoft Teams\", \"Meeting Type\": \"Retrospective\", \"Missed by User\": true, \"Has MOM\": true, \"Has Transcript\": false, \"MOM Content\": \"Meeting Summary:\\\\nThe team reviewed the quarterly sales performance and discussed areas for improvement.\\\\n\\\\nAction Items:\\\\n- Prepare detailed analytics report.\\\\n- Escalate unresolved issues to the IT support.\\\\n- Arrange a session on data compliance practices.\", \"Transcript Content\": NaN, \"Recommended Action\": NaN}, {\"Meeting ID\": \"MTG0002\", \"Title\": \"Deliver Frictionless E-Markets\", \"Date & Time\": \"4/29/2025 15:00\", \"Duration (mins)\": 30, \"Attendees\": \"Yaseen Khan, April Hancock, Meghan Mckinney, Ricardo Cole\", \"Organizer\": \"George Hawkins\", \"Location/Link\": \"Zoom\", \"Meeting Type\": \"Team Sync\", \"Missed by User\": true, \"Has MOM\": true, \"Has Transcript\": false, \"MOM Content\": \"Meeting Summary:\\\\nMarketing strategies for the upcoming product launch were finalized.\\\\n\\\\nAction Items:\\\\n- Escalate unresolved issues to the IT support.\\\\n- Validate changes with the QA team.\\\\n- Update the project plan with new timelines.\", \"Transcript Content\": NaN, \"Recommended Action\": NaN}, {\"Meeting ID\": \"MTG0003\", \"Title\": \"Envisioneer Front-End Supply-Chains\", \"Date & Time\": \"5/1/2025 14:30\", \"Duration (mins)\": 60, \"Attendees\": \"Yaseen Khan, Michelle Elliott, Eric Phelps, Elizabeth Burton, Nicholas Martinez\", \"Organizer\": \"Sheryl Miller\", \"Location/Link\": \"Conference Room A\", \"Meeting Type\": \"Client Meeting\", \"Missed by User\": true, \"Has MOM\": true, \"Has Transcript\": false, \"MOM Content\": \"Meeting Summary:\\\\nCustomer feedback from the last sprint demo was analyzed and action points were identified.\\\\n\\\\nAction Items:\\\\n- Document the updated workflow and share with the team.\\\\n- Validate changes with the QA team.\\\\n- Arrange a session on data compliance practices.\\\\n- Yaseen Khan to review the audit logs upon return from leave.\", \"Transcript Content\": NaN, \"Recommended Action\": NaN}, {\"Meeting ID\": \"MTG0004\", \"Title\": \"Synthesize Compelling Synergies\", \"Date & Time\": \"5/2/2025 14:15\", \"Duration (mins)\": 45, \"Attendees\": \"Yaseen Khan, Dr. Gary Mueller, Andrew Wright, Albert Stokes, Vanessa Rivera, Michael Tucker, James Moore\", \"Organizer\": \"Kelly Ford\", \"Location/Link\": \"Microsoft Teams\", \"Meeting Type\": \"Project Kickoff\", \"Missed by User\": true, \"Has MOM\": true, \"Has Transcript\": false, \"MOM Content\": \"Meeting Summary:\\\\nThe integration of the new CRM system was discussed along with migration timelines.\\\\n\\\\nAction Items:\\\\n- Document the updated workflow and share with the team.\\\\n- Validate changes with the QA team.\\\\n- Prepare detailed analytics report.\\\\n- Yaseen Khan to review the report upon return from leave.\", \"Transcript Content\": NaN, \"Recommended Action\": NaN}, {\"Meeting ID\": \"MTG0005\", \"Title\": \"Iterate Interactive E-Business\", \"Date & Time\": \"5/2/2025 16:15\", \"Duration (mins)\": 45, \"Attendees\": \"Yaseen Khan, Charles Perry, Vincent Aguirre, Scott Pace, Kelsey Martin, Lisa Fleming\", \"Organizer\": \"Melissa Patterson\", \"Location/Link\": \"Microsoft Teams\", \"Meeting Type\": \"Retrospective\", \"Missed by User\": true, \"Has MOM\": false, \"Has Transcript\": true, \"MOM Content\": NaN, \"Transcript Content\": \"Transcript Highlights:\\\\nSophia: The last demo went well, but there\\'s room for improvement.\\\\n...\\\\n\\\\nDecisions Made:\\\\n- Adjust sprint scope to match velocity metrics.\", \"Recommended Action\": NaN}, {\"Meeting ID\": \"MTG0006\", \"Title\": \"Disintermediate Visionary Systems\", \"Date & Time\": \"5/5/2025 9:30\", \"Duration (mins)\": 60, \"Attendees\": \"Yaseen Khan, Michael Garrison, Amy Moon, Dorothy Howell, Melody Cervantes\", \"Organizer\": \"Sandra Snyder\", \"Location/Link\": \"Board Room\", \"Meeting Type\": \"Project Kickoff\", \"Missed by User\": true, \"Has MOM\": false, \"Has Transcript\": true, \"MOM Content\": NaN, \"Transcript Content\": \"Transcript Highlights:\\\\nMason: Let\\'s prioritize user stories with high business impact.\\\\n...\\\\n\\\\nDecisions Made:\\\\n- Include accessibility testing in QA plans.\", \"Recommended Action\": NaN}, {\"Meeting ID\": \"MTG0007\", \"Title\": \"Deliver Magnetic Experiences\", \"Date & Time\": \"5/6/2025 12:45\", \"Duration (mins)\": 30, \"Attendees\": \"Yaseen Khan, Robert Cole, Grant Dixon, Jason Miller\", \"Organizer\": \"Nicole Simpson\", \"Location/Link\": \"Board Room\", \"Meeting Type\": \"Sprint Planning\", \"Missed by User\": true, \"Has MOM\": true, \"Has Transcript\": false, \"MOM Content\": \"Meeting Summary:\\\\nThe bug triage session focused on high-priority issues from the last release.\\\\n\\\\nAction Items:\\\\n- Review vendor contract with legal.\\\\n- Send summary email to stakeholders.\\\\n- Setup a follow-up meeting with the finance department.\", \"Transcript Content\": NaN, \"Recommended Action\": NaN}, {\"Meeting ID\": \"MTG0008\", \"Title\": \"Synthesize World-Class Experiences\", \"Date & Time\": \"5/7/2025 14:30\", \"Duration (mins)\": 15, \"Attendees\": \"Yaseen Khan, Alex Hale, James Brady, Anita Johnson, Christine Moyer, Andrea Moore, John Mitchell\", \"Organizer\": \"Gloria Tate\", \"Location/Link\": \"Conference Room A\", \"Meeting Type\": \"Client Meeting\", \"Missed by User\": true, \"Has MOM\": true, \"Has Transcript\": false, \"MOM Content\": \"Meeting Summary:\\\\nNew onboarding process for remote employees was reviewed and feedback was collected.\\\\n\\\\nAction Items:\\\\n- Send summary email to stakeholders.\\\\n- Update the project plan with new timelines.\\\\n- Review vendor contract with legal.\", \"Transcript Content\": NaN, \"Recommended Action\": NaN}, {\"Meeting ID\": \"MTG0009\", \"Title\": \"Scale Cross-Media Portals\", \"Date & Time\": \"5/9/2025 14:15\", \"Duration (mins)\": 30, \"Attendees\": \"Yaseen Khan, Jeffrey Greene, Matthew Hughes, Tyler Thompson, Adam Osborne, Alexander Jones, Steven Nicholson\", \"Organizer\": \"Bianca Ramos\", \"Location/Link\": \"Microsoft Teams\", \"Meeting Type\": \"Retrospective\", \"Missed by User\": true, \"Has MOM\": true, \"Has Transcript\": false, \"MOM Content\": \"Meeting Summary:\\\\nDiscussion around budget planning for the next fiscal year took place.\\\\n\\\\nAction Items:\\\\n- Document the updated workflow and share with the team.\\\\n- Escalate unresolved issues to the IT support.\\\\n- Send summary email to stakeholders.\", \"Transcript Content\": NaN, \"Recommended Action\": NaN}, {\"Meeting ID\": \"MTG0010\", \"Title\": \"Monetize Mission-Critical Portals\", \"Date & Time\": \"5/9/2025 16:15\", \"Duration (mins)\": 45, \"Attendees\": \"Yaseen Khan, Susan Harrison, Stephen Curtis, Tiffany Kelley, Hannah Gonzalez\", \"Organizer\": \"Lauren Jenkins\", \"Location/Link\": \"Conference Room A\", \"Meeting Type\": \"Client Meeting\", \"Missed by User\": true, \"Has MOM\": true, \"Has Transcript\": false, \"MOM Content\": \"Meeting Summary:\\\\nRetrospective on the failed deployment and learnings from the incident.\\\\n\\\\nAction Items:\\\\n- Update the project plan with new timelines.\\\\n- Conduct user testing by next week.\\\\n- Escalate unresolved issues to the IT support.\\\\n- Yaseen Khan to review the audit logs upon return from leave.\", \"Transcript Content\": NaN, \"Recommended Action\": NaN}, {\"Meeting ID\": \"MTG0011\", \"Title\": \"Benchmark One-To-One Metrics\", \"Date & Time\": \"5/9/2025 16:45\", \"Duration (mins)\": 45, \"Attendees\": \"Yaseen Khan, Kevin Mccormick, Rebecca Pruitt, Karen Richardson, Paul Hahn, Daniel Ford, Stacy Watson\", \"Organizer\": \"Justin Mccoy\", \"Location/Link\": \"Zoom\", \"Meeting Type\": \"Sprint Planning\", \"Missed by User\": true, \"Has MOM\": true, \"Has Transcript\": false, \"MOM Content\": \"Meeting Summary:\\\\nThe team reviewed the quarterly sales performance and discussed areas for improvement.\\\\n\\\\nAction Items:\\\\n- Conduct user testing by next week.\\\\n- Validate changes with the QA team.\\\\n- Escalate unresolved issues to the IT support.\", \"Transcript Content\": NaN, \"Recommended Action\": NaN}, {\"Meeting ID\": \"MTG0012\", \"Title\": \"Incubate Cross-Media Niches\", \"Date & Time\": \"5/10/2025 12:45\", \"Duration (mins)\": 60, \"Attendees\": \"Yaseen Khan, Rhonda Williamson, Sandra Hunt, Marcus Everett, Bradley Tucker\", \"Organizer\": \"Leslie Harris\", \"Location/Link\": \"Zoom\", \"Meeting Type\": \"Team Sync\", \"Missed by User\": true, \"Has MOM\": false, \"Has Transcript\": true, \"MOM Content\": NaN, \"Transcript Content\": \"Transcript Highlights:\\\\nJames: Can we ensure compliance before the next audit cycle?\\\\n...\\\\n\\\\nDecisions Made:\\\\n- Schedule internal compliance check next Tuesday.\", \"Recommended Action\": NaN}, {\"Meeting ID\": \"MTG0013\", \"Title\": \"Reinvent 24/7 E-Business\", \"Date & Time\": \"5/10/2025 17:15\", \"Duration (mins)\": 45, \"Attendees\": \"Yaseen Khan, Renee Jordan, Joe Allen\", \"Organizer\": \"Leah Smith\", \"Location/Link\": \"Board Room\", \"Meeting Type\": \"Team Sync\", \"Missed by User\": true, \"Has MOM\": true, \"Has Transcript\": false, \"MOM Content\": \"Meeting Summary:\\\\nCustomer feedback from the last sprint demo was analyzed and action points were identified.\\\\n\\\\nAction Items:\\\\n- Review vendor contract with legal.\\\\n- Conduct user testing by next week.\\\\n- Escalate unresolved issues to the IT support.\\\\n- Yaseen Khan to review the integration plan upon return from leave.\", \"Transcript Content\": NaN, \"Recommended Action\": NaN}, {\"Meeting ID\": \"MTG0014\", \"Title\": \"Embrace Real-Time Action-Items\", \"Date & Time\": \"5/11/2025 10:30\", \"Duration (mins)\": 60, \"Attendees\": \"Yaseen Khan, Roger Cox, Kevin Blackwell, Elizabeth Williams, Michael Perry, Angela Ross, Eric Miranda\", \"Organizer\": \"Stacy Wilson\", \"Location/Link\": \"Board Room\", \"Meeting Type\": \"Team Sync\", \"Missed by User\": true, \"Has MOM\": false, \"Has Transcript\": true, \"MOM Content\": NaN, \"Transcript Content\": \"Transcript Highlights:\\\\nLiam: We should get Yaseen\\'s inputs on the CRM changes post his return.\\\\n...\\\\n\\\\nDecisions Made:\\\\n- Designate alternate point-of-contact during Yaseen’s leave.\", \"Recommended Action\": NaN}, {\"Meeting ID\": \"MTG0015\", \"Title\": \"Deploy Real-Time Mindshare\", \"Date & Time\": \"5/15/2025 10:45\", \"Duration (mins)\": 45, \"Attendees\": \"Yaseen Khan, James Neal, Douglas Page, Carlos Fisher, Casey Martin\", \"Organizer\": \"Andrea Barton\", \"Location/Link\": \"Board Room\", \"Meeting Type\": \"Sprint Planning\", \"Missed by User\": true, \"Has MOM\": true, \"Has Transcript\": false, \"MOM Content\": \"Meeting Summary:\\\\nSecurity audit findings were presented and resolutions were assigned.\\\\n\\\\nAction Items:\\\\n- Review vendor contract with legal.\\\\n- Conduct user testing by next week.\\\\n- Prepare detailed analytics report.\\\\n- Yaseen Khan to review the integration plan upon return from leave.\", \"Transcript Content\": NaN, \"Recommended Action\": NaN}, {\"Meeting ID\": \"MTG0016\", \"Title\": \"Disintermediate Leading-Edge Markets\", \"Date & Time\": \"5/15/2025 12:45\", \"Duration (mins)\": 45, \"Attendees\": \"Yaseen Khan, Anthony Johnson, Amy Cox, Taylor Ball, Ariana Lindsey, Jason Lynch, William Warren\", \"Organizer\": \"Zachary Myers\", \"Location/Link\": \"Microsoft Teams\", \"Meeting Type\": \"Sprint Planning\", \"Missed by User\": true, \"Has MOM\": true, \"Has Transcript\": false, \"MOM Content\": \"Meeting Summary:\\\\nTeam discussed the roadmap for the next quarter and potential staffing changes.\\\\n\\\\nAction Items:\\\\n- Conduct user testing by next week.\\\\n- Arrange a session on data compliance practices.\\\\n- Validate changes with the QA team.\\\\n- Yaseen Khan to review the audit logs upon return from leave.\", \"Transcript Content\": NaN, \"Recommended Action\": NaN}, {\"Meeting ID\": \"MTG0017\", \"Title\": \"Morph Mission-Critical Interfaces\", \"Date & Time\": \"5/19/2025 14:30\", \"Duration (mins)\": 15, \"Attendees\": \"Yaseen Khan, Destiny Valdez, Richard Frost, Scott Jackson, Austin Mack, Jose Morgan\", \"Organizer\": \"Stephanie Andrews\", \"Location/Link\": \"Conference Room A\", \"Meeting Type\": \"Retrospective\", \"Missed by User\": true, \"Has MOM\": false, \"Has Transcript\": true, \"MOM Content\": NaN, \"Transcript Content\": \"Transcript Highlights:\\\\nAva: We need a new dashboard layout for analytics reporting.\\\\n...\\\\n\\\\nDecisions Made:\\\\n- Allocate buffer time for feedback incorporation.\", \"Recommended Action\": NaN}, {\"Meeting ID\": \"MTG0018\", \"Title\": \"Strategize Granular Supply-Chains\", \"Date & Time\": \"5/21/2025 9:00\", \"Duration (mins)\": 30, \"Attendees\": \"Yaseen Khan, Bradley Palmer, Jasmin Reynolds, Cynthia Hahn, Lauren Stevenson, Mrs. Annette Lester MD, Adam Boyd\", \"Organizer\": \"Barbara Alexander\", \"Location/Link\": \"Conference Room A\", \"Meeting Type\": \"Retrospective\", \"Missed by User\": true, \"Has MOM\": true, \"Has Transcript\": false, \"MOM Content\": \"Meeting Summary:\\\\nNew onboarding process for remote employees was reviewed and feedback was collected.\\\\n\\\\nAction Items:\\\\n- Document the updated workflow and share with the team.\\\\n- Update the project plan with new timelines.\\\\n- Conduct user testing by next week.\", \"Transcript Content\": NaN, \"Recommended Action\": NaN}, {\"Meeting ID\": \"MTG0019\", \"Title\": \"Target Global Systems\", \"Date & Time\": \"5/25/2025 12:00\", \"Duration (mins)\": 45, \"Attendees\": \"Yaseen Khan, Lorraine Lopez, Kaitlin Morris\", \"Organizer\": \"Troy Ballard\", \"Location/Link\": \"Zoom\", \"Meeting Type\": \"Retrospective\", \"Missed by User\": true, \"Has MOM\": true, \"Has Transcript\": false, \"MOM Content\": \"Meeting Summary:\\\\nDiscussion around budget planning for the next fiscal year took place.\\\\n\\\\nAction Items:\\\\n- Document the updated workflow and share with the team.\\\\n- Arrange a session on data compliance practices.\\\\n- Setup a follow-up meeting with the finance department.\\\\n- Yaseen Khan to review the integration plan upon return from leave.\", \"Transcript Content\": NaN, \"Recommended Action\": NaN}, {\"Meeting ID\": \"MTG0020\", \"Title\": \"Repurpose Mission-Critical Functionalities\", \"Date & Time\": \"5/25/2025 12:45\", \"Duration (mins)\": 30, \"Attendees\": \"Yaseen Khan, Isaac Brown, Linda Myers\", \"Organizer\": \"Mrs. Jennifer Moss\", \"Location/Link\": \"Board Room\", \"Meeting Type\": \"Project Kickoff\", \"Missed by User\": true, \"Has MOM\": false, \"Has Transcript\": true, \"MOM Content\": NaN, \"Transcript Content\": \"Transcript Highlights:\\\\nMia: We’ll need to reassign some tasks if Yaseen is out longer.\\\\n...\\\\n\\\\nDecisions Made:\\\\n- Push back release by one week due to resource constraints.\", \"Recommended Action\": NaN}]', name='load_meeting_data', id='ad3c9fca-805b-47e2-b8c8-2c189a79c24d', tool_call_id='call_Wbunh3OndsXPaxG3KThYYXLa')]}"
      ]
     },
     "execution_count": 79,
     "metadata": {},
     "output_type": "execute_result"
    }
   ],
   "source": [
    "#Now lets invoke this app\n",
    "\n",
    "#invoking with a simple message\n",
    "response=app.invoke({\"messages\": [\"please load the meeting data\"]})\n",
    "response\n",
    "\n",
    "#Here we are getting the AI message from LLM (assistant) directly as this is simple query"
   ]
  },
  {
   "cell_type": "code",
   "execution_count": null,
   "id": "1cf253f0",
   "metadata": {},
   "outputs": [],
   "source": []
  },
  {
   "cell_type": "code",
   "execution_count": null,
   "id": "3a6de72e",
   "metadata": {},
   "outputs": [],
   "source": []
  }
 ],
 "metadata": {
  "kernelspec": {
   "display_name": "venv",
   "language": "python",
   "name": "python3"
  },
  "language_info": {
   "codemirror_mode": {
    "name": "ipython",
    "version": 3
   },
   "file_extension": ".py",
   "mimetype": "text/x-python",
   "name": "python",
   "nbconvert_exporter": "python",
   "pygments_lexer": "ipython3",
   "version": "3.11.0"
  }
 },
 "nbformat": 4,
 "nbformat_minor": 5
}
